{
 "cells": [
  {
   "cell_type": "code",
   "execution_count": 1,
   "id": "56b703cd",
   "metadata": {},
   "outputs": [],
   "source": [
    "import re"
   ]
  },
  {
   "cell_type": "code",
   "execution_count": 2,
   "id": "703a253d",
   "metadata": {},
   "outputs": [],
   "source": [
    "string = 'HELLO, There, How, Are, You...'"
   ]
  },
  {
   "cell_type": "code",
   "execution_count": 3,
   "id": "a31e699d",
   "metadata": {},
   "outputs": [
    {
     "data": {
      "text/plain": [
       "<re.Match object; span=(0, 5), match='HELLO'>"
      ]
     },
     "execution_count": 3,
     "metadata": {},
     "output_type": "execute_result"
    }
   ],
   "source": [
    "re.search(\"[A-Z]+\",string)"
   ]
  },
  {
   "cell_type": "code",
   "execution_count": 4,
   "id": "9514c4d7",
   "metadata": {},
   "outputs": [
    {
     "data": {
      "text/plain": [
       "['HELLO', 'T', 'H', 'A', 'Y']"
      ]
     },
     "execution_count": 4,
     "metadata": {},
     "output_type": "execute_result"
    }
   ],
   "source": [
    "re.findall(\"[A-Z]+\",string)"
   ]
  },
  {
   "cell_type": "code",
   "execution_count": 7,
   "id": "3bca09eb",
   "metadata": {},
   "outputs": [
    {
     "data": {
      "text/plain": [
       "['HE', 'LL']"
      ]
     },
     "execution_count": 7,
     "metadata": {},
     "output_type": "execute_result"
    }
   ],
   "source": [
    "re.findall(\"[A-Z]{2}\",string)"
   ]
  },
  {
   "cell_type": "code",
   "execution_count": 8,
   "id": "4f61eea1",
   "metadata": {},
   "outputs": [
    {
     "data": {
      "text/plain": [
       "['HELLO']"
      ]
     },
     "execution_count": 8,
     "metadata": {},
     "output_type": "execute_result"
    }
   ],
   "source": [
    "re.findall(\"[A-Z]{2,}\",string)"
   ]
  },
  {
   "cell_type": "code",
   "execution_count": 9,
   "id": "3174b352",
   "metadata": {},
   "outputs": [
    {
     "data": {
      "text/plain": [
       "['H',\n",
       " 'E',\n",
       " 'L',\n",
       " 'L',\n",
       " 'O',\n",
       " ',',\n",
       " ' ',\n",
       " 'T',\n",
       " 'h',\n",
       " 'e',\n",
       " 'r',\n",
       " 'e',\n",
       " ',',\n",
       " ' ',\n",
       " 'H',\n",
       " 'o',\n",
       " 'w',\n",
       " ',',\n",
       " ' ',\n",
       " 'A',\n",
       " 'r',\n",
       " 'e',\n",
       " ',',\n",
       " ' ',\n",
       " 'Y',\n",
       " 'o',\n",
       " 'u']"
      ]
     },
     "execution_count": 9,
     "metadata": {},
     "output_type": "execute_result"
    }
   ],
   "source": [
    "re.findall(\"[A-Za-z\\s,]\",string)"
   ]
  },
  {
   "cell_type": "code",
   "execution_count": 11,
   "id": "2f08451e",
   "metadata": {},
   "outputs": [
    {
     "data": {
      "text/plain": [
       "'H'"
      ]
     },
     "execution_count": 11,
     "metadata": {},
     "output_type": "execute_result"
    }
   ],
   "source": [
    "re.search(\"[A-Za-z\\s,]\",string).group()"
   ]
  },
  {
   "cell_type": "code",
   "execution_count": 12,
   "id": "6ba656a5",
   "metadata": {},
   "outputs": [
    {
     "data": {
      "text/plain": [
       "'HELLO, There, How, Are, You'"
      ]
     },
     "execution_count": 12,
     "metadata": {},
     "output_type": "execute_result"
    }
   ],
   "source": [
    "re.search(\"[A-Za-z\\s,]+\",string).group()"
   ]
  },
  {
   "cell_type": "code",
   "execution_count": 15,
   "id": "799b5440",
   "metadata": {},
   "outputs": [
    {
     "data": {
      "text/plain": [
       "['HELLO, There, How, Are, You']"
      ]
     },
     "execution_count": 15,
     "metadata": {},
     "output_type": "execute_result"
    }
   ],
   "source": [
    "re.findall(\"[A-Z?a-z\\s,]+\",string)"
   ]
  },
  {
   "cell_type": "code",
   "execution_count": 16,
   "id": "62b56545",
   "metadata": {},
   "outputs": [
    {
     "data": {
      "text/plain": [
       "['O, ', 'There, ', 'How, ', 'Are, ', 'You']"
      ]
     },
     "execution_count": 16,
     "metadata": {},
     "output_type": "execute_result"
    }
   ],
   "source": [
    "re.findall(\"[A-Z]?[a-z\\s,]+\",string)"
   ]
  },
  {
   "cell_type": "code",
   "execution_count": 20,
   "id": "398fc797",
   "metadata": {},
   "outputs": [
    {
     "data": {
      "text/plain": [
       "['...']"
      ]
     },
     "execution_count": 20,
     "metadata": {},
     "output_type": "execute_result"
    }
   ],
   "source": [
    "re.findall(\"[^A-Za-z,\\s]+\",string)"
   ]
  },
  {
   "cell_type": "code",
   "execution_count": 19,
   "id": "fe6273ac",
   "metadata": {},
   "outputs": [
    {
     "data": {
      "text/plain": [
       "'...'"
      ]
     },
     "execution_count": 19,
     "metadata": {},
     "output_type": "execute_result"
    }
   ],
   "source": [
    "re.search(\"[^A-Za-z,\\s]+\",string).group()"
   ]
  },
  {
   "cell_type": "code",
   "execution_count": 21,
   "id": "398e67a1",
   "metadata": {},
   "outputs": [
    {
     "data": {
      "text/plain": [
       "[', ', 'here, ', 'ow, ', 're, ', 'ou...']"
      ]
     },
     "execution_count": 21,
     "metadata": {},
     "output_type": "execute_result"
    }
   ],
   "source": [
    "re.findall(\"[^A-Z]+\",string)"
   ]
  },
  {
   "cell_type": "markdown",
   "id": "2c637d49",
   "metadata": {},
   "source": [
    "# Groups"
   ]
  },
  {
   "cell_type": "markdown",
   "id": "740acbba",
   "metadata": {},
   "source": [
    "### groups allow us to pull out sections of a match and store them"
   ]
  },
  {
   "cell_type": "code",
   "execution_count": 22,
   "id": "952e1b37",
   "metadata": {},
   "outputs": [],
   "source": [
    "string1 = 'John has 6 cats but I think my friend Susan has 3 dogs and Mike has 8 fishes'"
   ]
  },
  {
   "cell_type": "code",
   "execution_count": 25,
   "id": "0f77f638",
   "metadata": {},
   "outputs": [
    {
     "data": {
      "text/plain": [
       "['John has 6 cats', 'Susan has 3 dogs', 'Mike has 8 fishes']"
      ]
     },
     "execution_count": 25,
     "metadata": {},
     "output_type": "execute_result"
    }
   ],
   "source": [
    "re.findall(\"[A-Za-z]+ \\w+ \\d \\w+\",string1)"
   ]
  },
  {
   "cell_type": "code",
   "execution_count": 26,
   "id": "75191bbf",
   "metadata": {},
   "outputs": [
    {
     "data": {
      "text/plain": [
       "['John', 'Susan', 'Mike']"
      ]
     },
     "execution_count": 26,
     "metadata": {},
     "output_type": "execute_result"
    }
   ],
   "source": [
    "re.findall(\"([A-Za-z]+) \\w+ \\d \\w+\",string1)"
   ]
  },
  {
   "cell_type": "code",
   "execution_count": 27,
   "id": "42a50bd9",
   "metadata": {},
   "outputs": [
    {
     "data": {
      "text/plain": [
       "[('John', 'cats'), ('Susan', 'dogs'), ('Mike', 'fishes')]"
      ]
     },
     "execution_count": 27,
     "metadata": {},
     "output_type": "execute_result"
    }
   ],
   "source": [
    "re.findall(\"([A-Za-z]+) \\w+ \\d (\\w+)\",string1)"
   ]
  },
  {
   "cell_type": "code",
   "execution_count": 29,
   "id": "0014c29c",
   "metadata": {},
   "outputs": [
    {
     "data": {
      "text/plain": [
       "[('John', '6', 'cats'), ('Susan', '3', 'dogs'), ('Mike', '8', 'fishes')]"
      ]
     },
     "execution_count": 29,
     "metadata": {},
     "output_type": "execute_result"
    }
   ],
   "source": [
    "info = re.findall(\"([A-Za-z]+) \\w+ (\\d) (\\w+)\",string1)\n",
    "info"
   ]
  },
  {
   "cell_type": "code",
   "execution_count": 30,
   "id": "81ae0c9d",
   "metadata": {},
   "outputs": [
    {
     "data": {
      "text/plain": [
       "<zip at 0x24de059b840>"
      ]
     },
     "execution_count": 30,
     "metadata": {},
     "output_type": "execute_result"
    }
   ],
   "source": [
    "zip(info)"
   ]
  },
  {
   "cell_type": "code",
   "execution_count": 31,
   "id": "e8786dfb",
   "metadata": {},
   "outputs": [
    {
     "data": {
      "text/plain": [
       "<zip at 0x24de05698c0>"
      ]
     },
     "execution_count": 31,
     "metadata": {},
     "output_type": "execute_result"
    }
   ],
   "source": [
    "zip(*info)"
   ]
  },
  {
   "cell_type": "code",
   "execution_count": 32,
   "id": "03688400",
   "metadata": {},
   "outputs": [
    {
     "data": {
      "text/plain": [
       "[(('John', '6', 'cats'),),\n",
       " (('Susan', '3', 'dogs'),),\n",
       " (('Mike', '8', 'fishes'),)]"
      ]
     },
     "execution_count": 32,
     "metadata": {},
     "output_type": "execute_result"
    }
   ],
   "source": [
    "list(zip(info))"
   ]
  },
  {
   "cell_type": "code",
   "execution_count": 33,
   "id": "7683ad1a",
   "metadata": {},
   "outputs": [
    {
     "data": {
      "text/plain": [
       "[('John', 'Susan', 'Mike'), ('6', '3', '8'), ('cats', 'dogs', 'fishes')]"
      ]
     },
     "execution_count": 33,
     "metadata": {},
     "output_type": "execute_result"
    }
   ],
   "source": [
    "list(zip(*info))"
   ]
  },
  {
   "cell_type": "code",
   "execution_count": 34,
   "id": "f7f4b4af",
   "metadata": {},
   "outputs": [
    {
     "data": {
      "text/plain": [
       "<re.Match object; span=(0, 15), match='John has 6 cats'>"
      ]
     },
     "execution_count": 34,
     "metadata": {},
     "output_type": "execute_result"
    }
   ],
   "source": [
    "match = re.search(\"([A-Za-z]+) \\w+ (\\d) (\\w+)\",string1)\n",
    "match"
   ]
  },
  {
   "cell_type": "code",
   "execution_count": 35,
   "id": "e18d8730",
   "metadata": {},
   "outputs": [
    {
     "data": {
      "text/plain": [
       "'John has 6 cats'"
      ]
     },
     "execution_count": 35,
     "metadata": {},
     "output_type": "execute_result"
    }
   ],
   "source": [
    "match.group()"
   ]
  },
  {
   "cell_type": "code",
   "execution_count": 36,
   "id": "cb052077",
   "metadata": {},
   "outputs": [
    {
     "data": {
      "text/plain": [
       "'John has 6 cats'"
      ]
     },
     "execution_count": 36,
     "metadata": {},
     "output_type": "execute_result"
    }
   ],
   "source": [
    "match.group(0)"
   ]
  },
  {
   "cell_type": "code",
   "execution_count": 37,
   "id": "1b57259b",
   "metadata": {},
   "outputs": [
    {
     "data": {
      "text/plain": [
       "('John', '6', 'cats')"
      ]
     },
     "execution_count": 37,
     "metadata": {},
     "output_type": "execute_result"
    }
   ],
   "source": [
    "match.groups()"
   ]
  },
  {
   "cell_type": "code",
   "execution_count": 38,
   "id": "b48c9613",
   "metadata": {},
   "outputs": [
    {
     "data": {
      "text/plain": [
       "'John'"
      ]
     },
     "execution_count": 38,
     "metadata": {},
     "output_type": "execute_result"
    }
   ],
   "source": [
    "match.group(1)"
   ]
  },
  {
   "cell_type": "code",
   "execution_count": 39,
   "id": "880d4108",
   "metadata": {},
   "outputs": [
    {
     "data": {
      "text/plain": [
       "'6'"
      ]
     },
     "execution_count": 39,
     "metadata": {},
     "output_type": "execute_result"
    }
   ],
   "source": [
    "match.group(2)"
   ]
  },
  {
   "cell_type": "code",
   "execution_count": 40,
   "id": "798217a6",
   "metadata": {},
   "outputs": [
    {
     "data": {
      "text/plain": [
       "'cats'"
      ]
     },
     "execution_count": 40,
     "metadata": {},
     "output_type": "execute_result"
    }
   ],
   "source": [
    "match.group(3)"
   ]
  },
  {
   "cell_type": "code",
   "execution_count": 42,
   "id": "a670459e",
   "metadata": {},
   "outputs": [
    {
     "data": {
      "text/plain": [
       "('John', 'cats')"
      ]
     },
     "execution_count": 42,
     "metadata": {},
     "output_type": "execute_result"
    }
   ],
   "source": [
    "match.group(1,3)"
   ]
  },
  {
   "cell_type": "code",
   "execution_count": 43,
   "id": "61724198",
   "metadata": {},
   "outputs": [
    {
     "data": {
      "text/plain": [
       "(0, 15)"
      ]
     },
     "execution_count": 43,
     "metadata": {},
     "output_type": "execute_result"
    }
   ],
   "source": [
    "match.span()"
   ]
  },
  {
   "cell_type": "code",
   "execution_count": 44,
   "id": "c738f001",
   "metadata": {},
   "outputs": [
    {
     "data": {
      "text/plain": [
       "(0, 4)"
      ]
     },
     "execution_count": 44,
     "metadata": {},
     "output_type": "execute_result"
    }
   ],
   "source": [
    "match.span(1)"
   ]
  },
  {
   "cell_type": "code",
   "execution_count": 45,
   "id": "a9d3342b",
   "metadata": {},
   "outputs": [
    {
     "data": {
      "text/plain": [
       "(9, 10)"
      ]
     },
     "execution_count": 45,
     "metadata": {},
     "output_type": "execute_result"
    }
   ],
   "source": [
    "match.span(2)"
   ]
  },
  {
   "cell_type": "code",
   "execution_count": 46,
   "id": "ff0f7aa2",
   "metadata": {},
   "outputs": [
    {
     "data": {
      "text/plain": [
       "(11, 15)"
      ]
     },
     "execution_count": 46,
     "metadata": {},
     "output_type": "execute_result"
    }
   ],
   "source": [
    "match.span(3)"
   ]
  },
  {
   "cell_type": "code",
   "execution_count": 47,
   "id": "21d51dce",
   "metadata": {},
   "outputs": [
    {
     "data": {
      "text/plain": [
       "11"
      ]
     },
     "execution_count": 47,
     "metadata": {},
     "output_type": "execute_result"
    }
   ],
   "source": [
    "match.start(3)"
   ]
  },
  {
   "cell_type": "code",
   "execution_count": 49,
   "id": "5fbb2433",
   "metadata": {},
   "outputs": [
    {
     "data": {
      "text/plain": [
       "[('John', '6', 'cats'), ('Susan', '3', 'dogs'), ('Mike', '8', 'fishes')]"
      ]
     },
     "execution_count": 49,
     "metadata": {},
     "output_type": "execute_result"
    }
   ],
   "source": [
    "re.findall(\"([A-Za-z]+) \\w+ (\\d) (\\w+)\",string1)"
   ]
  },
  {
   "cell_type": "code",
   "execution_count": 50,
   "id": "721bbca7",
   "metadata": {},
   "outputs": [
    {
     "ename": "AttributeError",
     "evalue": "'list' object has no attribute 'group'",
     "output_type": "error",
     "traceback": [
      "\u001b[1;31m---------------------------------------------------------------------------\u001b[0m",
      "\u001b[1;31mAttributeError\u001b[0m                            Traceback (most recent call last)",
      "\u001b[1;32m<ipython-input-50-1df499238979>\u001b[0m in \u001b[0;36m<module>\u001b[1;34m\u001b[0m\n\u001b[1;32m----> 1\u001b[1;33m \u001b[0mre\u001b[0m\u001b[1;33m.\u001b[0m\u001b[0mfindall\u001b[0m\u001b[1;33m(\u001b[0m\u001b[1;34m\"([A-Za-z]+) \\w+ (\\d) (\\w+)\"\u001b[0m\u001b[1;33m,\u001b[0m\u001b[0mstring1\u001b[0m\u001b[1;33m)\u001b[0m\u001b[1;33m.\u001b[0m\u001b[0mgroup\u001b[0m\u001b[1;33m(\u001b[0m\u001b[1;33m)\u001b[0m\u001b[1;33m\u001b[0m\u001b[1;33m\u001b[0m\u001b[0m\n\u001b[0m",
      "\u001b[1;31mAttributeError\u001b[0m: 'list' object has no attribute 'group'"
     ]
    }
   ],
   "source": [
    "re.findall(\"([A-Za-z]+) \\w+ (\\d) (\\w+)\",string1).group()"
   ]
  },
  {
   "cell_type": "code",
   "execution_count": 51,
   "id": "8a9d0c19",
   "metadata": {},
   "outputs": [
    {
     "data": {
      "text/plain": [
       "('John', '6', 'cats')"
      ]
     },
     "execution_count": 51,
     "metadata": {},
     "output_type": "execute_result"
    }
   ],
   "source": [
    "re.findall(\"([A-Za-z]+) \\w+ (\\d) (\\w+)\",string1)[0]"
   ]
  },
  {
   "cell_type": "code",
   "execution_count": 52,
   "id": "0ae3f049",
   "metadata": {},
   "outputs": [
    {
     "ename": "AttributeError",
     "evalue": "'tuple' object has no attribute 'group'",
     "output_type": "error",
     "traceback": [
      "\u001b[1;31m---------------------------------------------------------------------------\u001b[0m",
      "\u001b[1;31mAttributeError\u001b[0m                            Traceback (most recent call last)",
      "\u001b[1;32m<ipython-input-52-6532ad9a2875>\u001b[0m in \u001b[0;36m<module>\u001b[1;34m\u001b[0m\n\u001b[1;32m----> 1\u001b[1;33m \u001b[0mre\u001b[0m\u001b[1;33m.\u001b[0m\u001b[0mfindall\u001b[0m\u001b[1;33m(\u001b[0m\u001b[1;34m\"([A-Za-z]+) \\w+ (\\d) (\\w+)\"\u001b[0m\u001b[1;33m,\u001b[0m\u001b[0mstring1\u001b[0m\u001b[1;33m)\u001b[0m\u001b[1;33m[\u001b[0m\u001b[1;36m0\u001b[0m\u001b[1;33m]\u001b[0m\u001b[1;33m.\u001b[0m\u001b[0mgroup\u001b[0m\u001b[1;33m(\u001b[0m\u001b[1;36m1\u001b[0m\u001b[1;33m)\u001b[0m\u001b[1;33m\u001b[0m\u001b[1;33m\u001b[0m\u001b[0m\n\u001b[0m",
      "\u001b[1;31mAttributeError\u001b[0m: 'tuple' object has no attribute 'group'"
     ]
    }
   ],
   "source": [
    "re.findall(\"([A-Za-z]+) \\w+ (\\d) (\\w+)\",string1)[0].group(1)"
   ]
  },
  {
   "cell_type": "code",
   "execution_count": 53,
   "id": "f486580c",
   "metadata": {},
   "outputs": [
    {
     "data": {
      "text/plain": [
       "[('John has 6 cats', 'John', '6', 'cats'),\n",
       " ('Susan has 3 dogs', 'Susan', '3', 'dogs'),\n",
       " ('Mike has 8 fishes', 'Mike', '8', 'fishes')]"
      ]
     },
     "execution_count": 53,
     "metadata": {},
     "output_type": "execute_result"
    }
   ],
   "source": [
    "re.findall(\"(([A-Za-z]+) \\w+ (\\d) (\\w+))\",string1)"
   ]
  },
  {
   "cell_type": "code",
   "execution_count": 54,
   "id": "3e07a251",
   "metadata": {},
   "outputs": [
    {
     "data": {
      "text/plain": [
       "[('John has 6 cats', 'John', '6', 'cats'),\n",
       " ('Susan has 3 dogs', 'Susan', '3', 'dogs'),\n",
       " ('Mike has 8 fishes', 'Mike', '8', 'fishes')]"
      ]
     },
     "execution_count": 54,
     "metadata": {},
     "output_type": "execute_result"
    }
   ],
   "source": [
    "data = re.findall(\"(([A-Za-z]+) \\w+ (\\d) (\\w+))\",string1)\n",
    "data"
   ]
  },
  {
   "cell_type": "code",
   "execution_count": 55,
   "id": "1c2449f0",
   "metadata": {},
   "outputs": [
    {
     "name": "stdout",
     "output_type": "stream",
     "text": [
      "John has 6 cats\n",
      "Susan has 3 dogs\n",
      "Mike has 8 fishes\n"
     ]
    }
   ],
   "source": [
    "for d in data:\n",
    "    print(d[0])"
   ]
  },
  {
   "cell_type": "code",
   "execution_count": 80,
   "id": "db7a7978",
   "metadata": {},
   "outputs": [],
   "source": [
    "it = re.finditer(\"([A-Za-z]+) \\w+ (\\d) (\\w+)\",string1)"
   ]
  },
  {
   "cell_type": "code",
   "execution_count": 65,
   "id": "d1d2ac97",
   "metadata": {},
   "outputs": [
    {
     "data": {
      "text/plain": [
       "'Susan has 3 dogs'"
      ]
     },
     "execution_count": 65,
     "metadata": {},
     "output_type": "execute_result"
    }
   ],
   "source": [
    "next(it).group() #run 3 times"
   ]
  },
  {
   "cell_type": "code",
   "execution_count": 72,
   "id": "3007938c",
   "metadata": {},
   "outputs": [
    {
     "data": {
      "text/plain": [
       "('Mike', '8', 'fishes')"
      ]
     },
     "execution_count": 72,
     "metadata": {},
     "output_type": "execute_result"
    }
   ],
   "source": [
    "next(it).groups() #run 3 times"
   ]
  },
  {
   "cell_type": "code",
   "execution_count": 77,
   "id": "e93d06ea",
   "metadata": {},
   "outputs": [
    {
     "name": "stdout",
     "output_type": "stream",
     "text": [
      "('John', 'cats', '6')\n",
      "('Susan', 'dogs', '3')\n",
      "('Mike', 'fishes', '8')\n"
     ]
    }
   ],
   "source": [
    "for element in it:\n",
    "    print(element.group(1,3,2))"
   ]
  },
  {
   "cell_type": "code",
   "execution_count": 79,
   "id": "7ad5c768",
   "metadata": {},
   "outputs": [
    {
     "name": "stdout",
     "output_type": "stream",
     "text": [
      "John has 6 cats\n",
      "Susan has 3 dogs\n",
      "Mike has 8 fishes\n"
     ]
    }
   ],
   "source": [
    "for element in it:\n",
    "    print(element.group())"
   ]
  },
  {
   "cell_type": "code",
   "execution_count": 81,
   "id": "adfd1a7a",
   "metadata": {},
   "outputs": [
    {
     "name": "stdout",
     "output_type": "stream",
     "text": [
      "('John', '6', 'cats')\n",
      "('Susan', '3', 'dogs')\n",
      "('Mike', '8', 'fishes')\n"
     ]
    }
   ],
   "source": [
    "for element in it:\n",
    "    print(element.groups())"
   ]
  },
  {
   "cell_type": "markdown",
   "id": "2e003833",
   "metadata": {},
   "source": [
    "# naming the groups"
   ]
  },
  {
   "cell_type": "code",
   "execution_count": 82,
   "id": "965e9900",
   "metadata": {},
   "outputs": [],
   "source": [
    "string2 = 'New York, New York 11369'"
   ]
  },
  {
   "cell_type": "code",
   "execution_count": 86,
   "id": "1ca06e45",
   "metadata": {},
   "outputs": [
    {
     "data": {
      "text/plain": [
       "<re.Match object; span=(0, 24), match='New York, New York 11369'>"
      ]
     },
     "execution_count": 86,
     "metadata": {},
     "output_type": "execute_result"
    }
   ],
   "source": [
    "match1 = re.search(\"([A-Za-z\\s]+), ([A-Za-z\\s]+) (\\d+)\",string2)\n",
    "match1"
   ]
  },
  {
   "cell_type": "code",
   "execution_count": 87,
   "id": "60d8c197",
   "metadata": {},
   "outputs": [
    {
     "data": {
      "text/plain": [
       "'New York, New York 11369'"
      ]
     },
     "execution_count": 87,
     "metadata": {},
     "output_type": "execute_result"
    }
   ],
   "source": [
    "match1.group()"
   ]
  },
  {
   "cell_type": "code",
   "execution_count": 88,
   "id": "95c78448",
   "metadata": {},
   "outputs": [
    {
     "data": {
      "text/plain": [
       "'New York'"
      ]
     },
     "execution_count": 88,
     "metadata": {},
     "output_type": "execute_result"
    }
   ],
   "source": [
    "match1.group(1)"
   ]
  },
  {
   "cell_type": "code",
   "execution_count": 89,
   "id": "b84153d8",
   "metadata": {},
   "outputs": [
    {
     "data": {
      "text/plain": [
       "'New York'"
      ]
     },
     "execution_count": 89,
     "metadata": {},
     "output_type": "execute_result"
    }
   ],
   "source": [
    "match1.group(2)"
   ]
  },
  {
   "cell_type": "code",
   "execution_count": 90,
   "id": "d8a0fd98",
   "metadata": {},
   "outputs": [
    {
     "data": {
      "text/plain": [
       "'11369'"
      ]
     },
     "execution_count": 90,
     "metadata": {},
     "output_type": "execute_result"
    }
   ],
   "source": [
    "match1.group(3)"
   ]
  },
  {
   "cell_type": "markdown",
   "id": "44d5d310",
   "metadata": {},
   "source": [
    "?P< >   #   to name a group-- group name inside the <>, followed by RE for group\n",
    "\n",
    "(?P<City>)      (?P<State>)    (?P<ZipCode>)"
   ]
  },
  {
   "cell_type": "code",
   "execution_count": 92,
   "id": "0bacd8be",
   "metadata": {},
   "outputs": [
    {
     "data": {
      "text/plain": [
       "<re.Match object; span=(0, 24), match='New York, New York 11369'>"
      ]
     },
     "execution_count": 92,
     "metadata": {},
     "output_type": "execute_result"
    }
   ],
   "source": [
    "re.search(\"(?P<City>[A-Za-z\\s]+), (?P<State>[A-Za-z\\s]+) (?P<Zipcode>\\d+)\",string2)"
   ]
  },
  {
   "cell_type": "code",
   "execution_count": 94,
   "id": "b5fa3954",
   "metadata": {},
   "outputs": [
    {
     "data": {
      "text/plain": [
       "re.compile(r'(?P<City>[A-Za-z\\s]+), (?P<State>[A-Za-z\\s]+) (?P<Zipcode>\\d+)',\n",
       "re.UNICODE)"
      ]
     },
     "execution_count": 94,
     "metadata": {},
     "output_type": "execute_result"
    }
   ],
   "source": [
    "pattern = re.compile(\"(?P<City>[A-Za-z\\s]+), (?P<State>[A-Za-z\\s]+) (?P<Zipcode>\\d+)\")\n",
    "pattern"
   ]
  },
  {
   "cell_type": "code",
   "execution_count": 95,
   "id": "1bf9e06f",
   "metadata": {},
   "outputs": [
    {
     "data": {
      "text/plain": [
       "<re.Match object; span=(0, 24), match='New York, New York 11369'>"
      ]
     },
     "execution_count": 95,
     "metadata": {},
     "output_type": "execute_result"
    }
   ],
   "source": [
    "match1 = re.search(pattern,string2)\n",
    "match1"
   ]
  },
  {
   "cell_type": "code",
   "execution_count": 97,
   "id": "40ec8767",
   "metadata": {},
   "outputs": [
    {
     "data": {
      "text/plain": [
       "'New York'"
      ]
     },
     "execution_count": 97,
     "metadata": {},
     "output_type": "execute_result"
    }
   ],
   "source": [
    "match1.group('City')"
   ]
  },
  {
   "cell_type": "code",
   "execution_count": 99,
   "id": "6cd278e7",
   "metadata": {},
   "outputs": [
    {
     "data": {
      "text/plain": [
       "'New York'"
      ]
     },
     "execution_count": 99,
     "metadata": {},
     "output_type": "execute_result"
    }
   ],
   "source": [
    "match1.group(\"State\")"
   ]
  },
  {
   "cell_type": "code",
   "execution_count": 100,
   "id": "e749c160",
   "metadata": {},
   "outputs": [
    {
     "data": {
      "text/plain": [
       "'11369'"
      ]
     },
     "execution_count": 100,
     "metadata": {},
     "output_type": "execute_result"
    }
   ],
   "source": [
    "match1.group('Zipcode')"
   ]
  },
  {
   "cell_type": "code",
   "execution_count": 102,
   "id": "6e26036e",
   "metadata": {},
   "outputs": [
    {
     "data": {
      "text/plain": [
       "'New York'"
      ]
     },
     "execution_count": 102,
     "metadata": {},
     "output_type": "execute_result"
    }
   ],
   "source": [
    "match1.group(1)"
   ]
  },
  {
   "cell_type": "code",
   "execution_count": 103,
   "id": "dd92f025",
   "metadata": {},
   "outputs": [
    {
     "data": {
      "text/plain": [
       "'New York, New York 11369'"
      ]
     },
     "execution_count": 103,
     "metadata": {},
     "output_type": "execute_result"
    }
   ],
   "source": [
    "match1.group()"
   ]
  },
  {
   "cell_type": "code",
   "execution_count": 104,
   "id": "e46eac0a",
   "metadata": {},
   "outputs": [
    {
     "data": {
      "text/plain": [
       "('New York', 'New York', '11369')"
      ]
     },
     "execution_count": 104,
     "metadata": {},
     "output_type": "execute_result"
    }
   ],
   "source": [
    "match1.groups()"
   ]
  },
  {
   "cell_type": "code",
   "execution_count": 105,
   "id": "0567965f",
   "metadata": {},
   "outputs": [
    {
     "data": {
      "text/plain": [
       "{'City': 'New York', 'State': 'New York', 'Zipcode': '11369'}"
      ]
     },
     "execution_count": 105,
     "metadata": {},
     "output_type": "execute_result"
    }
   ],
   "source": [
    "match1.groupdict()"
   ]
  },
  {
   "cell_type": "code",
   "execution_count": null,
   "id": "68adf1f3",
   "metadata": {},
   "outputs": [],
   "source": []
  }
 ],
 "metadata": {
  "kernelspec": {
   "display_name": "Python 3",
   "language": "python",
   "name": "python3"
  },
  "language_info": {
   "codemirror_mode": {
    "name": "ipython",
    "version": 3
   },
   "file_extension": ".py",
   "mimetype": "text/x-python",
   "name": "python",
   "nbconvert_exporter": "python",
   "pygments_lexer": "ipython3",
   "version": "3.8.8"
  }
 },
 "nbformat": 4,
 "nbformat_minor": 5
}
