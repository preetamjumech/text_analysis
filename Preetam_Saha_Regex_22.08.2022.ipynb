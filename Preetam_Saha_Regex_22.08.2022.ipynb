{
 "cells": [
  {
   "cell_type": "code",
   "execution_count": 1,
   "id": "f97862bc",
   "metadata": {},
   "outputs": [],
   "source": [
    "import re"
   ]
  },
  {
   "cell_type": "code",
   "execution_count": 2,
   "id": "c1d1114f",
   "metadata": {},
   "outputs": [],
   "source": [
    "text = \"ABC 123 XYZ 456 @&! 100\""
   ]
  },
  {
   "cell_type": "code",
   "execution_count": 3,
   "id": "65f1ddaf",
   "metadata": {},
   "outputs": [
    {
     "name": "stdout",
     "output_type": "stream",
     "text": [
      "old\n",
      "ew\n"
     ]
    }
   ],
   "source": [
    "print(\"old\\new\")"
   ]
  },
  {
   "cell_type": "code",
   "execution_count": 5,
   "id": "863f92fe",
   "metadata": {},
   "outputs": [
    {
     "name": "stdout",
     "output_type": "stream",
     "text": [
      "old\\new\n"
     ]
    }
   ],
   "source": [
    "print(r\"old\\new\")"
   ]
  },
  {
   "cell_type": "code",
   "execution_count": 6,
   "id": "24ba139f",
   "metadata": {},
   "outputs": [],
   "source": [
    "pattern = re.compile(r\"\\d\\d\\d\")"
   ]
  },
  {
   "cell_type": "code",
   "execution_count": 7,
   "id": "dd64289f",
   "metadata": {},
   "outputs": [
    {
     "name": "stdout",
     "output_type": "stream",
     "text": [
      "<re.Match object; span=(4, 7), match='123'>\n"
     ]
    }
   ],
   "source": [
    "matches = pattern.search(text)\n",
    "print(matches)"
   ]
  },
  {
   "cell_type": "code",
   "execution_count": 14,
   "id": "54360882",
   "metadata": {},
   "outputs": [],
   "source": [
    "matches = pattern.finditer(text)"
   ]
  },
  {
   "cell_type": "code",
   "execution_count": 12,
   "id": "493c1f4d",
   "metadata": {},
   "outputs": [
    {
     "name": "stdout",
     "output_type": "stream",
     "text": [
      "<re.Match object; span=(4, 7), match='123'>\n",
      "<re.Match object; span=(12, 15), match='456'>\n",
      "<re.Match object; span=(20, 23), match='100'>\n"
     ]
    }
   ],
   "source": [
    "for match in matches:\n",
    "    print(match)"
   ]
  },
  {
   "cell_type": "code",
   "execution_count": 16,
   "id": "34b72a6e",
   "metadata": {},
   "outputs": [],
   "source": [
    "matches = pattern.finditer(text)"
   ]
  },
  {
   "cell_type": "code",
   "execution_count": 17,
   "id": "787bb541",
   "metadata": {},
   "outputs": [
    {
     "name": "stdout",
     "output_type": "stream",
     "text": [
      "123\n",
      "456\n",
      "100\n"
     ]
    }
   ],
   "source": [
    "for match in matches:\n",
    "    print(match.group())"
   ]
  },
  {
   "cell_type": "code",
   "execution_count": 19,
   "id": "ed5ab165",
   "metadata": {},
   "outputs": [
    {
     "name": "stdout",
     "output_type": "stream",
     "text": [
      "123\n",
      "456\n",
      "100\n"
     ]
    }
   ],
   "source": [
    "pattern = re.compile(r\"\\d{3}\")\n",
    "matches = pattern.finditer(text)\n",
    "for match in matches:\n",
    "    print(match.group())"
   ]
  },
  {
   "cell_type": "code",
   "execution_count": 25,
   "id": "88c685cf",
   "metadata": {},
   "outputs": [],
   "source": [
    "text = '''\n",
    "Hi, today is 17-Apr-2021, yesterdy was 16-Apr-2021 and tomorrow will be 18-Apr-2021.\n",
    "My schedule is free on 26-04-2021, 06.05.2021, 16/Jun/2021.\n",
    "You can reach out to me at myname2020@dummy.com  or ask_help@demo.net & conference@demo.co.in\n",
    "You can also call me at one of the following numbers +6032-007 1212, +6099.100 3344, 017-9998800 etc.\n",
    "'''"
   ]
  },
  {
   "cell_type": "code",
   "execution_count": 28,
   "id": "2c0bee02",
   "metadata": {},
   "outputs": [
    {
     "name": "stdout",
     "output_type": "stream",
     "text": [
      "17-Apr-2021\n",
      "16-Apr-2021\n",
      "18-Apr-2021\n",
      "26-04-2021\n",
      "06.05.2021\n"
     ]
    }
   ],
   "source": [
    "datePattern = re.compile(r\"\\d{2}[-./]([a-zA-Z]{3}|\\d{2})[-./]\\d{4}\")\n",
    "matches = datePattern.finditer(text)\n",
    "for match in matches:\n",
    "    print(match.group())"
   ]
  },
  {
   "cell_type": "code",
   "execution_count": 30,
   "id": "e0762d49",
   "metadata": {},
   "outputs": [
    {
     "name": "stdout",
     "output_type": "stream",
     "text": [
      "myname2020@dummy.com\n",
      "ask_help@demo.net\n",
      "conference@demo.co.in\n"
     ]
    }
   ],
   "source": [
    "emailPattern = re.compile(r\"\\w+@[a-z]+(\\.[a-z]{2,3})+\")\n",
    "matches = emailPattern.finditer(text)\n",
    "for match in matches:\n",
    "    print(match.group())"
   ]
  },
  {
   "cell_type": "code",
   "execution_count": 32,
   "id": "9b48eb0e",
   "metadata": {},
   "outputs": [
    {
     "name": "stdout",
     "output_type": "stream",
     "text": [
      "+6032-007 1212\n",
      "+6099.100 3344\n",
      "017-9998800\n"
     ]
    }
   ],
   "source": [
    "phonePattern = re.compile(r\"(\\+\\d)?\\d{3}[-.]\\d{3}\\s?\\d{4}\")\n",
    "matches = phonePattern.finditer(text)\n",
    "for match in matches:\n",
    "    print(match.group())"
   ]
  },
  {
   "cell_type": "code",
   "execution_count": 33,
   "id": "cee66e66",
   "metadata": {},
   "outputs": [],
   "source": [
    "text = \"Hi, How are you?\""
   ]
  },
  {
   "cell_type": "code",
   "execution_count": 34,
   "id": "58f3c9cf",
   "metadata": {},
   "outputs": [
    {
     "name": "stdout",
     "output_type": "stream",
     "text": [
      "Hi, How are you?\n"
     ]
    }
   ],
   "source": [
    "pattern = re.compile(r\"^(Hi).*\\?$\")\n",
    "matches = pattern.finditer(text)\n",
    "for match in matches:\n",
    "    print(match.group())"
   ]
  },
  {
   "cell_type": "code",
   "execution_count": 35,
   "id": "a4e388ae",
   "metadata": {},
   "outputs": [],
   "source": [
    "text = \"My income in 2019 was $85,500 but now it is $120,000\""
   ]
  },
  {
   "cell_type": "code",
   "execution_count": 36,
   "id": "d8c285ed",
   "metadata": {},
   "outputs": [
    {
     "name": "stdout",
     "output_type": "stream",
     "text": [
      "$85,500\n",
      "$120,000\n"
     ]
    }
   ],
   "source": [
    "pattern = re.compile(r\"\\$[0-9]+,[0-9]+\")\n",
    "matches = pattern.finditer(text)\n",
    "for match in matches:\n",
    "    print(match.group())"
   ]
  },
  {
   "cell_type": "code",
   "execution_count": 37,
   "id": "9c3803c6",
   "metadata": {},
   "outputs": [
    {
     "name": "stdout",
     "output_type": "stream",
     "text": [
      "My income in 2019 was *********** but now it is ***********\n"
     ]
    }
   ],
   "source": [
    "matches = pattern.sub(\"***********\",text)\n",
    "print(matches)"
   ]
  },
  {
   "cell_type": "code",
   "execution_count": null,
   "id": "88804d02",
   "metadata": {},
   "outputs": [],
   "source": []
  }
 ],
 "metadata": {
  "kernelspec": {
   "display_name": "Python 3",
   "language": "python",
   "name": "python3"
  },
  "language_info": {
   "codemirror_mode": {
    "name": "ipython",
    "version": 3
   },
   "file_extension": ".py",
   "mimetype": "text/x-python",
   "name": "python",
   "nbconvert_exporter": "python",
   "pygments_lexer": "ipython3",
   "version": "3.8.8"
  }
 },
 "nbformat": 4,
 "nbformat_minor": 5
}
