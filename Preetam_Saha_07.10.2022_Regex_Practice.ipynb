{
 "cells": [
  {
   "cell_type": "code",
   "execution_count": 1,
   "id": "dc2eb847",
   "metadata": {},
   "outputs": [],
   "source": [
    "import re"
   ]
  },
  {
   "cell_type": "code",
   "execution_count": 2,
   "id": "557c9a68",
   "metadata": {},
   "outputs": [],
   "source": [
    "t1 = \"123abc456789abc123ABC\""
   ]
  },
  {
   "cell_type": "code",
   "execution_count": 3,
   "id": "1b6bbbb8",
   "metadata": {},
   "outputs": [],
   "source": [
    "pattern = r\"abc\""
   ]
  },
  {
   "cell_type": "code",
   "execution_count": 5,
   "id": "2ead5b24",
   "metadata": {},
   "outputs": [
    {
     "data": {
      "text/plain": [
       "['abc', 'abc']"
      ]
     },
     "execution_count": 5,
     "metadata": {},
     "output_type": "execute_result"
    }
   ],
   "source": [
    "re.findall(pattern,t1)"
   ]
  },
  {
   "cell_type": "code",
   "execution_count": 7,
   "id": "e37529a5",
   "metadata": {},
   "outputs": [],
   "source": [
    "matches = re.finditer(pattern,t1)"
   ]
  },
  {
   "cell_type": "code",
   "execution_count": 8,
   "id": "fd50f06d",
   "metadata": {},
   "outputs": [
    {
     "name": "stdout",
     "output_type": "stream",
     "text": [
      "<re.Match object; span=(3, 6), match='abc'>\n",
      "<re.Match object; span=(12, 15), match='abc'>\n"
     ]
    }
   ],
   "source": [
    "for match in matches:\n",
    "    print(match)"
   ]
  },
  {
   "cell_type": "code",
   "execution_count": 9,
   "id": "721442fc",
   "metadata": {},
   "outputs": [],
   "source": [
    "pattern = re.compile(r\"abc\")"
   ]
  },
  {
   "cell_type": "code",
   "execution_count": 10,
   "id": "180bc817",
   "metadata": {},
   "outputs": [
    {
     "data": {
      "text/plain": [
       "['abc', 'abc']"
      ]
     },
     "execution_count": 10,
     "metadata": {},
     "output_type": "execute_result"
    }
   ],
   "source": [
    "re.findall(pattern,t1)"
   ]
  },
  {
   "cell_type": "code",
   "execution_count": 12,
   "id": "21f6a1c7",
   "metadata": {},
   "outputs": [],
   "source": [
    "matches = re.finditer(pattern,t1)"
   ]
  },
  {
   "cell_type": "code",
   "execution_count": 13,
   "id": "29e00957",
   "metadata": {},
   "outputs": [
    {
     "name": "stdout",
     "output_type": "stream",
     "text": [
      "<re.Match object; span=(3, 6), match='abc'>\n",
      "<re.Match object; span=(12, 15), match='abc'>\n"
     ]
    }
   ],
   "source": [
    "for match in matches:\n",
    "    print(match)"
   ]
  },
  {
   "cell_type": "code",
   "execution_count": 14,
   "id": "20d19faf",
   "metadata": {},
   "outputs": [
    {
     "name": "stdout",
     "output_type": "stream",
     "text": [
      "\tHello\n"
     ]
    }
   ],
   "source": [
    "a = \"\\tHello\"\n",
    "print(a)"
   ]
  },
  {
   "cell_type": "code",
   "execution_count": 15,
   "id": "b7e415c0",
   "metadata": {},
   "outputs": [
    {
     "name": "stdout",
     "output_type": "stream",
     "text": [
      "\\tHello\n"
     ]
    }
   ],
   "source": [
    "a = r\"\\tHello\"\n",
    "print(a)"
   ]
  },
  {
   "cell_type": "code",
   "execution_count": 16,
   "id": "baf8652d",
   "metadata": {},
   "outputs": [],
   "source": [
    "matches = re.findall(pattern,t1)"
   ]
  },
  {
   "cell_type": "code",
   "execution_count": 17,
   "id": "a79b84de",
   "metadata": {},
   "outputs": [
    {
     "name": "stdout",
     "output_type": "stream",
     "text": [
      "abc\n",
      "abc\n"
     ]
    }
   ],
   "source": [
    "for match in matches:\n",
    "    print(match)"
   ]
  },
  {
   "cell_type": "markdown",
   "id": "c28ad20d",
   "metadata": {},
   "source": [
    "# match only looks pattern begining at the string"
   ]
  },
  {
   "cell_type": "code",
   "execution_count": 20,
   "id": "bc967743",
   "metadata": {},
   "outputs": [],
   "source": [
    "match = re.match(pattern,t1)"
   ]
  },
  {
   "cell_type": "code",
   "execution_count": 21,
   "id": "e3e488c1",
   "metadata": {},
   "outputs": [
    {
     "name": "stdout",
     "output_type": "stream",
     "text": [
      "None\n"
     ]
    }
   ],
   "source": [
    "print(match)"
   ]
  },
  {
   "cell_type": "code",
   "execution_count": 22,
   "id": "99999808",
   "metadata": {},
   "outputs": [],
   "source": [
    "pattern = re.compile(r\"123\")"
   ]
  },
  {
   "cell_type": "code",
   "execution_count": 24,
   "id": "fbba677e",
   "metadata": {},
   "outputs": [],
   "source": [
    "match = re.match(pattern,t1)"
   ]
  },
  {
   "cell_type": "code",
   "execution_count": 26,
   "id": "e3d6053a",
   "metadata": {},
   "outputs": [
    {
     "name": "stdout",
     "output_type": "stream",
     "text": [
      "<re.Match object; span=(0, 3), match='123'>\n"
     ]
    }
   ],
   "source": [
    "print(match)"
   ]
  },
  {
   "cell_type": "markdown",
   "id": "9c1b95e7",
   "metadata": {},
   "source": [
    "# exampales"
   ]
  },
  {
   "cell_type": "code",
   "execution_count": 27,
   "id": "2e9874c7",
   "metadata": {},
   "outputs": [],
   "source": [
    "t1 = \"123abc456789gdgdshdsh.\""
   ]
  },
  {
   "cell_type": "code",
   "execution_count": 29,
   "id": "3a1936dd",
   "metadata": {},
   "outputs": [],
   "source": [
    "pattern = re.compile(r\"\\.\")"
   ]
  },
  {
   "cell_type": "code",
   "execution_count": 30,
   "id": "641e47c4",
   "metadata": {},
   "outputs": [
    {
     "data": {
      "text/plain": [
       "['.']"
      ]
     },
     "execution_count": 30,
     "metadata": {},
     "output_type": "execute_result"
    }
   ],
   "source": [
    "re.findall(pattern,t1)"
   ]
  },
  {
   "cell_type": "code",
   "execution_count": 31,
   "id": "b281efdd",
   "metadata": {},
   "outputs": [],
   "source": [
    "t2 = \"123jbdccdhhj34353532nbcxjhch\""
   ]
  },
  {
   "cell_type": "code",
   "execution_count": 33,
   "id": "d82dbbfa",
   "metadata": {},
   "outputs": [],
   "source": [
    "pattern = re.compile(r\"ch$\")"
   ]
  },
  {
   "cell_type": "code",
   "execution_count": 34,
   "id": "be6e5428",
   "metadata": {},
   "outputs": [
    {
     "data": {
      "text/plain": [
       "['ch']"
      ]
     },
     "execution_count": 34,
     "metadata": {},
     "output_type": "execute_result"
    }
   ],
   "source": [
    "re.findall(pattern,t2)"
   ]
  },
  {
   "cell_type": "code",
   "execution_count": 35,
   "id": "4a6a16a2",
   "metadata": {},
   "outputs": [],
   "source": [
    "pattern = re.compile(r\"^jb\")"
   ]
  },
  {
   "cell_type": "code",
   "execution_count": 36,
   "id": "4b314365",
   "metadata": {},
   "outputs": [
    {
     "data": {
      "text/plain": [
       "[]"
      ]
     },
     "execution_count": 36,
     "metadata": {},
     "output_type": "execute_result"
    }
   ],
   "source": [
    "re.findall(pattern,t2)"
   ]
  },
  {
   "cell_type": "code",
   "execution_count": 37,
   "id": "d30e4c47",
   "metadata": {},
   "outputs": [],
   "source": [
    "pattern = re.compile(r\"^123\")"
   ]
  },
  {
   "cell_type": "code",
   "execution_count": 38,
   "id": "f071df86",
   "metadata": {},
   "outputs": [
    {
     "data": {
      "text/plain": [
       "['123']"
      ]
     },
     "execution_count": 38,
     "metadata": {},
     "output_type": "execute_result"
    }
   ],
   "source": [
    "re.findall(pattern,t2)"
   ]
  },
  {
   "cell_type": "code",
   "execution_count": 39,
   "id": "e4393d30",
   "metadata": {},
   "outputs": [],
   "source": [
    "t3 = \"hello 123_ heyho hohey\""
   ]
  },
  {
   "cell_type": "code",
   "execution_count": 40,
   "id": "466a51e9",
   "metadata": {},
   "outputs": [],
   "source": [
    "pattern = re.compile(r\"[0-9]+\")"
   ]
  },
  {
   "cell_type": "code",
   "execution_count": 41,
   "id": "c3443dfa",
   "metadata": {},
   "outputs": [
    {
     "data": {
      "text/plain": [
       "['123']"
      ]
     },
     "execution_count": 41,
     "metadata": {},
     "output_type": "execute_result"
    }
   ],
   "source": [
    "re.findall(pattern,t3)"
   ]
  },
  {
   "cell_type": "code",
   "execution_count": 42,
   "id": "dc0b36a2",
   "metadata": {},
   "outputs": [],
   "source": [
    "pattern = re.compile(r\"\\D+\")"
   ]
  },
  {
   "cell_type": "code",
   "execution_count": 43,
   "id": "ecd0dc21",
   "metadata": {},
   "outputs": [
    {
     "data": {
      "text/plain": [
       "['hello ', '_ heyho hohey']"
      ]
     },
     "execution_count": 43,
     "metadata": {},
     "output_type": "execute_result"
    }
   ],
   "source": [
    "re.findall(pattern,t3)"
   ]
  },
  {
   "cell_type": "code",
   "execution_count": 44,
   "id": "59fcc649",
   "metadata": {},
   "outputs": [],
   "source": [
    "pattern = re.compile(r\"\\s+\")"
   ]
  },
  {
   "cell_type": "code",
   "execution_count": 45,
   "id": "cecd7d89",
   "metadata": {},
   "outputs": [
    {
     "data": {
      "text/plain": [
       "[' ', ' ', ' ']"
      ]
     },
     "execution_count": 45,
     "metadata": {},
     "output_type": "execute_result"
    }
   ],
   "source": [
    "re.findall(pattern,t3)"
   ]
  },
  {
   "cell_type": "code",
   "execution_count": 46,
   "id": "d11b7fa0",
   "metadata": {},
   "outputs": [],
   "source": [
    "pattern = re.compile(r\"\\S+\")"
   ]
  },
  {
   "cell_type": "code",
   "execution_count": 47,
   "id": "daeccdbf",
   "metadata": {},
   "outputs": [
    {
     "data": {
      "text/plain": [
       "['hello', '123_', 'heyho', 'hohey']"
      ]
     },
     "execution_count": 47,
     "metadata": {},
     "output_type": "execute_result"
    }
   ],
   "source": [
    "re.findall(pattern,t3)"
   ]
  },
  {
   "cell_type": "code",
   "execution_count": 48,
   "id": "858f11f1",
   "metadata": {},
   "outputs": [],
   "source": [
    "pattern = re.compile(r\"\\w+\")"
   ]
  },
  {
   "cell_type": "code",
   "execution_count": 49,
   "id": "1466eac4",
   "metadata": {},
   "outputs": [
    {
     "data": {
      "text/plain": [
       "['hello', '123_', 'heyho', 'hohey']"
      ]
     },
     "execution_count": 49,
     "metadata": {},
     "output_type": "execute_result"
    }
   ],
   "source": [
    "re.findall(pattern,t3)"
   ]
  },
  {
   "cell_type": "code",
   "execution_count": 50,
   "id": "fa6c54fd",
   "metadata": {},
   "outputs": [],
   "source": [
    "pattern = re.compile(r\"\\bheyho\")"
   ]
  },
  {
   "cell_type": "code",
   "execution_count": 51,
   "id": "50a60b7b",
   "metadata": {},
   "outputs": [
    {
     "data": {
      "text/plain": [
       "['heyho']"
      ]
     },
     "execution_count": 51,
     "metadata": {},
     "output_type": "execute_result"
    }
   ],
   "source": [
    "re.findall(pattern,t3)"
   ]
  },
  {
   "cell_type": "code",
   "execution_count": 52,
   "id": "fc0f57fa",
   "metadata": {},
   "outputs": [],
   "source": [
    "pattern = re.compile(r\"\\Bheyho\")"
   ]
  },
  {
   "cell_type": "code",
   "execution_count": 53,
   "id": "59a9bcaf",
   "metadata": {},
   "outputs": [
    {
     "data": {
      "text/plain": [
       "[]"
      ]
     },
     "execution_count": 53,
     "metadata": {},
     "output_type": "execute_result"
    }
   ],
   "source": [
    "re.findall(pattern,t3)"
   ]
  },
  {
   "cell_type": "code",
   "execution_count": 54,
   "id": "1f650bf5",
   "metadata": {},
   "outputs": [],
   "source": [
    "pattern = re.compile(r\"\\bhello\")"
   ]
  },
  {
   "cell_type": "code",
   "execution_count": 55,
   "id": "2bba2a7a",
   "metadata": {},
   "outputs": [
    {
     "data": {
      "text/plain": [
       "['hello']"
      ]
     },
     "execution_count": 55,
     "metadata": {},
     "output_type": "execute_result"
    }
   ],
   "source": [
    "re.findall(pattern,t3)"
   ]
  },
  {
   "cell_type": "code",
   "execution_count": 56,
   "id": "dbe5cb8d",
   "metadata": {},
   "outputs": [],
   "source": [
    "pattern = re.compile(r\"\\Bhello\")"
   ]
  },
  {
   "cell_type": "code",
   "execution_count": 57,
   "id": "bb4ae856",
   "metadata": {},
   "outputs": [
    {
     "data": {
      "text/plain": [
       "[]"
      ]
     },
     "execution_count": 57,
     "metadata": {},
     "output_type": "execute_result"
    }
   ],
   "source": [
    "re.findall(pattern,t3)"
   ]
  },
  {
   "cell_type": "markdown",
   "id": "dbf97d02",
   "metadata": {},
   "source": [
    "# Grouping"
   ]
  },
  {
   "cell_type": "code",
   "execution_count": 58,
   "id": "96d49cf0",
   "metadata": {},
   "outputs": [],
   "source": [
    "t1 = \"Mr Sim, Mrs. Tidodhsdjsh, Mr T, Mr. Trodjdfh, Mrs Sdknjdfh\""
   ]
  },
  {
   "cell_type": "code",
   "execution_count": 75,
   "id": "f42714ba",
   "metadata": {},
   "outputs": [],
   "source": [
    "pattern = re.compile(r'Mr\\.?\\s[A-Za-z]*')"
   ]
  },
  {
   "cell_type": "code",
   "execution_count": 76,
   "id": "070af335",
   "metadata": {},
   "outputs": [
    {
     "data": {
      "text/plain": [
       "['Mr Sim', 'Mr T', 'Mr. Trodjdfh']"
      ]
     },
     "execution_count": 76,
     "metadata": {},
     "output_type": "execute_result"
    }
   ],
   "source": [
    "re.findall(pattern,t1)"
   ]
  },
  {
   "cell_type": "code",
   "execution_count": 77,
   "id": "ddb2021c",
   "metadata": {},
   "outputs": [],
   "source": [
    "pattern = re.compile(r'Mrs\\.?\\s[A-Za-z]*')"
   ]
  },
  {
   "cell_type": "code",
   "execution_count": 78,
   "id": "9af519f0",
   "metadata": {},
   "outputs": [
    {
     "data": {
      "text/plain": [
       "['Mrs. Tidodhsdjsh', 'Mrs Sdknjdfh']"
      ]
     },
     "execution_count": 78,
     "metadata": {},
     "output_type": "execute_result"
    }
   ],
   "source": [
    "re.findall(pattern,t1)"
   ]
  },
  {
   "cell_type": "code",
   "execution_count": 79,
   "id": "1171f8e2",
   "metadata": {},
   "outputs": [],
   "source": [
    "pattern = re.compile(r'(Mr|Mrs)\\.?\\s[A-Za-z]*')"
   ]
  },
  {
   "cell_type": "code",
   "execution_count": 80,
   "id": "7d55bc8d",
   "metadata": {},
   "outputs": [
    {
     "data": {
      "text/plain": [
       "['Mr', 'Mrs', 'Mr', 'Mr', 'Mrs']"
      ]
     },
     "execution_count": 80,
     "metadata": {},
     "output_type": "execute_result"
    }
   ],
   "source": [
    "re.findall(pattern,t1)"
   ]
  },
  {
   "cell_type": "code",
   "execution_count": 81,
   "id": "fdc53ab4",
   "metadata": {},
   "outputs": [],
   "source": [
    "matches = re.finditer(pattern,t1)"
   ]
  },
  {
   "cell_type": "code",
   "execution_count": 82,
   "id": "666758be",
   "metadata": {},
   "outputs": [
    {
     "name": "stdout",
     "output_type": "stream",
     "text": [
      "<re.Match object; span=(0, 6), match='Mr Sim'>\n",
      "<re.Match object; span=(8, 24), match='Mrs. Tidodhsdjsh'>\n",
      "<re.Match object; span=(26, 30), match='Mr T'>\n",
      "<re.Match object; span=(32, 44), match='Mr. Trodjdfh'>\n",
      "<re.Match object; span=(46, 58), match='Mrs Sdknjdfh'>\n"
     ]
    }
   ],
   "source": [
    "for match in matches:\n",
    "    print(match)"
   ]
  },
  {
   "cell_type": "code",
   "execution_count": null,
   "id": "e33d0abf",
   "metadata": {},
   "outputs": [],
   "source": []
  }
 ],
 "metadata": {
  "kernelspec": {
   "display_name": "Python 3",
   "language": "python",
   "name": "python3"
  },
  "language_info": {
   "codemirror_mode": {
    "name": "ipython",
    "version": 3
   },
   "file_extension": ".py",
   "mimetype": "text/x-python",
   "name": "python",
   "nbconvert_exporter": "python",
   "pygments_lexer": "ipython3",
   "version": "3.8.8"
  }
 },
 "nbformat": 4,
 "nbformat_minor": 5
}
