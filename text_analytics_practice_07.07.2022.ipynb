{
 "cells": [
  {
   "cell_type": "code",
   "execution_count": 1,
   "id": "76c5b128",
   "metadata": {},
   "outputs": [],
   "source": [
    "import re"
   ]
  },
  {
   "cell_type": "code",
   "execution_count": 2,
   "id": "7d622871",
   "metadata": {},
   "outputs": [],
   "source": [
    "text='''\n",
    "Elon musk's phone number is 9991116666, call him if you have any questions on dodgecoin. Tesla's revenue is 40 billion\n",
    "Tesla's CFO number (999)-333-7777\n",
    "'''"
   ]
  },
  {
   "cell_type": "code",
   "execution_count": 4,
   "id": "7ed88c0e",
   "metadata": {},
   "outputs": [],
   "source": [
    "pattern = '\\(\\d{3}\\)-\\d{3}-\\d{3}|\\d{10}'"
   ]
  },
  {
   "cell_type": "code",
   "execution_count": 6,
   "id": "1f173a4b",
   "metadata": {},
   "outputs": [
    {
     "data": {
      "text/plain": [
       "['9991116666', '(999)-333-777']"
      ]
     },
     "execution_count": 6,
     "metadata": {},
     "output_type": "execute_result"
    }
   ],
   "source": [
    "matches = re.findall(pattern,text)\n",
    "matches"
   ]
  },
  {
   "cell_type": "code",
   "execution_count": 7,
   "id": "822b0337",
   "metadata": {},
   "outputs": [],
   "source": [
    "text1 = '''\n",
    "Note 1 - Overview\n",
    "Tesla, Inc. (“Tesla”, the “Company”, “we”, “us” or “our”) was incorporated in the State of Delaware on July 1, 2003. We design, develop, manufacture and sell high-performance fully electric vehicles and design, manufacture, install and sell solar energy generation and energy storage\n",
    "products. Our Chief Executive Officer, as the chief operating decision maker (“CODM”), organizes our company, manages resource allocations and measures performance among two operating and reportable segments: (i) automotive and (ii) energy generation and storage.\n",
    "Beginning in the first quarter of 2021, there has been a trend in many parts of the world of increasing availability and administration of vaccines\n",
    "against COVID-19, as well as an easing of restrictions on social, business, travel and government activities and functions. On the other hand, infection\n",
    "rates and regulations continue to fluctuate in various regions and there are ongoing global impacts resulting from the pandemic, including challenges\n",
    "and increases in costs for logistics and supply chains, such as increased port congestion, intermittent supplier delays and a shortfall of semiconductor\n",
    "supply. We have also previously been affected by temporary manufacturing closures, employment and compensation adjustments and impediments to\n",
    "administrative activities supporting our product deliveries and deployments.\n",
    "Note 2 - Summary of Significant Accounting Policies\n",
    "Unaudited Interim Financial Statements\n",
    "The consolidated balance sheet as of September 30, 2021, the consolidated statements of operations, the consolidated statements of\n",
    "comprehensive income, the consolidated statements of redeemable noncontrolling interests and equity for the three and nine months ended September\n",
    "30, 2021 and 2020 and the consolidated statements of cash flows for the nine months ended September 30, 2021 and 2020, as well as other information\n",
    "disclosed in the accompanying notes, are unaudited. The consolidated balance sheet as of December 31, 2020 was derived from the audited\n",
    "consolidated financial statements as of that date. The interim consolidated financial statements and the accompanying notes should be read in\n",
    "conjunction with the annual consolidated financial statements and the accompanying notes contained in our Annual Report on Form 10-K for the year\n",
    "ended December 31, 2020.\n",
    "'''"
   ]
  },
  {
   "cell_type": "code",
   "execution_count": 10,
   "id": "df641989",
   "metadata": {},
   "outputs": [],
   "source": [
    "pattern1 = 'Note \\d - ([^\\n]*)'"
   ]
  },
  {
   "cell_type": "code",
   "execution_count": 11,
   "id": "7d5c5657",
   "metadata": {},
   "outputs": [
    {
     "data": {
      "text/plain": [
       "['Overview', 'Summary of Significant Accounting Policies']"
      ]
     },
     "execution_count": 11,
     "metadata": {},
     "output_type": "execute_result"
    }
   ],
   "source": [
    "re.findall(pattern1,text1)"
   ]
  },
  {
   "cell_type": "code",
   "execution_count": 12,
   "id": "5232d0b7",
   "metadata": {},
   "outputs": [],
   "source": [
    "pattern2 = 'Note \\d - ([^\\n]+)'"
   ]
  },
  {
   "cell_type": "code",
   "execution_count": 13,
   "id": "3aa40fdb",
   "metadata": {},
   "outputs": [
    {
     "data": {
      "text/plain": [
       "['Overview', 'Summary of Significant Accounting Policies']"
      ]
     },
     "execution_count": 13,
     "metadata": {},
     "output_type": "execute_result"
    }
   ],
   "source": [
    "re.findall(pattern2,text1)"
   ]
  },
  {
   "cell_type": "code",
   "execution_count": 14,
   "id": "798ab289",
   "metadata": {},
   "outputs": [],
   "source": [
    "text2 = '''\n",
    "The gross cost of operating lease vehicles in FY2021 Q1 was $4.85 billion.\n",
    "In previous quarter i.e. FY2020 Q4 it was $3 billion. \n",
    "'''"
   ]
  },
  {
   "cell_type": "code",
   "execution_count": 15,
   "id": "b74564da",
   "metadata": {},
   "outputs": [],
   "source": [
    "pattern3 = 'FY\\d{4} Q[1-4]'"
   ]
  },
  {
   "cell_type": "code",
   "execution_count": 16,
   "id": "9a00dbb0",
   "metadata": {},
   "outputs": [
    {
     "data": {
      "text/plain": [
       "['FY2021 Q1', 'FY2020 Q4']"
      ]
     },
     "execution_count": 16,
     "metadata": {},
     "output_type": "execute_result"
    }
   ],
   "source": [
    "re.findall(pattern3,text2)"
   ]
  },
  {
   "cell_type": "code",
   "execution_count": 17,
   "id": "cbb75c3b",
   "metadata": {},
   "outputs": [],
   "source": [
    "text3 = '''\n",
    "The gross cost of operating lease vehicles in FY2021 Q1 was $4.85 billion.\n",
    "In previous quarter i.e. fy2020 Q4 it was $3 billion. \n",
    "'''"
   ]
  },
  {
   "cell_type": "code",
   "execution_count": 18,
   "id": "781c8e1b",
   "metadata": {},
   "outputs": [
    {
     "data": {
      "text/plain": [
       "['FY2021 Q1', 'fy2020 Q4']"
      ]
     },
     "execution_count": 18,
     "metadata": {},
     "output_type": "execute_result"
    }
   ],
   "source": [
    "re.findall(pattern3,text3,flags=re.IGNORECASE)"
   ]
  },
  {
   "cell_type": "code",
   "execution_count": 22,
   "id": "5516cdd2",
   "metadata": {},
   "outputs": [],
   "source": [
    "text4 = '''\n",
    "The gross cost of operating lease vehicles in FY2021 Q1 was $4.85 billion.\n",
    "In previous quarter i.e. FY2020 Q4 it was $3 billion. \n",
    "'''"
   ]
  },
  {
   "cell_type": "code",
   "execution_count": 23,
   "id": "dac62e3a",
   "metadata": {},
   "outputs": [],
   "source": [
    "pattern4 = 'FY(\\d{4} Q[1-4])'"
   ]
  },
  {
   "cell_type": "code",
   "execution_count": 24,
   "id": "5a7a467c",
   "metadata": {},
   "outputs": [
    {
     "data": {
      "text/plain": [
       "['2021 Q1', '2020 Q4']"
      ]
     },
     "execution_count": 24,
     "metadata": {},
     "output_type": "execute_result"
    }
   ],
   "source": [
    "re.findall(pattern4,text4)"
   ]
  },
  {
   "cell_type": "code",
   "execution_count": 25,
   "id": "99dac02b",
   "metadata": {},
   "outputs": [],
   "source": [
    "text5 = '''\n",
    "Tesla's gross cost of operating lease vehicles in FY2021 Q1 was $4.85 billion. \n",
    "In previous quarter i.e. FY2020 Q4 it was $3 billion.\n",
    "'''"
   ]
  },
  {
   "cell_type": "code",
   "execution_count": 26,
   "id": "6a6336ae",
   "metadata": {},
   "outputs": [],
   "source": [
    "pattern5 = '\\$[0-9\\.]+'"
   ]
  },
  {
   "cell_type": "code",
   "execution_count": 27,
   "id": "b47a1ae8",
   "metadata": {},
   "outputs": [
    {
     "data": {
      "text/plain": [
       "['$4.85', '$3']"
      ]
     },
     "execution_count": 27,
     "metadata": {},
     "output_type": "execute_result"
    }
   ],
   "source": [
    "re.findall(pattern5,text5)"
   ]
  },
  {
   "cell_type": "code",
   "execution_count": 28,
   "id": "cfeb9c0d",
   "metadata": {},
   "outputs": [],
   "source": [
    "text6 = '''\n",
    "Tesla's gross cost of operating lease vehicles in FY2021 Q1 was $4.85 billion. \n",
    "In previous quarter i.e. FY2020 Q4 it was $3 billion.\n",
    "'''"
   ]
  },
  {
   "cell_type": "code",
   "execution_count": 29,
   "id": "3964e94f",
   "metadata": {},
   "outputs": [],
   "source": [
    "pattern6 = '\\$([0-9\\.]+)'"
   ]
  },
  {
   "cell_type": "code",
   "execution_count": 30,
   "id": "2f3bd628",
   "metadata": {},
   "outputs": [
    {
     "data": {
      "text/plain": [
       "['4.85', '3']"
      ]
     },
     "execution_count": 30,
     "metadata": {},
     "output_type": "execute_result"
    }
   ],
   "source": [
    "re.findall(pattern6,text6)"
   ]
  },
  {
   "cell_type": "code",
   "execution_count": 31,
   "id": "2f01b41c",
   "metadata": {},
   "outputs": [],
   "source": [
    "text7 = '''\n",
    "Tesla's gross cost of operating lease vehicles in FY2021 Q1 was $4.85 billion. \n",
    "In previous quarter i.e. FY2020 Q4 it was $3 billion.\n",
    "'''"
   ]
  },
  {
   "cell_type": "code",
   "execution_count": 32,
   "id": "ee256d51",
   "metadata": {},
   "outputs": [],
   "source": [
    "pattern7 = 'FY(\\d{4} Q[1-4])[^\\$]+\\$([0-9\\.]+)'"
   ]
  },
  {
   "cell_type": "code",
   "execution_count": 34,
   "id": "55e2336d",
   "metadata": {},
   "outputs": [
    {
     "data": {
      "text/plain": [
       "[('2021 Q1', '4.85'), ('2020 Q4', '3')]"
      ]
     },
     "execution_count": 34,
     "metadata": {},
     "output_type": "execute_result"
    }
   ],
   "source": [
    "matches7=re.findall(pattern7,text7)\n",
    "matches7"
   ]
  },
  {
   "cell_type": "code",
   "execution_count": 35,
   "id": "42c85d28",
   "metadata": {},
   "outputs": [
    {
     "data": {
      "text/plain": [
       "<re.Match object; span=(51, 70), match='FY2021 Q1 was $4.85'>"
      ]
     },
     "execution_count": 35,
     "metadata": {},
     "output_type": "execute_result"
    }
   ],
   "source": [
    "search8 = re.search(pattern7,text7)\n",
    "search8"
   ]
  },
  {
   "cell_type": "code",
   "execution_count": 38,
   "id": "f33cbeaa",
   "metadata": {},
   "outputs": [
    {
     "data": {
      "text/plain": [
       "('2021 Q1', '4.85')"
      ]
     },
     "execution_count": 38,
     "metadata": {},
     "output_type": "execute_result"
    }
   ],
   "source": [
    "search8.groups()"
   ]
  },
  {
   "cell_type": "code",
   "execution_count": 39,
   "id": "a4c779dc",
   "metadata": {},
   "outputs": [],
   "source": [
    "text8 = '''\n",
    "Follow our leader Elon musk on twitter here: https://twitter.com/elonmusk, more information \n",
    "on Tesla's products can be found at https://www.tesla.com/. Also here are leading influencers \n",
    "for tesla related news,\n",
    "https://twitter.com/teslarati\n",
    "https://twitter.com/dummy_tesla\n",
    "https://twitter.com/dummy_2_tesla\n",
    "'''"
   ]
  },
  {
   "cell_type": "code",
   "execution_count": 44,
   "id": "145b5cae",
   "metadata": {},
   "outputs": [],
   "source": [
    "pattern8 = 'https://twitter\\.com/([a-z_0-9]+)'"
   ]
  },
  {
   "cell_type": "code",
   "execution_count": 45,
   "id": "3e735883",
   "metadata": {},
   "outputs": [
    {
     "data": {
      "text/plain": [
       "['elonmusk', 'teslarati', 'dummy_tesla', 'dummy_2_tesla']"
      ]
     },
     "execution_count": 45,
     "metadata": {},
     "output_type": "execute_result"
    }
   ],
   "source": [
    "re.findall(pattern8,text8)"
   ]
  },
  {
   "cell_type": "code",
   "execution_count": 46,
   "id": "3af97a2b",
   "metadata": {},
   "outputs": [],
   "source": [
    "pattern8a = 'https:\\/\\/twitter\\.com\\/([a-z_0-9]+)'"
   ]
  },
  {
   "cell_type": "code",
   "execution_count": 47,
   "id": "b625f727",
   "metadata": {},
   "outputs": [
    {
     "data": {
      "text/plain": [
       "['elonmusk', 'teslarati', 'dummy_tesla', 'dummy_2_tesla']"
      ]
     },
     "execution_count": 47,
     "metadata": {},
     "output_type": "execute_result"
    }
   ],
   "source": [
    "re.findall(pattern8a,text8)"
   ]
  },
  {
   "cell_type": "code",
   "execution_count": 48,
   "id": "479d8e7e",
   "metadata": {},
   "outputs": [],
   "source": [
    "text9 = '''\n",
    "Concentration of Risk: Credit Risk\n",
    "Financial instruments that potentially subject us to a concentration of credit risk consist of cash, cash equivalents, marketable securities,\n",
    "restricted cash, accounts receivable, convertible note hedges, and interest rate swaps. Our cash balances are primarily invested in money market funds\n",
    "or on deposit at high credit quality financial institutions in the U.S. These deposits are typically in excess of insured limits. As of September 30, 2021\n",
    "and December 31, 2020, no entity represented 10% or more of our total accounts receivable balance. The risk of concentration for our convertible note\n",
    "hedges and interest rate swaps is mitigated by transacting with several highly-rated multinational banks.\n",
    "Concentration of Risk: Supply Risk\n",
    "We are dependent on our suppliers, including single source suppliers, and the inability of these suppliers to deliver necessary components of our\n",
    "products in a timely manner at prices, quality levels and volumes acceptable to us, or our inability to efficiently manage these components from these\n",
    "suppliers, could have a material adverse effect on our business, prospects, financial condition and operating results.\n",
    "'''"
   ]
  },
  {
   "cell_type": "code",
   "execution_count": 49,
   "id": "3f68c2c1",
   "metadata": {},
   "outputs": [],
   "source": [
    "pattern9 = 'Concentration of Risk: ([^\\n]+)'"
   ]
  },
  {
   "cell_type": "code",
   "execution_count": 50,
   "id": "ecc5d803",
   "metadata": {},
   "outputs": [
    {
     "data": {
      "text/plain": [
       "['Credit Risk', 'Supply Risk']"
      ]
     },
     "execution_count": 50,
     "metadata": {},
     "output_type": "execute_result"
    }
   ],
   "source": [
    "re.findall(pattern9,text9)"
   ]
  },
  {
   "cell_type": "code",
   "execution_count": 51,
   "id": "cb3a5b30",
   "metadata": {},
   "outputs": [],
   "source": [
    "text10 = '''\n",
    "Tesla's gross cost of operating lease vehicles in FY2021 Q1 was $4.85 billion.\n",
    "BMW's gross cost of operating vehicles in FY2021 S1 was $8 billion.\n",
    "'''"
   ]
  },
  {
   "cell_type": "code",
   "execution_count": 58,
   "id": "843cc9cc",
   "metadata": {},
   "outputs": [],
   "source": [
    "pattern10 = 'FY(\\d{4} (Q[1-4]|S[1-2]))'"
   ]
  },
  {
   "cell_type": "code",
   "execution_count": 59,
   "id": "151acbfd",
   "metadata": {},
   "outputs": [
    {
     "data": {
      "text/plain": [
       "[('2021 Q1', 'Q1'), ('2021 S1', 'S1')]"
      ]
     },
     "execution_count": 59,
     "metadata": {},
     "output_type": "execute_result"
    }
   ],
   "source": [
    "re.findall(pattern10,text10)"
   ]
  },
  {
   "cell_type": "code",
   "execution_count": 60,
   "id": "c48c810e",
   "metadata": {},
   "outputs": [],
   "source": [
    "pattern10a = 'FY(\\d{4} Q[1-4]|S[1-2])'"
   ]
  },
  {
   "cell_type": "code",
   "execution_count": 61,
   "id": "a065479d",
   "metadata": {},
   "outputs": [
    {
     "data": {
      "text/plain": [
       "['2021 Q1']"
      ]
     },
     "execution_count": 61,
     "metadata": {},
     "output_type": "execute_result"
    }
   ],
   "source": [
    "re.findall(pattern10a,text10)"
   ]
  },
  {
   "cell_type": "code",
   "execution_count": 62,
   "id": "1eaa8b11",
   "metadata": {},
   "outputs": [],
   "source": [
    "pattern10b = 'FY\\d{4} Q[1-4]|S[1-2]'"
   ]
  },
  {
   "cell_type": "code",
   "execution_count": 63,
   "id": "1f0f72b3",
   "metadata": {},
   "outputs": [
    {
     "data": {
      "text/plain": [
       "['FY2021 Q1', 'S1']"
      ]
     },
     "execution_count": 63,
     "metadata": {},
     "output_type": "execute_result"
    }
   ],
   "source": [
    "re.findall(pattern10b,text10)"
   ]
  },
  {
   "cell_type": "code",
   "execution_count": 64,
   "id": "d6a20c01",
   "metadata": {},
   "outputs": [],
   "source": [
    "pattern10c = 'FY(\\d{4} (?:Q[1-4]|S[1-2]))'"
   ]
  },
  {
   "cell_type": "code",
   "execution_count": 65,
   "id": "91cbeefb",
   "metadata": {},
   "outputs": [
    {
     "data": {
      "text/plain": [
       "['2021 Q1', '2021 S1']"
      ]
     },
     "execution_count": 65,
     "metadata": {},
     "output_type": "execute_result"
    }
   ],
   "source": [
    "re.findall(pattern10c,text10)"
   ]
  },
  {
   "cell_type": "code",
   "execution_count": null,
   "id": "29b2d613",
   "metadata": {},
   "outputs": [],
   "source": []
  }
 ],
 "metadata": {
  "kernelspec": {
   "display_name": "Python 3",
   "language": "python",
   "name": "python3"
  },
  "language_info": {
   "codemirror_mode": {
    "name": "ipython",
    "version": 3
   },
   "file_extension": ".py",
   "mimetype": "text/x-python",
   "name": "python",
   "nbconvert_exporter": "python",
   "pygments_lexer": "ipython3",
   "version": "3.8.8"
  }
 },
 "nbformat": 4,
 "nbformat_minor": 5
}
