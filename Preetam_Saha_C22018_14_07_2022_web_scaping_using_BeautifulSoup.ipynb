{
  "nbformat": 4,
  "nbformat_minor": 0,
  "metadata": {
    "colab": {
      "name": "Preetam_Saha_C22018_14.07.2022_web scaping using BeautifulSoup.ipynb",
      "provenance": [],
      "collapsed_sections": [],
      "authorship_tag": "ABX9TyNy1Eojf1Ub1XQfZgsVSM9S",
      "include_colab_link": true
    },
    "kernelspec": {
      "name": "python3",
      "display_name": "Python 3"
    },
    "language_info": {
      "name": "python"
    }
  },
  "cells": [
    {
      "cell_type": "markdown",
      "metadata": {
        "id": "view-in-github",
        "colab_type": "text"
      },
      "source": [
        "<a href=\"https://colab.research.google.com/github/preetamjumech/text_analysis/blob/main/Preetam_Saha_C22018_14_07_2022_web_scaping_using_BeautifulSoup.ipynb\" target=\"_parent\"><img src=\"https://colab.research.google.com/assets/colab-badge.svg\" alt=\"Open In Colab\"/></a>"
      ]
    },
    {
      "cell_type": "code",
      "execution_count": 4,
      "metadata": {
        "id": "uPdBa9lvh6sq"
      },
      "outputs": [],
      "source": [
        "link_init = \"https://www.bankbazaar.com/reviews.html?reviewPageNumber=\""
      ]
    },
    {
      "cell_type": "markdown",
      "source": [
        "selenium is used when everything is automated, this is slower than beautifulsoup.\n",
        "Here, we will use the static web page"
      ],
      "metadata": {
        "id": "pn1bozUHjn2N"
      }
    },
    {
      "cell_type": "code",
      "source": [
        "from bs4 import BeautifulSoup\n",
        "import urllib"
      ],
      "metadata": {
        "id": "Q45e8koxjy-W"
      },
      "execution_count": 3,
      "outputs": []
    },
    {
      "cell_type": "code",
      "source": [
        "url = link_init + str(1)\n",
        "headers = {\"User-Agent\":\"Mozilla/5.0 (Windows NT 10.0; Win64; x64) AppleWebKit/537.36 (KHTML, like Gecko) Chrome/103.0.0.0 Safari/537.36\"}\n",
        "req = urllib.request.Request(url=url,headers=headers)"
      ],
      "metadata": {
        "id": "EqgWjrMLlt37"
      },
      "execution_count": 5,
      "outputs": []
    },
    {
      "cell_type": "code",
      "source": [
        "doc = urllib.request.urlopen(req).read().decode(\"utf-8\")  #pure string, otherwise we would get byte code\n",
        "doc[:100]"
      ],
      "metadata": {
        "colab": {
          "base_uri": "https://localhost:8080/",
          "height": 36
        },
        "id": "yUyi0uNqnCTS",
        "outputId": "aaa3c077-318b-4bbd-f962-42ebecd7fdfc"
      },
      "execution_count": 8,
      "outputs": [
        {
          "output_type": "execute_result",
          "data": {
            "text/plain": [
              "'<!DOCTYPE html>\\n<html lang=\"en-IN\">\\n<head>\\n    <title>Reviews of Credit Cards, Loans, Insurance |Ban'"
            ],
            "application/vnd.google.colaboratory.intrinsic+json": {
              "type": "string"
            }
          },
          "metadata": {},
          "execution_count": 8
        }
      ]
    },
    {
      "cell_type": "code",
      "source": [
        "bsObj = BeautifulSoup(doc)"
      ],
      "metadata": {
        "id": "CxLMmi_DnCcu"
      },
      "execution_count": 11,
      "outputs": []
    },
    {
      "cell_type": "code",
      "source": [
        "only_reviews = bsObj.find_all(name = \"div\",attrs={\"class\":\"text_here review-desc-more\"})  #div = tag,"
      ],
      "metadata": {
        "id": "oHwEf3rVnCf0"
      },
      "execution_count": 13,
      "outputs": []
    },
    {
      "cell_type": "code",
      "source": [
        "only_reviews[0] #beautifulsoup object"
      ],
      "metadata": {
        "colab": {
          "base_uri": "https://localhost:8080/"
        },
        "id": "fgEg4WvdrclR",
        "outputId": "d6d98d67-4411-4afe-ea77-7c36c4f6951a"
      },
      "execution_count": 14,
      "outputs": [
        {
          "output_type": "execute_result",
          "data": {
            "text/plain": [
              "<div class=\"text_here review-desc-more\" itemprop=\"description\">\n",
              "                                BAJAJ FINANCE has offered a pre approved personal loan offer and I accepted for the same. I have taken this loan 2 months back. The process was smooth and submitted required docuemtns within 1.5 hrs amount was credited to my account with 1.64L with tenure period of 4 years. The rate of interest is 18% which is high. Fee was deducted of 9K. There is pre closure option after 30 days with charge of 4%. EMI need to pay the amount of 4K. The best which I would like to say is online process was done with short term. </div>"
            ]
          },
          "metadata": {},
          "execution_count": 14
        }
      ]
    },
    {
      "cell_type": "code",
      "source": [
        "only_reviews_txts = [x.text for x in only_reviews]\n",
        "only_reviews_txts[:2]"
      ],
      "metadata": {
        "colab": {
          "base_uri": "https://localhost:8080/"
        },
        "id": "V0ZQ-DA8nCjc",
        "outputId": "db5c05ee-1022-4686-bac1-839fac7cc503"
      },
      "execution_count": 16,
      "outputs": [
        {
          "output_type": "execute_result",
          "data": {
            "text/plain": [
              "['\\n                                BAJAJ FINANCE has offered a pre approved personal loan offer and I accepted for the same. I have taken this loan 2 months back. The process was smooth and submitted required docuemtns within 1.5 hrs amount was credited to my account with 1.64L with tenure period of 4 years. The rate of interest is 18% which is high. Fee was deducted of 9K. There is pre closure option after 30 days with charge of 4%. EMI need to pay the amount of 4K. The best which I would like to say is online process was done with short term. ',\n",
              " '\\n                                I got RBL card offer from BAJAJ Finance. I have been using this card past 10 months which is a life time free card. The credit limit is sufficient of 55K. EMI conversion is avail and I can convert via mobile app whenever required with nominal charge. I use this card for general purpose. Based on usage I get points but not yet redeem it.']"
            ]
          },
          "metadata": {},
          "execution_count": 16
        }
      ]
    },
    {
      "cell_type": "code",
      "source": [
        "containers = bsObj.find_all(name =\"li\",attrs = {\"class\":\"review-box\"})\n",
        "container_0 = containers[0] #container = beautifulsoup object"
      ],
      "metadata": {
        "id": "ZWQEZgH-nCmg"
      },
      "execution_count": 18,
      "outputs": []
    },
    {
      "cell_type": "code",
      "source": [
        "# a is the tag, title is the attribute\n",
        "xx=container_0.find(name = \"a\",attrs = {\"class\":\"user-review-comment js-individual-title\"})\n",
        "xx"
      ],
      "metadata": {
        "colab": {
          "base_uri": "https://localhost:8080/"
        },
        "id": "p0lVAVh3tieI",
        "outputId": "1986eab0-f8c0-495c-8b05-ed3bfb94ab14"
      },
      "execution_count": 23,
      "outputs": [
        {
          "output_type": "execute_result",
          "data": {
            "text/plain": [
              "<a class=\"user-review-comment js-individual-title\" data-action=\"click:titleLink\" data-actionloc=\"reviews:ReviewCards\" href=\"/showUserReviews-1353983-BAJAJ_FINANCE-PERSONAL_LOAN.html\" target=\"_blank\" title=\"Need to decrease interest rate \">\"Need to decrease interest rate \"</a>"
            ]
          },
          "metadata": {},
          "execution_count": 23
        }
      ]
    },
    {
      "cell_type": "code",
      "source": [
        "xx.get_attribute_list(\"title\") # this is a better practice to get an actual title"
      ],
      "metadata": {
        "colab": {
          "base_uri": "https://localhost:8080/"
        },
        "id": "fYvFvfh9vQIL",
        "outputId": "1855b438-36b5-464a-ee91-173b8c9f0ef3"
      },
      "execution_count": 24,
      "outputs": [
        {
          "output_type": "execute_result",
          "data": {
            "text/plain": [
              "['Need to decrease interest rate ']"
            ]
          },
          "metadata": {},
          "execution_count": 24
        }
      ]
    },
    {
      "cell_type": "code",
      "source": [
        "xx.text"
      ],
      "metadata": {
        "colab": {
          "base_uri": "https://localhost:8080/",
          "height": 36
        },
        "id": "o2xa7whuvgbZ",
        "outputId": "d42cc13e-1035-4081-8675-867a43356c98"
      },
      "execution_count": 22,
      "outputs": [
        {
          "output_type": "execute_result",
          "data": {
            "text/plain": [
              "'\"Need to decrease interest rate \"'"
            ],
            "application/vnd.google.colaboratory.intrinsic+json": {
              "type": "string"
            }
          },
          "metadata": {},
          "execution_count": 22
        }
      ]
    },
    {
      "cell_type": "code",
      "source": [
        "title = xx.get_attribute_list(\"title\")[0].strip()\n",
        "title"
      ],
      "metadata": {
        "colab": {
          "base_uri": "https://localhost:8080/",
          "height": 36
        },
        "id": "D7NM79aOvhvy",
        "outputId": "a9364bff-908c-482c-afb9-2fc09c661044"
      },
      "execution_count": 25,
      "outputs": [
        {
          "output_type": "execute_result",
          "data": {
            "text/plain": [
              "'Need to decrease interest rate'"
            ],
            "application/vnd.google.colaboratory.intrinsic+json": {
              "type": "string"
            }
          },
          "metadata": {},
          "execution_count": 25
        }
      ]
    },
    {
      "cell_type": "code",
      "source": [
        "yy = container_0.find(name=\"input\").get_attribute_list(\"value\")[0]\n",
        "yy"
      ],
      "metadata": {
        "colab": {
          "base_uri": "https://localhost:8080/",
          "height": 36
        },
        "id": "Pgil0Nmawn-L",
        "outputId": "246f942b-1fe3-447e-9ec1-eca164a463c2"
      },
      "execution_count": 28,
      "outputs": [
        {
          "output_type": "execute_result",
          "data": {
            "text/plain": [
              "'4.0'"
            ],
            "application/vnd.google.colaboratory.intrinsic+json": {
              "type": "string"
            }
          },
          "metadata": {},
          "execution_count": 28
        }
      ]
    },
    {
      "cell_type": "code",
      "source": [
        "user_profile = container_0.find(name=\"div\",attrs ={\"class\":\"reviewer-profile\"}).text\n",
        "user_profile"
      ],
      "metadata": {
        "colab": {
          "base_uri": "https://localhost:8080/",
          "height": 36
        },
        "id": "NsFIMpSMxTrd",
        "outputId": "ebb2e3b3-b0c2-4977-f22c-ce8fdc00ea0a"
      },
      "execution_count": 31,
      "outputs": [
        {
          "output_type": "execute_result",
          "data": {
            "text/plain": [
              "'\\nJOHN\\n                                    , chennai\\n                                    Reviewed on Mar 21, 2020'"
            ],
            "application/vnd.google.colaboratory.intrinsic+json": {
              "type": "string"
            }
          },
          "metadata": {},
          "execution_count": 31
        }
      ]
    },
    {
      "cell_type": "code",
      "source": [
        "import re"
      ],
      "metadata": {
        "id": "gyNYzP9nywZI"
      },
      "execution_count": 32,
      "outputs": []
    },
    {
      "cell_type": "code",
      "source": [
        "up = re.sub(\"Reviewed on \",\"\",user_profile)\n",
        "up"
      ],
      "metadata": {
        "colab": {
          "base_uri": "https://localhost:8080/",
          "height": 36
        },
        "id": "a4cB-csJzd2y",
        "outputId": "df02bf6a-0ab9-4441-b5b2-c7ff4d01ca61"
      },
      "execution_count": 35,
      "outputs": [
        {
          "output_type": "execute_result",
          "data": {
            "text/plain": [
              "'\\nJOHN\\n                                    , chennai\\n                                    Mar 21, 2020'"
            ],
            "application/vnd.google.colaboratory.intrinsic+json": {
              "type": "string"
            }
          },
          "metadata": {},
          "execution_count": 35
        }
      ]
    },
    {
      "cell_type": "code",
      "source": [
        "up = re.sub(\"\\\\n\",\"\",up)\n",
        "up"
      ],
      "metadata": {
        "colab": {
          "base_uri": "https://localhost:8080/",
          "height": 36
        },
        "id": "sUk98vw9zzsO",
        "outputId": "3c9b45b2-2a1a-4595-ae77-f2044585b383"
      },
      "execution_count": 37,
      "outputs": [
        {
          "output_type": "execute_result",
          "data": {
            "text/plain": [
              "'JOHN                                    , chennai                                    Mar 21, 2020'"
            ],
            "application/vnd.google.colaboratory.intrinsic+json": {
              "type": "string"
            }
          },
          "metadata": {},
          "execution_count": 37
        }
      ]
    },
    {
      "cell_type": "code",
      "source": [
        "name = re.findall(\"^[A-Z ]+\",up)[0].strip()\n",
        "name"
      ],
      "metadata": {
        "colab": {
          "base_uri": "https://localhost:8080/",
          "height": 36
        },
        "id": "lMt_mEmUz9FC",
        "outputId": "c62a0b1b-35cf-4dd2-d965-663faa117973"
      },
      "execution_count": 38,
      "outputs": [
        {
          "output_type": "execute_result",
          "data": {
            "text/plain": [
              "'JOHN'"
            ],
            "application/vnd.google.colaboratory.intrinsic+json": {
              "type": "string"
            }
          },
          "metadata": {},
          "execution_count": 38
        }
      ]
    },
    {
      "cell_type": "code",
      "source": [
        "date = re.findall(\"[A-Za-z]{3} [0-9]{2}, [0-9]{4}\",up)[0]\n",
        "date"
      ],
      "metadata": {
        "colab": {
          "base_uri": "https://localhost:8080/",
          "height": 36
        },
        "id": "MogIiHI_1XXa",
        "outputId": "a64dcebc-19e5-4142-df6a-e273b8b0eacb"
      },
      "execution_count": 43,
      "outputs": [
        {
          "output_type": "execute_result",
          "data": {
            "text/plain": [
              "'Mar 21, 2020'"
            ],
            "application/vnd.google.colaboratory.intrinsic+json": {
              "type": "string"
            }
          },
          "metadata": {},
          "execution_count": 43
        }
      ]
    },
    {
      "cell_type": "code",
      "source": [
        "up1 = re.sub(\"Mar 21, 2020\",\"\",up)\n",
        "up1"
      ],
      "metadata": {
        "colab": {
          "base_uri": "https://localhost:8080/",
          "height": 36
        },
        "id": "Udgd6qsU1_jC",
        "outputId": "bf75a78c-14e0-4cf1-b125-4db7552e4ce3"
      },
      "execution_count": 45,
      "outputs": [
        {
          "output_type": "execute_result",
          "data": {
            "text/plain": [
              "'JOHN                                    , chennai                                    '"
            ],
            "application/vnd.google.colaboratory.intrinsic+json": {
              "type": "string"
            }
          },
          "metadata": {},
          "execution_count": 45
        }
      ]
    },
    {
      "cell_type": "code",
      "source": [
        "place = re.findall(\"(?<=, )[A-Za-z ]+\",up1)[0].strip()\n",
        "place"
      ],
      "metadata": {
        "colab": {
          "base_uri": "https://localhost:8080/",
          "height": 36
        },
        "id": "9FYsxaT00lB6",
        "outputId": "2986e27a-4466-4235-ae89-c167854fb2c6"
      },
      "execution_count": 47,
      "outputs": [
        {
          "output_type": "execute_result",
          "data": {
            "text/plain": [
              "'chennai'"
            ],
            "application/vnd.google.colaboratory.intrinsic+json": {
              "type": "string"
            }
          },
          "metadata": {},
          "execution_count": 47
        }
      ]
    },
    {
      "cell_type": "code",
      "source": [
        ""
      ],
      "metadata": {
        "id": "XjyHYKwV1VXC"
      },
      "execution_count": null,
      "outputs": []
    }
  ]
}