{
 "cells": [
  {
   "cell_type": "code",
   "execution_count": 1,
   "id": "03b779e6",
   "metadata": {},
   "outputs": [],
   "source": [
    "import re"
   ]
  },
  {
   "cell_type": "code",
   "execution_count": 148,
   "id": "d83a8557",
   "metadata": {},
   "outputs": [],
   "source": [
    "target_string = \"The price of PINEAPPLE ice cream is 20\""
   ]
  },
  {
   "cell_type": "code",
   "execution_count": 151,
   "id": "39ed9475",
   "metadata": {},
   "outputs": [],
   "source": [
    "result = re.findall(r\"(\\b[A-Z]+\\b).*(\\b\\d+)\",target_string)"
   ]
  },
  {
   "cell_type": "code",
   "execution_count": 152,
   "id": "17557bff",
   "metadata": {},
   "outputs": [
    {
     "data": {
      "text/plain": [
       "[('PINEAPPLE', '20')]"
      ]
     },
     "execution_count": 152,
     "metadata": {},
     "output_type": "execute_result"
    }
   ],
   "source": [
    "result"
   ]
  },
  {
   "cell_type": "code",
   "execution_count": 11,
   "id": "785a2d43",
   "metadata": {},
   "outputs": [],
   "source": [
    "result1 = re.search(r\"(\\b[A-Z]+\\b).+(\\b\\d+\\b)\",target_string)"
   ]
  },
  {
   "cell_type": "code",
   "execution_count": 12,
   "id": "72ca2ab7",
   "metadata": {},
   "outputs": [
    {
     "data": {
      "text/plain": [
       "'PINEAPPLE'"
      ]
     },
     "execution_count": 12,
     "metadata": {},
     "output_type": "execute_result"
    }
   ],
   "source": [
    "result1.group(1)"
   ]
  },
  {
   "cell_type": "code",
   "execution_count": 13,
   "id": "7554252f",
   "metadata": {},
   "outputs": [
    {
     "data": {
      "text/plain": [
       "'20'"
      ]
     },
     "execution_count": 13,
     "metadata": {},
     "output_type": "execute_result"
    }
   ],
   "source": [
    "result1.group(2)"
   ]
  },
  {
   "cell_type": "code",
   "execution_count": 25,
   "id": "d7d8796c",
   "metadata": {},
   "outputs": [],
   "source": [
    "text = '''\n",
    "Hi, today is 17-Apr-2021, yesterdy was 16-Apr-2021 and tomorrow will be 18-Apr-2021.\n",
    "My schedule is free on 26-04-2021, 06.05.2021, 16/Jun/2021.\n",
    "You can reach out to me at myname2020@dummy.com  or ask_help@demo.net & conference@demo.co.in\n",
    "You can also call me at one of the following numbers +6032-007 1212, +6099.100 3344, 017-9998800 etc.\n",
    "'''"
   ]
  },
  {
   "cell_type": "code",
   "execution_count": 26,
   "id": "8077117f",
   "metadata": {},
   "outputs": [
    {
     "data": {
      "text/plain": [
       "['17-Apr-2021',\n",
       " '16-Apr-2021',\n",
       " '18-Apr-2021',\n",
       " '26-04-2021',\n",
       " '06.05.2021',\n",
       " '16/Jun/2021']"
      ]
     },
     "execution_count": 26,
     "metadata": {},
     "output_type": "execute_result"
    }
   ],
   "source": [
    "pattern = re.compile(r\"\\d{2}[-./][A-Za-z0-9]+[-./]\\d{4}\")\n",
    "re.findall(pattern,text)"
   ]
  },
  {
   "cell_type": "code",
   "execution_count": 27,
   "id": "29f428cb",
   "metadata": {},
   "outputs": [],
   "source": [
    "matches = re.finditer(pattern,text)"
   ]
  },
  {
   "cell_type": "code",
   "execution_count": 28,
   "id": "f0f69f61",
   "metadata": {},
   "outputs": [
    {
     "name": "stdout",
     "output_type": "stream",
     "text": [
      "17-Apr-2021\n",
      "16-Apr-2021\n",
      "18-Apr-2021\n",
      "26-04-2021\n",
      "06.05.2021\n",
      "16/Jun/2021\n"
     ]
    }
   ],
   "source": [
    "for match in matches:\n",
    "    print(match.group())"
   ]
  },
  {
   "cell_type": "code",
   "execution_count": 32,
   "id": "c9dcfa7e",
   "metadata": {},
   "outputs": [],
   "source": [
    "pattern = re.compile(r\"[a-z0-9_]+@[a-z]+\\.[a-z]+(\\.\\d+)?\")"
   ]
  },
  {
   "cell_type": "code",
   "execution_count": 34,
   "id": "3773584a",
   "metadata": {},
   "outputs": [],
   "source": [
    "matches = re.finditer(pattern,text)"
   ]
  },
  {
   "cell_type": "code",
   "execution_count": 35,
   "id": "e3e6a9f9",
   "metadata": {},
   "outputs": [
    {
     "name": "stdout",
     "output_type": "stream",
     "text": [
      "myname2020@dummy.com\n",
      "ask_help@demo.net\n",
      "conference@demo.co\n"
     ]
    }
   ],
   "source": [
    "for match in matches:\n",
    "    print(match.group())"
   ]
  },
  {
   "cell_type": "code",
   "execution_count": 45,
   "id": "5d172614",
   "metadata": {},
   "outputs": [],
   "source": [
    "pattern = re.compile(r\"(\\+)?[0-9]{3,4}[-.][0-9]+\\s?[0-9]+\")"
   ]
  },
  {
   "cell_type": "code",
   "execution_count": 46,
   "id": "f1ab47ea",
   "metadata": {},
   "outputs": [],
   "source": [
    "matches = re.finditer(pattern,text)"
   ]
  },
  {
   "cell_type": "code",
   "execution_count": 47,
   "id": "b6195e80",
   "metadata": {},
   "outputs": [
    {
     "name": "stdout",
     "output_type": "stream",
     "text": [
      "+6032-007 1212\n",
      "+6099.100 3344\n",
      "017-9998800\n"
     ]
    }
   ],
   "source": [
    "for match in matches:\n",
    "    print(match.group())"
   ]
  },
  {
   "cell_type": "code",
   "execution_count": 48,
   "id": "d1d506d5",
   "metadata": {},
   "outputs": [],
   "source": [
    "text = \"My income in 2019 was $85,500 but now it is $120,000\""
   ]
  },
  {
   "cell_type": "code",
   "execution_count": 49,
   "id": "955dc82c",
   "metadata": {},
   "outputs": [],
   "source": [
    "pattern = re.compile(r\"\\$[0-9,]+\")"
   ]
  },
  {
   "cell_type": "code",
   "execution_count": 50,
   "id": "eafde6eb",
   "metadata": {},
   "outputs": [],
   "source": [
    "matches = re.finditer(pattern,text)"
   ]
  },
  {
   "cell_type": "code",
   "execution_count": 51,
   "id": "24a09aca",
   "metadata": {},
   "outputs": [
    {
     "name": "stdout",
     "output_type": "stream",
     "text": [
      "$85,500\n",
      "$120,000\n"
     ]
    }
   ],
   "source": [
    "for match in matches:\n",
    "    print(match.group())"
   ]
  },
  {
   "cell_type": "code",
   "execution_count": 52,
   "id": "07b4b47e",
   "metadata": {},
   "outputs": [],
   "source": [
    "chat2 = 'codebasics: here it is: (123)-567-8912, abc@xyz.com'"
   ]
  },
  {
   "cell_type": "code",
   "execution_count": 53,
   "id": "4fb908de",
   "metadata": {},
   "outputs": [],
   "source": [
    "pattern = re.compile(r\"\\(\\d{3}\\)[0-9-]+\")"
   ]
  },
  {
   "cell_type": "code",
   "execution_count": 54,
   "id": "5b52f85f",
   "metadata": {},
   "outputs": [
    {
     "data": {
      "text/plain": [
       "['(123)-567-8912']"
      ]
     },
     "execution_count": 54,
     "metadata": {},
     "output_type": "execute_result"
    }
   ],
   "source": [
    "re.findall(pattern,chat2)"
   ]
  },
  {
   "cell_type": "code",
   "execution_count": 88,
   "id": "c55ddeb6",
   "metadata": {},
   "outputs": [],
   "source": [
    "chat1='codebasics: Hello, I am having an issue with my order # 412889912'"
   ]
  },
  {
   "cell_type": "code",
   "execution_count": 93,
   "id": "f3513329",
   "metadata": {},
   "outputs": [],
   "source": [
    "pattern = re.compile(r\"order[^\\d]*\\d+\")"
   ]
  },
  {
   "cell_type": "code",
   "execution_count": 94,
   "id": "3acdd0cd",
   "metadata": {},
   "outputs": [
    {
     "data": {
      "text/plain": [
       "['order # 412889912']"
      ]
     },
     "execution_count": 94,
     "metadata": {},
     "output_type": "execute_result"
    }
   ],
   "source": [
    "re.findall(pattern,chat1)"
   ]
  },
  {
   "cell_type": "code",
   "execution_count": 95,
   "id": "a984f6ae",
   "metadata": {},
   "outputs": [],
   "source": [
    "pattern1 = re.compile(r\"order[^\\d]*(\\d+)\")"
   ]
  },
  {
   "cell_type": "code",
   "execution_count": 96,
   "id": "016aa917",
   "metadata": {},
   "outputs": [
    {
     "data": {
      "text/plain": [
       "['412889912']"
      ]
     },
     "execution_count": 96,
     "metadata": {},
     "output_type": "execute_result"
    }
   ],
   "source": [
    "re.findall(pattern1,chat1)"
   ]
  },
  {
   "cell_type": "code",
   "execution_count": 103,
   "id": "ac3820f4",
   "metadata": {},
   "outputs": [],
   "source": [
    "text='''\n",
    "Born\tElon Reeve Musk\n",
    "June 28, 1971 (age 50)\n",
    "Pretoria, Transvaal, South Africa\n",
    "Citizenship\t\n",
    "South Africa (1971–present)\n",
    "Canada (1971–present)\n",
    "United States (2002–present)\n",
    "Education\tUniversity of Pennsylvania (BS, BA)\n",
    "Title\t\n",
    "Founder, CEO and Chief Engineer of SpaceX\n",
    "CEO and product architect of Tesla, Inc.\n",
    "Founder of The Boring Company and X.com (now part of PayPal)\n",
    "Co-founder of Neuralink, OpenAI, and Zip2\n",
    "Spouse(s)\t\n",
    "Justine Wilson\n",
    "​\n",
    "​(m. 2000; div. 2008)​\n",
    "Talulah Riley\n",
    "​\n",
    "​(m. 2010; div. 2012)​\n",
    "​\n",
    "​(m. 2013; div. 2016)\n",
    "'''"
   ]
  },
  {
   "cell_type": "code",
   "execution_count": 116,
   "id": "1976a11c",
   "metadata": {},
   "outputs": [],
   "source": [
    "pattern1 = re.compile(r\"Born\\t+[A-Za-z\\s]+\")"
   ]
  },
  {
   "cell_type": "code",
   "execution_count": 117,
   "id": "4f67b688",
   "metadata": {},
   "outputs": [
    {
     "data": {
      "text/plain": [
       "['Born\\tElon Reeve Musk\\nJune ']"
      ]
     },
     "execution_count": 117,
     "metadata": {},
     "output_type": "execute_result"
    }
   ],
   "source": [
    "re.findall(pattern1,text)"
   ]
  },
  {
   "cell_type": "code",
   "execution_count": 122,
   "id": "d97ec500",
   "metadata": {},
   "outputs": [],
   "source": [
    "pattern1 = re.compile(r\"Born.*\")"
   ]
  },
  {
   "cell_type": "code",
   "execution_count": 123,
   "id": "9f92cd6d",
   "metadata": {},
   "outputs": [
    {
     "data": {
      "text/plain": [
       "['Born\\tElon Reeve Musk']"
      ]
     },
     "execution_count": 123,
     "metadata": {},
     "output_type": "execute_result"
    }
   ],
   "source": [
    "re.findall(pattern1,text)"
   ]
  },
  {
   "cell_type": "code",
   "execution_count": 128,
   "id": "7b5d5d43",
   "metadata": {},
   "outputs": [],
   "source": [
    "pattern1 = re.compile(r\"Born(.*)\")"
   ]
  },
  {
   "cell_type": "code",
   "execution_count": 131,
   "id": "21383cee",
   "metadata": {},
   "outputs": [
    {
     "data": {
      "text/plain": [
       "'Elon Reeve Musk'"
      ]
     },
     "execution_count": 131,
     "metadata": {},
     "output_type": "execute_result"
    }
   ],
   "source": [
    "re.findall(pattern1,text)[0].strip()"
   ]
  },
  {
   "cell_type": "code",
   "execution_count": 125,
   "id": "06d84fa3",
   "metadata": {},
   "outputs": [],
   "source": [
    "pattern2 = re.compile(r\"age (\\d+)\")"
   ]
  },
  {
   "cell_type": "code",
   "execution_count": 127,
   "id": "08a0d737",
   "metadata": {},
   "outputs": [
    {
     "data": {
      "text/plain": [
       "['50']"
      ]
     },
     "execution_count": 127,
     "metadata": {},
     "output_type": "execute_result"
    }
   ],
   "source": [
    "re.findall(pattern2,text)"
   ]
  },
  {
   "cell_type": "code",
   "execution_count": 134,
   "id": "ad38a7de",
   "metadata": {},
   "outputs": [],
   "source": [
    "pattern3 = re.compile(r\"Born.*\\n(.*)\\(age\")"
   ]
  },
  {
   "cell_type": "code",
   "execution_count": 136,
   "id": "d9778f57",
   "metadata": {},
   "outputs": [
    {
     "data": {
      "text/plain": [
       "'June 28, 1971'"
      ]
     },
     "execution_count": 136,
     "metadata": {},
     "output_type": "execute_result"
    }
   ],
   "source": [
    "re.findall(pattern3,text)[0].strip()"
   ]
  },
  {
   "cell_type": "code",
   "execution_count": 143,
   "id": "07a76f00",
   "metadata": {},
   "outputs": [],
   "source": [
    "pattern4 = re.compile(r\"age.*\\n(.*)\")"
   ]
  },
  {
   "cell_type": "code",
   "execution_count": 144,
   "id": "571ba5c3",
   "metadata": {},
   "outputs": [
    {
     "data": {
      "text/plain": [
       "['Pretoria, Transvaal, South Africa']"
      ]
     },
     "execution_count": 144,
     "metadata": {},
     "output_type": "execute_result"
    }
   ],
   "source": [
    "re.findall(pattern4,text)"
   ]
  },
  {
   "cell_type": "code",
   "execution_count": 145,
   "id": "0438a16d",
   "metadata": {},
   "outputs": [],
   "source": [
    "string =\"\"\"U.S. stock-index futures pointed\n",
    "to a solidly higher open on Monday, \n",
    "indicating that major \n",
    "benchmarks were poised to USA reboundfrom last week’s sharp decline, \n",
    "\\nwhich represented their biggest weekly drops in months.\"\"\""
   ]
  },
  {
   "cell_type": "code",
   "execution_count": 146,
   "id": "5ec26099",
   "metadata": {},
   "outputs": [
    {
     "data": {
      "text/plain": [
       "'United States stock-index futures pointed\\nto a solidly higher open on Monday, \\nindicating that major \\nbenchmarks were poised to United States reboundfrom last week’s sharp decline, \\n\\nwhich represented their biggest weekly drops in months.'"
      ]
     },
     "execution_count": 146,
     "metadata": {},
     "output_type": "execute_result"
    }
   ],
   "source": [
    "re.sub(\"U.S.|USA|US\",\"United States\",string)"
   ]
  },
  {
   "cell_type": "code",
   "execution_count": null,
   "id": "29016f0f",
   "metadata": {},
   "outputs": [],
   "source": []
  }
 ],
 "metadata": {
  "kernelspec": {
   "display_name": "Python 3",
   "language": "python",
   "name": "python3"
  },
  "language_info": {
   "codemirror_mode": {
    "name": "ipython",
    "version": 3
   },
   "file_extension": ".py",
   "mimetype": "text/x-python",
   "name": "python",
   "nbconvert_exporter": "python",
   "pygments_lexer": "ipython3",
   "version": "3.8.8"
  }
 },
 "nbformat": 4,
 "nbformat_minor": 5
}
