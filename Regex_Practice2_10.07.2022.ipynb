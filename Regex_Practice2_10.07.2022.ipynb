{
 "cells": [
  {
   "cell_type": "code",
   "execution_count": 1,
   "id": "5ba65732",
   "metadata": {},
   "outputs": [],
   "source": [
    "import re"
   ]
  },
  {
   "cell_type": "markdown",
   "id": "5cb9a5e9",
   "metadata": {},
   "source": [
    "# re.sub"
   ]
  },
  {
   "cell_type": "code",
   "execution_count": 2,
   "id": "404c1216",
   "metadata": {},
   "outputs": [],
   "source": [
    "string =\"\"\"U.S. stock-index futures pointed\n",
    "to a solidly higher open on Monday, \n",
    "indicating that major \n",
    "benchmarks were poised to USA reboundfrom last week’s sharp decline, \n",
    "\\nwhich represented their biggest weekly drops in months.\"\"\""
   ]
  },
  {
   "cell_type": "code",
   "execution_count": 3,
   "id": "cf234c9b",
   "metadata": {},
   "outputs": [
    {
     "data": {
      "text/plain": [
       "'United States stock-index futures pointed\\nto a solidly higher open on Monday, \\nindicating that major \\nbenchmarks were poised to United States reboundfrom last week’s sharp decline, \\n\\nwhich represented their biggest weekly drops in months.'"
      ]
     },
     "execution_count": 3,
     "metadata": {},
     "output_type": "execute_result"
    }
   ],
   "source": [
    "re.sub(\"USA|U.S.|US\",\"United States\",string)"
   ]
  },
  {
   "cell_type": "code",
   "execution_count": 4,
   "id": "202678a0",
   "metadata": {},
   "outputs": [],
   "source": [
    "string1 = 'Dan has 3 snails. Mike has 4 cats. Alisa has 9 monkeys.'"
   ]
  },
  {
   "cell_type": "code",
   "execution_count": 5,
   "id": "1dc6e9ff",
   "metadata": {},
   "outputs": [
    {
     "data": {
      "text/plain": [
       "<re.Match object; span=(8, 9), match='3'>"
      ]
     },
     "execution_count": 5,
     "metadata": {},
     "output_type": "execute_result"
    }
   ],
   "source": [
    "re.search(\"\\d+\",string1)"
   ]
  },
  {
   "cell_type": "code",
   "execution_count": 6,
   "id": "79cc6e85",
   "metadata": {},
   "outputs": [
    {
     "data": {
      "text/plain": [
       "'3'"
      ]
     },
     "execution_count": 6,
     "metadata": {},
     "output_type": "execute_result"
    }
   ],
   "source": [
    "re.search(\"\\d+\",string1).group()"
   ]
  },
  {
   "cell_type": "code",
   "execution_count": 7,
   "id": "bb0b7c0d",
   "metadata": {},
   "outputs": [
    {
     "data": {
      "text/plain": [
       "<re.Match object; span=(8, 9), match='3'>"
      ]
     },
     "execution_count": 7,
     "metadata": {},
     "output_type": "execute_result"
    }
   ],
   "source": [
    "re.search(\"(\\d+)\",string1)"
   ]
  },
  {
   "cell_type": "code",
   "execution_count": 8,
   "id": "ea51244d",
   "metadata": {},
   "outputs": [
    {
     "data": {
      "text/plain": [
       "'3'"
      ]
     },
     "execution_count": 8,
     "metadata": {},
     "output_type": "execute_result"
    }
   ],
   "source": [
    "re.search(\"(\\d+)\",string1).group()"
   ]
  },
  {
   "cell_type": "code",
   "execution_count": 9,
   "id": "a8536dfd",
   "metadata": {},
   "outputs": [
    {
     "data": {
      "text/plain": [
       "['3', '4', '9']"
      ]
     },
     "execution_count": 9,
     "metadata": {},
     "output_type": "execute_result"
    }
   ],
   "source": [
    "re.findall(\"\\d+\",string1)"
   ]
  },
  {
   "cell_type": "code",
   "execution_count": 10,
   "id": "3ef45d1e",
   "metadata": {},
   "outputs": [
    {
     "data": {
      "text/plain": [
       "'Dan has 1 snails. Mike has 1 cats. Alisa has 1 monkeys.'"
      ]
     },
     "execution_count": 10,
     "metadata": {},
     "output_type": "execute_result"
    }
   ],
   "source": [
    "re.sub(\"\\d+\",\"1\",string1) #substitutes all the instances like findall"
   ]
  },
  {
   "cell_type": "code",
   "execution_count": 12,
   "id": "8ec63f69",
   "metadata": {},
   "outputs": [
    {
     "data": {
      "text/plain": [
       "\"Dan has <re.Match object; span=(8, 9), match='3'> snails. Mike has <re.Match object; span=(27, 28), match='4'> cats. Alisa has <re.Match object; span=(45, 46), match='9'> monkeys.\""
      ]
     },
     "execution_count": 12,
     "metadata": {},
     "output_type": "execute_result"
    }
   ],
   "source": [
    "re.sub(\"\\d+\",lambda x: str(x),string1) #match object"
   ]
  },
  {
   "cell_type": "code",
   "execution_count": 14,
   "id": "2c17617c",
   "metadata": {},
   "outputs": [
    {
     "data": {
      "text/plain": [
       "'Dan has 3 snails. Mike has 4 cats. Alisa has 9 monkeys.'"
      ]
     },
     "execution_count": 14,
     "metadata": {},
     "output_type": "execute_result"
    }
   ],
   "source": [
    "re.sub(\"\\d+\",lambda x: x.group(0),string1)"
   ]
  },
  {
   "cell_type": "code",
   "execution_count": 16,
   "id": "5ee2ae24",
   "metadata": {},
   "outputs": [],
   "source": [
    "def square(x):\n",
    "    return x**2"
   ]
  },
  {
   "cell_type": "code",
   "execution_count": 17,
   "id": "d8e6310b",
   "metadata": {},
   "outputs": [
    {
     "data": {
      "text/plain": [
       "'Dan has 9 snails. Mike has 16 cats. Alisa has 81 monkeys.'"
      ]
     },
     "execution_count": 17,
     "metadata": {},
     "output_type": "execute_result"
    }
   ],
   "source": [
    "re.sub(\"\\d+\",lambda x: str(square(int(x.group()))),string1)"
   ]
  },
  {
   "cell_type": "code",
   "execution_count": 18,
   "id": "12b2a9d4",
   "metadata": {},
   "outputs": [],
   "source": [
    "text1 = \"eat laugh sleep study\""
   ]
  },
  {
   "cell_type": "code",
   "execution_count": 22,
   "id": "ed7f11b3",
   "metadata": {},
   "outputs": [
    {
     "data": {
      "text/plain": [
       "'eating laughing sleeping studying'"
      ]
     },
     "execution_count": 22,
     "metadata": {},
     "output_type": "execute_result"
    }
   ],
   "source": [
    "re.sub(\"\\w+\",lambda m : m.group()+\"ing\", text1)"
   ]
  },
  {
   "cell_type": "markdown",
   "id": "b9bdbeed",
   "metadata": {},
   "source": [
    "# back referencing"
   ]
  },
  {
   "cell_type": "code",
   "execution_count": 41,
   "id": "489c45d1",
   "metadata": {},
   "outputs": [],
   "source": [
    "string1 = 'Merry Merry Christmas'"
   ]
  },
  {
   "cell_type": "code",
   "execution_count": 42,
   "id": "42840ba5",
   "metadata": {},
   "outputs": [
    {
     "data": {
      "text/plain": [
       "'rr'"
      ]
     },
     "execution_count": 42,
     "metadata": {},
     "output_type": "execute_result"
    }
   ],
   "source": [
    "re.search(r'(\\w+)(\\1)',string1).group()"
   ]
  },
  {
   "cell_type": "code",
   "execution_count": 43,
   "id": "aeb8afe5",
   "metadata": {},
   "outputs": [
    {
     "data": {
      "text/plain": [
       "'Merry Merry '"
      ]
     },
     "execution_count": 43,
     "metadata": {},
     "output_type": "execute_result"
    }
   ],
   "source": [
    "re.search(r'(\\w+ )(\\1)',string1).group()"
   ]
  },
  {
   "cell_type": "code",
   "execution_count": 44,
   "id": "fdeb7451",
   "metadata": {},
   "outputs": [
    {
     "data": {
      "text/plain": [
       "('Merry ', 'Merry ')"
      ]
     },
     "execution_count": 44,
     "metadata": {},
     "output_type": "execute_result"
    }
   ],
   "source": [
    "re.search(r'(\\w+ )(\\1)', string1).group(1,2)"
   ]
  },
  {
   "cell_type": "code",
   "execution_count": 52,
   "id": "f12564fb",
   "metadata": {},
   "outputs": [
    {
     "data": {
      "text/plain": [
       "'Happy Merry Christmas'"
      ]
     },
     "execution_count": 52,
     "metadata": {},
     "output_type": "execute_result"
    }
   ],
   "source": [
    "re.sub(r\"(\\w+ )(\\1)\",r\"Happy \\1\",string1)"
   ]
  },
  {
   "cell_type": "code",
   "execution_count": 53,
   "id": "a8f97a3d",
   "metadata": {},
   "outputs": [
    {
     "data": {
      "text/plain": [
       "'Merry  Happy Christmas'"
      ]
     },
     "execution_count": 53,
     "metadata": {},
     "output_type": "execute_result"
    }
   ],
   "source": [
    "re.sub(r\"(\\w+ )(\\1)\", r\"\\1 Happy \", string1)"
   ]
  },
  {
   "cell_type": "code",
   "execution_count": 54,
   "id": "dddcdb09",
   "metadata": {},
   "outputs": [
    {
     "data": {
      "text/plain": [
       "'Happy Merry Christmas'"
      ]
     },
     "execution_count": 54,
     "metadata": {},
     "output_type": "execute_result"
    }
   ],
   "source": [
    "re.sub(r\"(\\w+ )(\\1)\", r\"Happy \\2\", string1)"
   ]
  },
  {
   "cell_type": "markdown",
   "id": "8bddc7f8",
   "metadata": {},
   "source": [
    "# character sets quantifiers"
   ]
  },
  {
   "cell_type": "code",
   "execution_count": 55,
   "id": "829317c0",
   "metadata": {},
   "outputs": [
    {
     "data": {
      "text/plain": [
       "<re.Match object; span=(0, 4), match='abcd'>"
      ]
     },
     "execution_count": 55,
     "metadata": {},
     "output_type": "execute_result"
    }
   ],
   "source": [
    "re.search(\"abcd\",\"abcdgdjsjt hddabcdfhjd\")"
   ]
  },
  {
   "cell_type": "code",
   "execution_count": 56,
   "id": "8210d914",
   "metadata": {},
   "outputs": [
    {
     "data": {
      "text/plain": [
       "<re.Match object; span=(0, 4), match='abcd'>"
      ]
     },
     "execution_count": 56,
     "metadata": {},
     "output_type": "execute_result"
    }
   ],
   "source": [
    "re.search(\"\\w\\w\\w\\w\",\"abcdgdjsjt hddabcdfhjd\")"
   ]
  },
  {
   "cell_type": "markdown",
   "id": "cdb5633d",
   "metadata": {},
   "source": [
    "### \\w matches alpha numeric characters [a-zA-Z0-9_]"
   ]
  },
  {
   "cell_type": "code",
   "execution_count": 57,
   "id": "96464451",
   "metadata": {},
   "outputs": [
    {
     "data": {
      "text/plain": [
       "<re.Match object; span=(0, 4), match='abcd'>"
      ]
     },
     "execution_count": 57,
     "metadata": {},
     "output_type": "execute_result"
    }
   ],
   "source": [
    "re.search(r\"\\w\\w\\w\\w\",\"abcdgdjsjt hddabcdfhjd\")"
   ]
  },
  {
   "cell_type": "code",
   "execution_count": 59,
   "id": "16c7fe4a",
   "metadata": {},
   "outputs": [
    {
     "data": {
      "text/plain": [
       "<re.Match object; span=(0, 4), match='abcd'>"
      ]
     },
     "execution_count": 59,
     "metadata": {},
     "output_type": "execute_result"
    }
   ],
   "source": [
    "re.search(r\"\\w\\w\\w\\w\",\"abcdgdjsjt hddabcdfhjd\")"
   ]
  },
  {
   "cell_type": "code",
   "execution_count": 63,
   "id": "c8e92c3d",
   "metadata": {},
   "outputs": [
    {
     "data": {
      "text/plain": [
       "'.'"
      ]
     },
     "execution_count": 63,
     "metadata": {},
     "output_type": "execute_result"
    }
   ],
   "source": [
    "re.search(\"\\.\",\"abc.com\").group()"
   ]
  },
  {
   "cell_type": "code",
   "execution_count": 64,
   "id": "6b1c7bbc",
   "metadata": {},
   "outputs": [
    {
     "data": {
      "text/plain": [
       "'.'"
      ]
     },
     "execution_count": 64,
     "metadata": {},
     "output_type": "execute_result"
    }
   ],
   "source": [
    "re.search(r\"\\.\",\"abc.com\").group()"
   ]
  },
  {
   "cell_type": "code",
   "execution_count": 65,
   "id": "ce3c5c02",
   "metadata": {},
   "outputs": [
    {
     "name": "stdout",
     "output_type": "stream",
     "text": [
      "\n",
      "\n"
     ]
    }
   ],
   "source": [
    "print(\"\\n\")"
   ]
  },
  {
   "cell_type": "code",
   "execution_count": 66,
   "id": "b932bfbf",
   "metadata": {},
   "outputs": [
    {
     "name": "stdout",
     "output_type": "stream",
     "text": [
      "\\n\n"
     ]
    }
   ],
   "source": [
    "print(r\"\\n\") # raw string "
   ]
  },
  {
   "cell_type": "code",
   "execution_count": 67,
   "id": "2019b4d4",
   "metadata": {},
   "outputs": [
    {
     "name": "stdout",
     "output_type": "stream",
     "text": [
      "\b\n"
     ]
    }
   ],
   "source": [
    "print(\"\\b\")"
   ]
  },
  {
   "cell_type": "code",
   "execution_count": 68,
   "id": "52d61e78",
   "metadata": {},
   "outputs": [
    {
     "name": "stdout",
     "output_type": "stream",
     "text": [
      "\\b\n"
     ]
    }
   ],
   "source": [
    "print(r\"\\b\") #raw string"
   ]
  },
  {
   "cell_type": "code",
   "execution_count": 69,
   "id": "7d2488c7",
   "metadata": {},
   "outputs": [
    {
     "data": {
      "text/plain": [
       "<re.Match object; span=(0, 4), match='ab_9'>"
      ]
     },
     "execution_count": 69,
     "metadata": {},
     "output_type": "execute_result"
    }
   ],
   "source": [
    "re.search(r\"\\w\\w\\w\\w\", \"ab_9hg kuhdfhdfyr c\")"
   ]
  },
  {
   "cell_type": "code",
   "execution_count": 71,
   "id": "5dc99a84",
   "metadata": {},
   "outputs": [
    {
     "data": {
      "text/plain": [
       "<re.Match object; span=(4, 7), match='djh'>"
      ]
     },
     "execution_count": 71,
     "metadata": {},
     "output_type": "execute_result"
    }
   ],
   "source": [
    "re.search(r\"\\w\\w\\w\",\"a3.!djh yeye cxjud\")"
   ]
  },
  {
   "cell_type": "code",
   "execution_count": 72,
   "id": "7898dca1",
   "metadata": {},
   "outputs": [],
   "source": [
    "re.match(r\"\\w\\w\\w\",\"a3.!djh yeye cxjud\")"
   ]
  },
  {
   "cell_type": "code",
   "execution_count": 73,
   "id": "4aa4671b",
   "metadata": {},
   "outputs": [],
   "source": [
    "re.search(r'\\w\\w\\w', \"a3.!-!\")  #doesn't match symbols only numbers and characters"
   ]
  },
  {
   "cell_type": "code",
   "execution_count": 74,
   "id": "df6b6f1c",
   "metadata": {},
   "outputs": [
    {
     "data": {
      "text/plain": [
       "<re.Match object; span=(0, 3), match='a3.'>"
      ]
     },
     "execution_count": 74,
     "metadata": {},
     "output_type": "execute_result"
    }
   ],
   "source": [
    "re.search(r\"\\w\\w\\W\",\"a3.!-!\") #\\W is opposite of \\w"
   ]
  },
  {
   "cell_type": "code",
   "execution_count": 75,
   "id": "a09a901b",
   "metadata": {},
   "outputs": [
    {
     "data": {
      "text/plain": [
       "'a3.'"
      ]
     },
     "execution_count": 75,
     "metadata": {},
     "output_type": "execute_result"
    }
   ],
   "source": [
    "re.search(r\"\\w\\w\\W\",\"a3.!-!\").group()"
   ]
  },
  {
   "cell_type": "code",
   "execution_count": 76,
   "id": "52a0a14b",
   "metadata": {},
   "outputs": [
    {
     "data": {
      "text/plain": [
       "'a3 '"
      ]
     },
     "execution_count": 76,
     "metadata": {},
     "output_type": "execute_result"
    }
   ],
   "source": [
    "re.search(r\"\\w\\w\\W\",\"a3 .!-!\").group()"
   ]
  },
  {
   "cell_type": "markdown",
   "id": "99b97512",
   "metadata": {},
   "source": [
    "# quantifiers"
   ]
  },
  {
   "cell_type": "markdown",
   "id": "013b1b5e",
   "metadata": {},
   "source": [
    "### quantifiers\n",
    "### '+'   = 1 or more\n",
    "### '?' =  0 or 1\n",
    "### '*' =  0 or more\n",
    "### '{n,m}'  = n to m repetitions {,3}, {3,}"
   ]
  },
  {
   "cell_type": "code",
   "execution_count": 77,
   "id": "fc993554",
   "metadata": {},
   "outputs": [
    {
     "data": {
      "text/plain": [
       "<re.Match object; span=(0, 9), match='abcgfdres'>"
      ]
     },
     "execution_count": 77,
     "metadata": {},
     "output_type": "execute_result"
    }
   ],
   "source": [
    "re.search(r\"\\w+\", \"abcgfdres hfyueruy\")"
   ]
  },
  {
   "cell_type": "code",
   "execution_count": 80,
   "id": "da7fe9cb",
   "metadata": {},
   "outputs": [
    {
     "data": {
      "text/plain": [
       "<re.Match object; span=(0, 20), match='aghasghgh     kdjhfh'>"
      ]
     },
     "execution_count": 80,
     "metadata": {},
     "output_type": "execute_result"
    }
   ],
   "source": [
    "re.search(r\"\\w+\\W+\\w+\",\"aghasghgh     kdjhfh jhdhjd\")"
   ]
  },
  {
   "cell_type": "code",
   "execution_count": 81,
   "id": "e54f68b8",
   "metadata": {},
   "outputs": [
    {
     "data": {
      "text/plain": [
       "['aghasghgh     kdjhfh']"
      ]
     },
     "execution_count": 81,
     "metadata": {},
     "output_type": "execute_result"
    }
   ],
   "source": [
    "re.findall(r\"\\w+\\W+\\w+\",\"aghasghgh     kdjhfh jhdhjd\")"
   ]
  },
  {
   "cell_type": "code",
   "execution_count": 82,
   "id": "954a5338",
   "metadata": {},
   "outputs": [
    {
     "data": {
      "text/plain": [
       "<re.Match object; span=(0, 22), match='anbsdghdsaghdsaghdshag'>"
      ]
     },
     "execution_count": 82,
     "metadata": {},
     "output_type": "execute_result"
    }
   ],
   "source": [
    "re.search(r\"\\w+\\W?\\w+\",\"anbsdghdsaghdsaghdshag\")"
   ]
  },
  {
   "cell_type": "code",
   "execution_count": 83,
   "id": "65cd9670",
   "metadata": {},
   "outputs": [
    {
     "data": {
      "text/plain": [
       "<re.Match object; span=(0, 13), match='agsgdv jdkfkh'>"
      ]
     },
     "execution_count": 83,
     "metadata": {},
     "output_type": "execute_result"
    }
   ],
   "source": [
    "re.search(r\"\\w+\\W?\\w+\",\"agsgdv jdkfkh\")"
   ]
  },
  {
   "cell_type": "code",
   "execution_count": 84,
   "id": "8e97353c",
   "metadata": {},
   "outputs": [
    {
     "data": {
      "text/plain": [
       "<re.Match object; span=(0, 7), match='xchhgcx'>"
      ]
     },
     "execution_count": 84,
     "metadata": {},
     "output_type": "execute_result"
    }
   ],
   "source": [
    "re.search(r\"\\w+\\W?\\w+\",\"xchhgcx  jchcdgd\") ###### 2 spaces"
   ]
  },
  {
   "cell_type": "code",
   "execution_count": 85,
   "id": "b890df07",
   "metadata": {},
   "outputs": [],
   "source": [
    "re.search(r\"\\w+\\W+\\w+\",\"xchhgcxjchcdgd\") ###### "
   ]
  },
  {
   "cell_type": "code",
   "execution_count": 86,
   "id": "b38dc659",
   "metadata": {},
   "outputs": [
    {
     "data": {
      "text/plain": [
       "<re.Match object; span=(0, 3), match='aaa'>"
      ]
     },
     "execution_count": 86,
     "metadata": {},
     "output_type": "execute_result"
    }
   ],
   "source": [
    "re.search(r\"\\w{3}\",\"aaaaaaaaa\")"
   ]
  },
  {
   "cell_type": "code",
   "execution_count": 87,
   "id": "4cc14bcb",
   "metadata": {},
   "outputs": [
    {
     "data": {
      "text/plain": [
       "<re.Match object; span=(0, 4), match='aaaa'>"
      ]
     },
     "execution_count": 87,
     "metadata": {},
     "output_type": "execute_result"
    }
   ],
   "source": [
    "re.search(r\"\\w{1,4}\",\"aaaaaaaaaaa\")"
   ]
  },
  {
   "cell_type": "code",
   "execution_count": 89,
   "id": "80a09763",
   "metadata": {},
   "outputs": [
    {
     "data": {
      "text/plain": [
       "<re.Match object; span=(0, 9), match='agfasgffs'>"
      ]
     },
     "execution_count": 89,
     "metadata": {},
     "output_type": "execute_result"
    }
   ],
   "source": [
    "re.search(r\"\\w{1,}\\W{0}\\w{1}\",\"agfasgffs sghdfds\")"
   ]
  },
  {
   "cell_type": "code",
   "execution_count": 90,
   "id": "fa91fe96",
   "metadata": {},
   "outputs": [
    {
     "data": {
      "text/plain": [
       "<re.Match object; span=(0, 11), match='agfasgffs s'>"
      ]
     },
     "execution_count": 90,
     "metadata": {},
     "output_type": "execute_result"
    }
   ],
   "source": [
    "re.search(r\"\\w{1,}\\W{0,4}\\w{1}\",\"agfasgffs sghdfds\")"
   ]
  },
  {
   "cell_type": "code",
   "execution_count": 91,
   "id": "cfc8cdc3",
   "metadata": {},
   "outputs": [
    {
     "data": {
      "text/plain": [
       "<re.Match object; span=(0, 17), match='agfasgffs sghdfds'>"
      ]
     },
     "execution_count": 91,
     "metadata": {},
     "output_type": "execute_result"
    }
   ],
   "source": [
    "re.search(r\"\\w{1,}\\W{0,4}\\w{1,}\",\"agfasgffs sghdfds\")"
   ]
  },
  {
   "cell_type": "markdown",
   "id": "cdf0c56a",
   "metadata": {},
   "source": [
    "# Character Sets - Custom Character sets"
   ]
  },
  {
   "cell_type": "code",
   "execution_count": 95,
   "id": "9bd76e52",
   "metadata": {},
   "outputs": [
    {
     "data": {
      "text/plain": [
       "<re.Match object; span=(0, 2), match='23'>"
      ]
     },
     "execution_count": 95,
     "metadata": {},
     "output_type": "execute_result"
    }
   ],
   "source": [
    "re.search(\"\\d+\",\"23abcgdg++\") #why r is not used where? where to use?"
   ]
  },
  {
   "cell_type": "code",
   "execution_count": 96,
   "id": "64eba79c",
   "metadata": {},
   "outputs": [
    {
     "data": {
      "text/plain": [
       "'23'"
      ]
     },
     "execution_count": 96,
     "metadata": {},
     "output_type": "execute_result"
    }
   ],
   "source": [
    "re.search(\"\\d+\",\"23abcgdg++\").group()"
   ]
  },
  {
   "cell_type": "markdown",
   "id": "12f406a4",
   "metadata": {},
   "source": [
    "###  \\s white space characters like Space, tab, \\S is opposite of \\s\n"
   ]
  },
  {
   "cell_type": "code",
   "execution_count": 97,
   "id": "d9c1c241",
   "metadata": {},
   "outputs": [
    {
     "data": {
      "text/plain": [
       "<re.Match object; span=(0, 13), match='23cdsghfdgd++'>"
      ]
     },
     "execution_count": 97,
     "metadata": {},
     "output_type": "execute_result"
    }
   ],
   "source": [
    "re.search(\"\\S+\",\"23cdsghfdgd++\")"
   ]
  },
  {
   "cell_type": "code",
   "execution_count": 98,
   "id": "35e4edb0",
   "metadata": {},
   "outputs": [],
   "source": [
    "string2 = '''Robots are branching out. A new prototype soft robot takes inspiration from plants by growing to explore its environment.\n",
    "\n",
    "Vines and some fungi extend from their tips to explore their surroundings. \n",
    "Elliot Hawkes of the University of California in Santa Barbara \n",
    "and his colleagues designed a bot that works \n",
    "on similar principles. Its mechanical body \n",
    "sits inside a plastic tube reel that extends \n",
    "through pressurized inflation, a method that some \n",
    "invertebrates like peanut worms (Sipunculus nudus)\n",
    "also use to extend their appendages. The plastic \n",
    "tubing has two compartments, and inflating one \n",
    "side or the other changes the extension direction. \n",
    "A camera sensor at the tip alerts the bot when it’s \n",
    "about to run into something.\n",
    "\n",
    "In the lab, Hawkes and his colleagues \n",
    "programmed the robot to form 3-D structures such \n",
    "as a radio antenna, turn off a valve, navigate a maze, \n",
    "swim through glue, act as a fire extinguisher, squeeze \n",
    "through tight gaps, shimmy through fly paper and slither \n",
    "across a bed of nails. The soft bot can extend up to \n",
    "72 meters, and unlike plants, it can grow at a speed of \n",
    "10 meters per second, the team reports July 19 in Science Robotics. \n",
    "The design could serve as a model for building robots \n",
    "that can traverse constrained environments\n",
    "\n",
    "This isn’t the first robot to take \n",
    "inspiration from plants. One plantlike \n",
    "predecessor was a robot modeled on roots.'''"
   ]
  },
  {
   "cell_type": "code",
   "execution_count": 100,
   "id": "87780a87",
   "metadata": {
    "scrolled": false
   },
   "outputs": [
    {
     "data": {
      "text/plain": [
       "['Robots',\n",
       " 'are',\n",
       " 'branching',\n",
       " 'out.',\n",
       " 'A',\n",
       " 'new',\n",
       " 'prototype',\n",
       " 'soft',\n",
       " 'robot',\n",
       " 'takes',\n",
       " 'inspiration',\n",
       " 'from',\n",
       " 'plants',\n",
       " 'by',\n",
       " 'growing',\n",
       " 'to',\n",
       " 'explore',\n",
       " 'its',\n",
       " 'environment.',\n",
       " 'Vines',\n",
       " 'and',\n",
       " 'some',\n",
       " 'fungi',\n",
       " 'extend',\n",
       " 'from',\n",
       " 'their',\n",
       " 'tips',\n",
       " 'to',\n",
       " 'explore',\n",
       " 'their',\n",
       " 'surroundings.',\n",
       " 'Elliot',\n",
       " 'Hawkes',\n",
       " 'of',\n",
       " 'the',\n",
       " 'University',\n",
       " 'of',\n",
       " 'California',\n",
       " 'in',\n",
       " 'Santa',\n",
       " 'Barbara',\n",
       " 'and',\n",
       " 'his',\n",
       " 'colleagues',\n",
       " 'designed',\n",
       " 'a',\n",
       " 'bot',\n",
       " 'that',\n",
       " 'works',\n",
       " 'on',\n",
       " 'similar',\n",
       " 'principles.',\n",
       " 'Its',\n",
       " 'mechanical',\n",
       " 'body',\n",
       " 'sits',\n",
       " 'inside',\n",
       " 'a',\n",
       " 'plastic',\n",
       " 'tube',\n",
       " 'reel',\n",
       " 'that',\n",
       " 'extends',\n",
       " 'through',\n",
       " 'pressurized',\n",
       " 'inflation,',\n",
       " 'a',\n",
       " 'method',\n",
       " 'that',\n",
       " 'some',\n",
       " 'invertebrates',\n",
       " 'like',\n",
       " 'peanut',\n",
       " 'worms',\n",
       " '(Sipunculus',\n",
       " 'nudus)',\n",
       " 'also',\n",
       " 'use',\n",
       " 'to',\n",
       " 'extend',\n",
       " 'their',\n",
       " 'appendages.',\n",
       " 'The',\n",
       " 'plastic',\n",
       " 'tubing',\n",
       " 'has',\n",
       " 'two',\n",
       " 'compartments,',\n",
       " 'and',\n",
       " 'inflating',\n",
       " 'one',\n",
       " 'side',\n",
       " 'or',\n",
       " 'the',\n",
       " 'other',\n",
       " 'changes',\n",
       " 'the',\n",
       " 'extension',\n",
       " 'direction.',\n",
       " 'A',\n",
       " 'camera',\n",
       " 'sensor',\n",
       " 'at',\n",
       " 'the',\n",
       " 'tip',\n",
       " 'alerts',\n",
       " 'the',\n",
       " 'bot',\n",
       " 'when',\n",
       " 'it’s',\n",
       " 'about',\n",
       " 'to',\n",
       " 'run',\n",
       " 'into',\n",
       " 'something.',\n",
       " 'In',\n",
       " 'the',\n",
       " 'lab,',\n",
       " 'Hawkes',\n",
       " 'and',\n",
       " 'his',\n",
       " 'colleagues',\n",
       " 'programmed',\n",
       " 'the',\n",
       " 'robot',\n",
       " 'to',\n",
       " 'form',\n",
       " '3-D',\n",
       " 'structures',\n",
       " 'such',\n",
       " 'as',\n",
       " 'a',\n",
       " 'radio',\n",
       " 'antenna,',\n",
       " 'turn',\n",
       " 'off',\n",
       " 'a',\n",
       " 'valve,',\n",
       " 'navigate',\n",
       " 'a',\n",
       " 'maze,',\n",
       " 'swim',\n",
       " 'through',\n",
       " 'glue,',\n",
       " 'act',\n",
       " 'as',\n",
       " 'a',\n",
       " 'fire',\n",
       " 'extinguisher,',\n",
       " 'squeeze',\n",
       " 'through',\n",
       " 'tight',\n",
       " 'gaps,',\n",
       " 'shimmy',\n",
       " 'through',\n",
       " 'fly',\n",
       " 'paper',\n",
       " 'and',\n",
       " 'slither',\n",
       " 'across',\n",
       " 'a',\n",
       " 'bed',\n",
       " 'of',\n",
       " 'nails.',\n",
       " 'The',\n",
       " 'soft',\n",
       " 'bot',\n",
       " 'can',\n",
       " 'extend',\n",
       " 'up',\n",
       " 'to',\n",
       " '72',\n",
       " 'meters,',\n",
       " 'and',\n",
       " 'unlike',\n",
       " 'plants,',\n",
       " 'it',\n",
       " 'can',\n",
       " 'grow',\n",
       " 'at',\n",
       " 'a',\n",
       " 'speed',\n",
       " 'of',\n",
       " '10',\n",
       " 'meters',\n",
       " 'per',\n",
       " 'second,',\n",
       " 'the',\n",
       " 'team',\n",
       " 'reports',\n",
       " 'July',\n",
       " '19',\n",
       " 'in',\n",
       " 'Science',\n",
       " 'Robotics.',\n",
       " 'The',\n",
       " 'design',\n",
       " 'could',\n",
       " 'serve',\n",
       " 'as',\n",
       " 'a',\n",
       " 'model',\n",
       " 'for',\n",
       " 'building',\n",
       " 'robots',\n",
       " 'that',\n",
       " 'can',\n",
       " 'traverse',\n",
       " 'constrained',\n",
       " 'environments',\n",
       " 'This',\n",
       " 'isn’t',\n",
       " 'the',\n",
       " 'first',\n",
       " 'robot',\n",
       " 'to',\n",
       " 'take',\n",
       " 'inspiration',\n",
       " 'from',\n",
       " 'plants.',\n",
       " 'One',\n",
       " 'plantlike',\n",
       " 'predecessor',\n",
       " 'was',\n",
       " 'a',\n",
       " 'robot',\n",
       " 'modeled',\n",
       " 'on',\n",
       " 'roots.']"
      ]
     },
     "execution_count": 100,
     "metadata": {},
     "output_type": "execute_result"
    }
   ],
   "source": [
    "re.findall(\"\\S+\",string2)"
   ]
  },
  {
   "cell_type": "code",
   "execution_count": 101,
   "id": "b2c9d7f0",
   "metadata": {},
   "outputs": [
    {
     "data": {
      "text/plain": [
       "229"
      ]
     },
     "execution_count": 101,
     "metadata": {},
     "output_type": "execute_result"
    }
   ],
   "source": [
    "len(re.findall(\"\\S+\",string2))"
   ]
  },
  {
   "cell_type": "code",
   "execution_count": 102,
   "id": "38c0598a",
   "metadata": {},
   "outputs": [
    {
     "data": {
      "text/plain": [
       "'Robots are branching out. A new prototype soft robot takes inspiration from plants by growing to explore its environment. Vines and some fungi extend from their tips to explore their surroundings. Elliot Hawkes of the University of California in Santa Barbara and his colleagues designed a bot that works on similar principles. Its mechanical body sits inside a plastic tube reel that extends through pressurized inflation, a method that some invertebrates like peanut worms (Sipunculus nudus) also use to extend their appendages. The plastic tubing has two compartments, and inflating one side or the other changes the extension direction. A camera sensor at the tip alerts the bot when it’s about to run into something. In the lab, Hawkes and his colleagues programmed the robot to form 3-D structures such as a radio antenna, turn off a valve, navigate a maze, swim through glue, act as a fire extinguisher, squeeze through tight gaps, shimmy through fly paper and slither across a bed of nails. The soft bot can extend up to 72 meters, and unlike plants, it can grow at a speed of 10 meters per second, the team reports July 19 in Science Robotics. The design could serve as a model for building robots that can traverse constrained environments This isn’t the first robot to take inspiration from plants. One plantlike predecessor was a robot modeled on roots.'"
      ]
     },
     "execution_count": 102,
     "metadata": {},
     "output_type": "execute_result"
    }
   ],
   "source": [
    "\" \".join(re.findall(\"\\S+\",string2))"
   ]
  },
  {
   "cell_type": "markdown",
   "id": "8ea48560",
   "metadata": {},
   "source": [
    "### . the dot means any character except the new line"
   ]
  },
  {
   "cell_type": "code",
   "execution_count": 103,
   "id": "8776adea",
   "metadata": {},
   "outputs": [],
   "source": [
    "string3 = '''Robots are branching out. A new prototype soft robot takes inspiration from plants by growing to explore its environment.\n",
    "\n",
    "Vines and some fungi extend from their tips to explore their surroundings. Elliot Hawkes of the University of California in Santa Barbara and his colleagues designed a bot that works on similar principles. Its mechanical body sits inside a plastic tube reel that extends through pressurized inflation, a method that some invertebrates like peanut worms (Sipunculus nudus) also use to extend their appendages. The plastic tubing has two compartments, and inflating one side or the other changes the extension direction. A camera sensor at the tip alerts the bot when it’s about to run into something.\n",
    "\n",
    "In the lab, Hawkes and his colleagues programmed the robot to form 3-D structures such as a radio antenna, turn off a valve, navigate a maze, swim through glue, act as a fire extinguisher, squeeze through tight gaps, shimmy through fly paper and slither across a bed of nails. The soft bot can extend up to 72 meters, and unlike plants, it can grow at a speed of 10 meters per second, the team reports July 19 in Science Robotics. The design could serve as a model for building robots that can traverse constrained environments\n",
    "\n",
    "This isn’t the first robot to take inspiration from plants. One plantlike predecessor was a robot modeled on roots.'''"
   ]
  },
  {
   "cell_type": "code",
   "execution_count": 106,
   "id": "456356e0",
   "metadata": {},
   "outputs": [
    {
     "data": {
      "text/plain": [
       "'Robots are branching out. A new prototype soft robot takes inspiration from plants by growing to explore its environment.'"
      ]
     },
     "execution_count": 106,
     "metadata": {},
     "output_type": "execute_result"
    }
   ],
   "source": [
    "re.search(\".+\",string3).group() #no new line"
   ]
  },
  {
   "cell_type": "code",
   "execution_count": 108,
   "id": "9acc7e8f",
   "metadata": {},
   "outputs": [
    {
     "data": {
      "text/plain": [
       "'Robots are branching out. A new prototype soft robot takes inspiration from plants by growing to explore its environment.\\n\\nVines and some fungi extend from their tips to explore their surroundings. Elliot Hawkes of the University of California in Santa Barbara and his colleagues designed a bot that works on similar principles. Its mechanical body sits inside a plastic tube reel that extends through pressurized inflation, a method that some invertebrates like peanut worms (Sipunculus nudus) also use to extend their appendages. The plastic tubing has two compartments, and inflating one side or the other changes the extension direction. A camera sensor at the tip alerts the bot when it’s about to run into something.\\n\\nIn the lab, Hawkes and his colleagues programmed the robot to form 3-D structures such as a radio antenna, turn off a valve, navigate a maze, swim through glue, act as a fire extinguisher, squeeze through tight gaps, shimmy through fly paper and slither across a bed of nails. The soft bot can extend up to 72 meters, and unlike plants, it can grow at a speed of 10 meters per second, the team reports July 19 in Science Robotics. The design could serve as a model for building robots that can traverse constrained environments\\n\\nThis isn’t the first robot to take inspiration from plants. One plantlike predecessor was a robot modeled on roots.'"
      ]
     },
     "execution_count": 108,
     "metadata": {},
     "output_type": "execute_result"
    }
   ],
   "source": [
    "# to include new lines\n",
    "re.search(\".+\",string3, flags = re.DOTALL).group()"
   ]
  },
  {
   "cell_type": "code",
   "execution_count": 109,
   "id": "d2297425",
   "metadata": {},
   "outputs": [],
   "source": [
    "string4 = 'Hello, There, How, Are, You'"
   ]
  },
  {
   "cell_type": "code",
   "execution_count": 111,
   "id": "986d5bd1",
   "metadata": {},
   "outputs": [
    {
     "data": {
      "text/plain": [
       "['H', 'T', 'H', 'A', 'Y']"
      ]
     },
     "execution_count": 111,
     "metadata": {},
     "output_type": "execute_result"
    }
   ],
   "source": [
    "re.findall(\"[A-Z]\",string4)"
   ]
  },
  {
   "cell_type": "code",
   "execution_count": 112,
   "id": "e308e66c",
   "metadata": {},
   "outputs": [
    {
     "data": {
      "text/plain": [
       "['H', ',', 'T', ',', 'H', ',', 'A', ',', 'Y']"
      ]
     },
     "execution_count": 112,
     "metadata": {},
     "output_type": "execute_result"
    }
   ],
   "source": [
    "re.findall(\"[A-Z,]\",string4)"
   ]
  },
  {
   "cell_type": "code",
   "execution_count": 114,
   "id": "650ff241",
   "metadata": {},
   "outputs": [],
   "source": [
    "string5 = 'Hello, There, How, Are, You ...'"
   ]
  },
  {
   "cell_type": "code",
   "execution_count": 115,
   "id": "e7e8ba36",
   "metadata": {},
   "outputs": [
    {
     "data": {
      "text/plain": [
       "['H', ',', 'T', ',', 'H', ',', 'A', ',', 'Y', '.', '.', '.']"
      ]
     },
     "execution_count": 115,
     "metadata": {},
     "output_type": "execute_result"
    }
   ],
   "source": [
    "re.findall(\"[A-Z,.]\",string5)"
   ]
  },
  {
   "cell_type": "code",
   "execution_count": 116,
   "id": "6b55e5e1",
   "metadata": {},
   "outputs": [],
   "source": [
    "string6 = 'Hello,, There,, How, Are, You ...'"
   ]
  },
  {
   "cell_type": "code",
   "execution_count": 117,
   "id": "4fc06a37",
   "metadata": {},
   "outputs": [
    {
     "data": {
      "text/plain": [
       "['H', ',', ',', 'T', ',', ',', 'H', ',', 'A', ',', 'Y', '.', '.', '.']"
      ]
     },
     "execution_count": 117,
     "metadata": {},
     "output_type": "execute_result"
    }
   ],
   "source": [
    "re.findall(\"[A-Z,.]\",string6)"
   ]
  },
  {
   "cell_type": "code",
   "execution_count": 118,
   "id": "d0ce1190",
   "metadata": {},
   "outputs": [],
   "source": [
    "string7 = 'Hello, There, How, Are, You...'"
   ]
  },
  {
   "cell_type": "code",
   "execution_count": 121,
   "id": "cf81ec90",
   "metadata": {},
   "outputs": [
    {
     "data": {
      "text/plain": [
       "['H',\n",
       " 'e',\n",
       " 'l',\n",
       " 'l',\n",
       " 'o',\n",
       " ',',\n",
       " ' ',\n",
       " 'T',\n",
       " 'h',\n",
       " 'e',\n",
       " 'r',\n",
       " 'e',\n",
       " ',',\n",
       " ' ',\n",
       " 'H',\n",
       " 'o',\n",
       " 'w',\n",
       " ',',\n",
       " ' ',\n",
       " 'A',\n",
       " 'r',\n",
       " 'e',\n",
       " ',',\n",
       " ' ',\n",
       " 'Y',\n",
       " 'o',\n",
       " 'u',\n",
       " '.',\n",
       " '.',\n",
       " '.']"
      ]
     },
     "execution_count": 121,
     "metadata": {},
     "output_type": "execute_result"
    }
   ],
   "source": [
    "re.findall(\"[A-Za-z,.\\s]\",string7)"
   ]
  },
  {
   "cell_type": "code",
   "execution_count": 122,
   "id": "d57795df",
   "metadata": {},
   "outputs": [
    {
     "data": {
      "text/plain": [
       "['H',\n",
       " 'e',\n",
       " 'l',\n",
       " 'l',\n",
       " 'o',\n",
       " ',',\n",
       " ' ',\n",
       " 'T',\n",
       " 'h',\n",
       " 'e',\n",
       " 'r',\n",
       " 'e',\n",
       " ',',\n",
       " ' ',\n",
       " 'H',\n",
       " 'o',\n",
       " 'w',\n",
       " ',',\n",
       " ' ',\n",
       " 'A',\n",
       " 'r',\n",
       " 'e',\n",
       " ',',\n",
       " ' ',\n",
       " 'Y',\n",
       " 'o',\n",
       " 'u',\n",
       " '.',\n",
       " '.',\n",
       " '.']"
      ]
     },
     "execution_count": 122,
     "metadata": {},
     "output_type": "execute_result"
    }
   ],
   "source": [
    "re.findall(\"[A-Za-z\\,\\.\\s]\",string7)"
   ]
  },
  {
   "cell_type": "code",
   "execution_count": null,
   "id": "ec35fa0a",
   "metadata": {},
   "outputs": [],
   "source": []
  }
 ],
 "metadata": {
  "kernelspec": {
   "display_name": "Python 3",
   "language": "python",
   "name": "python3"
  },
  "language_info": {
   "codemirror_mode": {
    "name": "ipython",
    "version": 3
   },
   "file_extension": ".py",
   "mimetype": "text/x-python",
   "name": "python",
   "nbconvert_exporter": "python",
   "pygments_lexer": "ipython3",
   "version": "3.8.8"
  }
 },
 "nbformat": 4,
 "nbformat_minor": 5
}
