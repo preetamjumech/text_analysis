{
 "cells": [
  {
   "cell_type": "code",
   "execution_count": 1,
   "id": "cf9f045d",
   "metadata": {},
   "outputs": [],
   "source": [
    "import re"
   ]
  },
  {
   "cell_type": "markdown",
   "id": "b397b49a",
   "metadata": {},
   "source": [
    "# quantifiers within groups"
   ]
  },
  {
   "cell_type": "code",
   "execution_count": 2,
   "id": "44a012fd",
   "metadata": {},
   "outputs": [],
   "source": [
    "string = \"abababababababababab\""
   ]
  },
  {
   "cell_type": "code",
   "execution_count": 3,
   "id": "6a11a534",
   "metadata": {},
   "outputs": [
    {
     "data": {
      "text/plain": [
       "<re.Match object; span=(0, 20), match='abababababababababab'>"
      ]
     },
     "execution_count": 3,
     "metadata": {},
     "output_type": "execute_result"
    }
   ],
   "source": [
    "re.search(\"(ab)+\",string)"
   ]
  },
  {
   "cell_type": "code",
   "execution_count": 4,
   "id": "5cec4a80",
   "metadata": {},
   "outputs": [
    {
     "data": {
      "text/plain": [
       "<re.Match object; span=(0, 20), match='abababababababababab'>"
      ]
     },
     "execution_count": 4,
     "metadata": {},
     "output_type": "execute_result"
    }
   ],
   "source": [
    "re.search(\"[ab]+\",string)"
   ]
  },
  {
   "cell_type": "code",
   "execution_count": 5,
   "id": "ca51c3c2",
   "metadata": {},
   "outputs": [],
   "source": [
    "string1 = \"ababababbbbbbbbbbbbbb\""
   ]
  },
  {
   "cell_type": "code",
   "execution_count": 6,
   "id": "d131aeca",
   "metadata": {},
   "outputs": [
    {
     "data": {
      "text/plain": [
       "<re.Match object; span=(0, 8), match='abababab'>"
      ]
     },
     "execution_count": 6,
     "metadata": {},
     "output_type": "execute_result"
    }
   ],
   "source": [
    "re.search(\"(ab)+\",string1)"
   ]
  },
  {
   "cell_type": "code",
   "execution_count": 7,
   "id": "9f796f0e",
   "metadata": {},
   "outputs": [
    {
     "data": {
      "text/plain": [
       "<re.Match object; span=(0, 21), match='ababababbbbbbbbbbbbbb'>"
      ]
     },
     "execution_count": 7,
     "metadata": {},
     "output_type": "execute_result"
    }
   ],
   "source": [
    "re.search(\"[ab]+\",string1)"
   ]
  },
  {
   "cell_type": "code",
   "execution_count": 10,
   "id": "b2593b27",
   "metadata": {},
   "outputs": [],
   "source": [
    "string2 = \"ababababbbbbbbbbb\""
   ]
  },
  {
   "cell_type": "code",
   "execution_count": 12,
   "id": "edd7ffc5",
   "metadata": {},
   "outputs": [
    {
     "data": {
      "text/plain": [
       "<re.Match object; span=(0, 17), match='ababababbbbbbbbbb'>"
      ]
     },
     "execution_count": 12,
     "metadata": {},
     "output_type": "execute_result"
    }
   ],
   "source": [
    "re.search(\"(ab)+\\w+\",string2)"
   ]
  },
  {
   "cell_type": "code",
   "execution_count": 13,
   "id": "601aa12c",
   "metadata": {},
   "outputs": [],
   "source": [
    "string3 = \"ababababababsdssgfgfdsgfdshgds\""
   ]
  },
  {
   "cell_type": "code",
   "execution_count": 15,
   "id": "999e9c73",
   "metadata": {},
   "outputs": [
    {
     "data": {
      "text/plain": [
       "<re.Match object; span=(0, 30), match='ababababababsdssgfgfdsgfdshgds'>"
      ]
     },
     "execution_count": 15,
     "metadata": {},
     "output_type": "execute_result"
    }
   ],
   "source": [
    "re.search(\"(ab)+\\w+\",string3)"
   ]
  },
  {
   "cell_type": "markdown",
   "id": "382f9b98",
   "metadata": {},
   "source": [
    "# only one group"
   ]
  },
  {
   "cell_type": "code",
   "execution_count": 18,
   "id": "86815336",
   "metadata": {},
   "outputs": [
    {
     "data": {
      "text/plain": [
       "<re.Match object; span=(0, 22), match='ababababababababababab'>"
      ]
     },
     "execution_count": 18,
     "metadata": {},
     "output_type": "execute_result"
    }
   ],
   "source": [
    "string4 = \"ababababababababababab\"\n",
    "match=re.search(\"(ab)+\",string4) # capturing only one group; value is overwritten each time\n",
    "match"
   ]
  },
  {
   "cell_type": "code",
   "execution_count": 19,
   "id": "011e3ec9",
   "metadata": {},
   "outputs": [
    {
     "data": {
      "text/plain": [
       "'ababababababababababab'"
      ]
     },
     "execution_count": 19,
     "metadata": {},
     "output_type": "execute_result"
    }
   ],
   "source": [
    "match.group()"
   ]
  },
  {
   "cell_type": "code",
   "execution_count": 21,
   "id": "980126b0",
   "metadata": {},
   "outputs": [
    {
     "data": {
      "text/plain": [
       "('ab',)"
      ]
     },
     "execution_count": 21,
     "metadata": {},
     "output_type": "execute_result"
    }
   ],
   "source": [
    "match.groups()"
   ]
  },
  {
   "cell_type": "code",
   "execution_count": 22,
   "id": "6d3b20bd",
   "metadata": {},
   "outputs": [
    {
     "data": {
      "text/plain": [
       "'ab'"
      ]
     },
     "execution_count": 22,
     "metadata": {},
     "output_type": "execute_result"
    }
   ],
   "source": [
    "match.group(1) # capturing only one group; value is overwritten each time"
   ]
  },
  {
   "cell_type": "code",
   "execution_count": 23,
   "id": "69815e50",
   "metadata": {},
   "outputs": [
    {
     "ename": "IndexError",
     "evalue": "no such group",
     "output_type": "error",
     "traceback": [
      "\u001b[1;31m---------------------------------------------------------------------------\u001b[0m",
      "\u001b[1;31mIndexError\u001b[0m                                Traceback (most recent call last)",
      "\u001b[1;32m<ipython-input-23-5fcb5590526f>\u001b[0m in \u001b[0;36m<module>\u001b[1;34m\u001b[0m\n\u001b[1;32m----> 1\u001b[1;33m \u001b[0mmatch\u001b[0m\u001b[1;33m.\u001b[0m\u001b[0mgroup\u001b[0m\u001b[1;33m(\u001b[0m\u001b[1;36m2\u001b[0m\u001b[1;33m)\u001b[0m\u001b[1;33m\u001b[0m\u001b[1;33m\u001b[0m\u001b[0m\n\u001b[0m",
      "\u001b[1;31mIndexError\u001b[0m: no such group"
     ]
    }
   ],
   "source": [
    "match.group(2) # capturing only one group; value is overwritten each time"
   ]
  },
  {
   "cell_type": "code",
   "execution_count": 25,
   "id": "71f45445",
   "metadata": {},
   "outputs": [
    {
     "data": {
      "text/plain": [
       "<re.Match object; span=(0, 22), match='ababababababababababab'>"
      ]
     },
     "execution_count": 25,
     "metadata": {},
     "output_type": "execute_result"
    }
   ],
   "source": [
    "match1 = re.search(\"(ab)+(ab)+\",string4)\n",
    "match1"
   ]
  },
  {
   "cell_type": "code",
   "execution_count": 26,
   "id": "031d700a",
   "metadata": {},
   "outputs": [
    {
     "data": {
      "text/plain": [
       "'ab'"
      ]
     },
     "execution_count": 26,
     "metadata": {},
     "output_type": "execute_result"
    }
   ],
   "source": [
    "match.group(1)"
   ]
  },
  {
   "cell_type": "code",
   "execution_count": 27,
   "id": "9f6f62aa",
   "metadata": {},
   "outputs": [
    {
     "data": {
      "text/plain": [
       "'ab'"
      ]
     },
     "execution_count": 27,
     "metadata": {},
     "output_type": "execute_result"
    }
   ],
   "source": [
    "match1.group(2)"
   ]
  },
  {
   "cell_type": "code",
   "execution_count": 30,
   "id": "a5d92249",
   "metadata": {},
   "outputs": [
    {
     "data": {
      "text/plain": [
       "('ab', 'ab')"
      ]
     },
     "execution_count": 30,
     "metadata": {},
     "output_type": "execute_result"
    }
   ],
   "source": [
    "match1.groups()"
   ]
  },
  {
   "cell_type": "code",
   "execution_count": 31,
   "id": "6ba992a3",
   "metadata": {},
   "outputs": [
    {
     "data": {
      "text/plain": [
       "(20, 22)"
      ]
     },
     "execution_count": 31,
     "metadata": {},
     "output_type": "execute_result"
    }
   ],
   "source": [
    "match1.span(2) # the first group is greedy"
   ]
  },
  {
   "cell_type": "code",
   "execution_count": 33,
   "id": "cfc9b0bd",
   "metadata": {},
   "outputs": [
    {
     "data": {
      "text/plain": [
       "(18, 20)"
      ]
     },
     "execution_count": 33,
     "metadata": {},
     "output_type": "execute_result"
    }
   ],
   "source": [
    "match1.span(1) "
   ]
  },
  {
   "cell_type": "code",
   "execution_count": 36,
   "id": "586ed704",
   "metadata": {},
   "outputs": [
    {
     "data": {
      "text/plain": [
       "<re.Match object; span=(0, 9), match='123456789'>"
      ]
     },
     "execution_count": 36,
     "metadata": {},
     "output_type": "execute_result"
    }
   ],
   "source": [
    "string5 = \"123456789\"\n",
    "match2 = re.search(\"\\d+\",string5)\n",
    "match2"
   ]
  },
  {
   "cell_type": "code",
   "execution_count": 39,
   "id": "e9fbe1c6",
   "metadata": {},
   "outputs": [
    {
     "data": {
      "text/plain": [
       "'123456789'"
      ]
     },
     "execution_count": 39,
     "metadata": {},
     "output_type": "execute_result"
    }
   ],
   "source": [
    "match2.group()"
   ]
  },
  {
   "cell_type": "code",
   "execution_count": 41,
   "id": "53fd309e",
   "metadata": {},
   "outputs": [
    {
     "data": {
      "text/plain": [
       "()"
      ]
     },
     "execution_count": 41,
     "metadata": {},
     "output_type": "execute_result"
    }
   ],
   "source": [
    "match2.groups()"
   ]
  },
  {
   "cell_type": "code",
   "execution_count": 42,
   "id": "e9c2898c",
   "metadata": {},
   "outputs": [
    {
     "data": {
      "text/plain": [
       "<re.Match object; span=(0, 9), match='123456789'>"
      ]
     },
     "execution_count": 42,
     "metadata": {},
     "output_type": "execute_result"
    }
   ],
   "source": [
    "match3 = re.search(\"(\\d)+\",string5)\n",
    "match3"
   ]
  },
  {
   "cell_type": "code",
   "execution_count": 43,
   "id": "d3ba8743",
   "metadata": {},
   "outputs": [
    {
     "data": {
      "text/plain": [
       "'123456789'"
      ]
     },
     "execution_count": 43,
     "metadata": {},
     "output_type": "execute_result"
    }
   ],
   "source": [
    "match3.group()"
   ]
  },
  {
   "cell_type": "code",
   "execution_count": 44,
   "id": "988bf4cc",
   "metadata": {},
   "outputs": [
    {
     "data": {
      "text/plain": [
       "('9',)"
      ]
     },
     "execution_count": 44,
     "metadata": {},
     "output_type": "execute_result"
    }
   ],
   "source": [
    "match3.groups()"
   ]
  },
  {
   "cell_type": "code",
   "execution_count": 45,
   "id": "4ac17c9c",
   "metadata": {},
   "outputs": [
    {
     "data": {
      "text/plain": [
       "'9'"
      ]
     },
     "execution_count": 45,
     "metadata": {},
     "output_type": "execute_result"
    }
   ],
   "source": [
    "match3.group(1) # only one group, and it uses the last value"
   ]
  },
  {
   "cell_type": "code",
   "execution_count": 46,
   "id": "87c14380",
   "metadata": {},
   "outputs": [
    {
     "data": {
      "text/plain": [
       "(8, 9)"
      ]
     },
     "execution_count": 46,
     "metadata": {},
     "output_type": "execute_result"
    }
   ],
   "source": [
    "match3.span(1)"
   ]
  },
  {
   "cell_type": "markdown",
   "id": "e612380c",
   "metadata": {},
   "source": [
    "# findall"
   ]
  },
  {
   "cell_type": "code",
   "execution_count": 47,
   "id": "0ea174cb",
   "metadata": {},
   "outputs": [
    {
     "data": {
      "text/plain": [
       "['9']"
      ]
     },
     "execution_count": 47,
     "metadata": {},
     "output_type": "execute_result"
    }
   ],
   "source": [
    "re.findall(\"(\\d)+\",string5) #only pulls out group and last instance"
   ]
  },
  {
   "cell_type": "code",
   "execution_count": 48,
   "id": "0717ac03",
   "metadata": {},
   "outputs": [],
   "source": [
    "string6 = \"1234 56789\""
   ]
  },
  {
   "cell_type": "code",
   "execution_count": 49,
   "id": "671a7388",
   "metadata": {},
   "outputs": [
    {
     "data": {
      "text/plain": [
       "['4', '9']"
      ]
     },
     "execution_count": 49,
     "metadata": {},
     "output_type": "execute_result"
    }
   ],
   "source": [
    "re.findall(\"(\\d)+\",string6)"
   ]
  },
  {
   "cell_type": "code",
   "execution_count": 60,
   "id": "6e2b1c27",
   "metadata": {},
   "outputs": [
    {
     "data": {
      "text/plain": [
       "<re.Match object; span=(0, 4), match='1234'>"
      ]
     },
     "execution_count": 60,
     "metadata": {},
     "output_type": "execute_result"
    }
   ],
   "source": [
    "match4=re.search(\"(\\d)+\",string6)\n",
    "match4"
   ]
  },
  {
   "cell_type": "code",
   "execution_count": 62,
   "id": "1a2d504b",
   "metadata": {},
   "outputs": [
    {
     "data": {
      "text/plain": [
       "(3, 4)"
      ]
     },
     "execution_count": 62,
     "metadata": {},
     "output_type": "execute_result"
    }
   ],
   "source": [
    "match4.span(1)"
   ]
  },
  {
   "cell_type": "code",
   "execution_count": 63,
   "id": "ec554410",
   "metadata": {},
   "outputs": [
    {
     "data": {
      "text/plain": [
       "'4'"
      ]
     },
     "execution_count": 63,
     "metadata": {},
     "output_type": "execute_result"
    }
   ],
   "source": [
    "match4.group(1)"
   ]
  },
  {
   "cell_type": "code",
   "execution_count": 50,
   "id": "ed4c5bb9",
   "metadata": {},
   "outputs": [
    {
     "data": {
      "text/plain": [
       "[('1234', '4'), ('56789', '9')]"
      ]
     },
     "execution_count": 50,
     "metadata": {},
     "output_type": "execute_result"
    }
   ],
   "source": [
    "re.findall(\"((\\d)+)\",string6)"
   ]
  },
  {
   "cell_type": "code",
   "execution_count": 51,
   "id": "f6784b8a",
   "metadata": {},
   "outputs": [
    {
     "data": {
      "text/plain": [
       "'1234'"
      ]
     },
     "execution_count": 51,
     "metadata": {},
     "output_type": "execute_result"
    }
   ],
   "source": [
    "re.findall(\"((\\d)+)\",string6)[0][0]"
   ]
  },
  {
   "cell_type": "code",
   "execution_count": 52,
   "id": "0a0b8fea",
   "metadata": {},
   "outputs": [
    {
     "data": {
      "text/plain": [
       "['ab', 'ab']"
      ]
     },
     "execution_count": 52,
     "metadata": {},
     "output_type": "execute_result"
    }
   ],
   "source": [
    "string7 = \"ababbb ababababab\"\n",
    "re.findall(\"(ab)+\",string7)"
   ]
  },
  {
   "cell_type": "code",
   "execution_count": 54,
   "id": "8bd96e72",
   "metadata": {},
   "outputs": [
    {
     "data": {
      "text/plain": [
       "[('abab', 'ab'), ('ababababab', 'ab')]"
      ]
     },
     "execution_count": 54,
     "metadata": {},
     "output_type": "execute_result"
    }
   ],
   "source": [
    "re.findall(\"((ab)+)\",string7)"
   ]
  },
  {
   "cell_type": "markdown",
   "id": "6b1aeaac",
   "metadata": {},
   "source": [
    "# Groups for word completion"
   ]
  },
  {
   "cell_type": "code",
   "execution_count": 55,
   "id": "d36b3dd6",
   "metadata": {},
   "outputs": [
    {
     "data": {
      "text/plain": [
       "<re.Match object; span=(0, 14), match='Happy Birthday'>"
      ]
     },
     "execution_count": 55,
     "metadata": {},
     "output_type": "execute_result"
    }
   ],
   "source": [
    "re.search('Happy (Valentines|Birthday|Anniversary)', 'Happy Birthday')"
   ]
  },
  {
   "cell_type": "code",
   "execution_count": 56,
   "id": "667f8bcc",
   "metadata": {},
   "outputs": [
    {
     "data": {
      "text/plain": [
       "<re.Match object; span=(0, 16), match='Happy Valentines'>"
      ]
     },
     "execution_count": 56,
     "metadata": {},
     "output_type": "execute_result"
    }
   ],
   "source": [
    "re.search('Happy (Valentines|Birthday|Anniversary)', 'Happy Valentines')"
   ]
  },
  {
   "cell_type": "code",
   "execution_count": 58,
   "id": "0222aefc",
   "metadata": {},
   "outputs": [
    {
     "data": {
      "text/plain": [
       "<re.Match object; span=(0, 16), match='Happy Valentines'>"
      ]
     },
     "execution_count": 58,
     "metadata": {},
     "output_type": "execute_result"
    }
   ],
   "source": [
    "re.search('Happy Valentines| Happy Birthday | Happy Anniversary', 'Happy Valentines')"
   ]
  },
  {
   "cell_type": "code",
   "execution_count": null,
   "id": "ad6d2b42",
   "metadata": {},
   "outputs": [],
   "source": []
  }
 ],
 "metadata": {
  "kernelspec": {
   "display_name": "Python 3",
   "language": "python",
   "name": "python3"
  },
  "language_info": {
   "codemirror_mode": {
    "name": "ipython",
    "version": 3
   },
   "file_extension": ".py",
   "mimetype": "text/x-python",
   "name": "python",
   "nbconvert_exporter": "python",
   "pygments_lexer": "ipython3",
   "version": "3.8.8"
  }
 },
 "nbformat": 4,
 "nbformat_minor": 5
}
