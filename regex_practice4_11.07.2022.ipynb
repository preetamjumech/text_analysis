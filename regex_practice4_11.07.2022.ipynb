{
 "cells": [
  {
   "cell_type": "code",
   "execution_count": 1,
   "id": "2fd95166",
   "metadata": {},
   "outputs": [],
   "source": [
    "import re"
   ]
  },
  {
   "cell_type": "markdown",
   "id": "6299bb66",
   "metadata": {},
   "source": [
    "# look arounds1"
   ]
  },
  {
   "cell_type": "markdown",
   "id": "6b3375de",
   "metadata": {},
   "source": [
    "# 4 types of look arounds\n",
    "\n",
    "Positive look ahead   ?=\n",
    "\n",
    "Negative look ahead   ?!\n",
    "\n",
    "Positive look behind  ?<=\n",
    "\n",
    "Negative look behind ?<!\n",
    "\n",
    "\n",
    "?:   #non-capturing groups\n",
    "    \n",
    "?P   #naming groups\n"
   ]
  },
  {
   "cell_type": "code",
   "execution_count": 2,
   "id": "04fcbbd4",
   "metadata": {},
   "outputs": [],
   "source": [
    "string ='''ABC1    1.1.1.1    20151118    active\n",
    "           ABC2    2.2.2.2    20151118    inactive\n",
    "           ABC3    x.x.x.x    xxxxxxxx    active'''"
   ]
  },
  {
   "cell_type": "code",
   "execution_count": 5,
   "id": "daacf730",
   "metadata": {},
   "outputs": [],
   "source": [
    "pattern = re.compile(\"ABC\\w\\s+(\\S+)\\s+\\S+\\s+(?=active)\") #positive look around"
   ]
  },
  {
   "cell_type": "code",
   "execution_count": 6,
   "id": "45adaa27",
   "metadata": {},
   "outputs": [
    {
     "data": {
      "text/plain": [
       "['1.1.1.1', 'x.x.x.x']"
      ]
     },
     "execution_count": 6,
     "metadata": {},
     "output_type": "execute_result"
    }
   ],
   "source": [
    "re.findall(pattern,string)"
   ]
  },
  {
   "cell_type": "code",
   "execution_count": 7,
   "id": "df900b22",
   "metadata": {},
   "outputs": [
    {
     "data": {
      "text/plain": [
       "<re.Match object; span=(0, 31), match='ABC1    1.1.1.1    20151118    '>"
      ]
     },
     "execution_count": 7,
     "metadata": {},
     "output_type": "execute_result"
    }
   ],
   "source": [
    "re.search(pattern,string) #active/active not captured by search"
   ]
  },
  {
   "cell_type": "code",
   "execution_count": 8,
   "id": "e96f9a84",
   "metadata": {},
   "outputs": [],
   "source": [
    "pattern = re.compile(\"ABC\\w\\s+(\\S+)\\s+\\S+\\s+(?:active)\") #non capturing group"
   ]
  },
  {
   "cell_type": "code",
   "execution_count": 9,
   "id": "93aa92cf",
   "metadata": {},
   "outputs": [
    {
     "data": {
      "text/plain": [
       "['1.1.1.1', 'x.x.x.x']"
      ]
     },
     "execution_count": 9,
     "metadata": {},
     "output_type": "execute_result"
    }
   ],
   "source": [
    "re.findall(pattern,string)"
   ]
  },
  {
   "cell_type": "code",
   "execution_count": 10,
   "id": "f56b5b38",
   "metadata": {},
   "outputs": [
    {
     "data": {
      "text/plain": [
       "<re.Match object; span=(0, 37), match='ABC1    1.1.1.1    20151118    active'>"
      ]
     },
     "execution_count": 10,
     "metadata": {},
     "output_type": "execute_result"
    }
   ],
   "source": [
    "re.search(pattern,string)"
   ]
  },
  {
   "cell_type": "markdown",
   "id": "910ba9d6",
   "metadata": {},
   "source": [
    "# Difference between non-caputure groups and look arounds"
   ]
  },
  {
   "cell_type": "code",
   "execution_count": 11,
   "id": "41790a1d",
   "metadata": {},
   "outputs": [],
   "source": [
    "string = \"abababababacb\""
   ]
  },
  {
   "cell_type": "code",
   "execution_count": 12,
   "id": "3dccefba",
   "metadata": {},
   "outputs": [],
   "source": [
    "pattern = re.compile(\"(?:b)(a)(?:b)\")"
   ]
  },
  {
   "cell_type": "code",
   "execution_count": 13,
   "id": "1079730e",
   "metadata": {},
   "outputs": [
    {
     "data": {
      "text/plain": [
       "['a', 'a']"
      ]
     },
     "execution_count": 13,
     "metadata": {},
     "output_type": "execute_result"
    }
   ],
   "source": [
    "re.findall(pattern,string)"
   ]
  },
  {
   "cell_type": "code",
   "execution_count": 14,
   "id": "88df017b",
   "metadata": {},
   "outputs": [
    {
     "data": {
      "text/plain": [
       "<re.Match object; span=(1, 4), match='bab'>"
      ]
     },
     "execution_count": 14,
     "metadata": {},
     "output_type": "execute_result"
    }
   ],
   "source": [
    "re.search(pattern,string)"
   ]
  },
  {
   "cell_type": "code",
   "execution_count": 15,
   "id": "440be566",
   "metadata": {},
   "outputs": [],
   "source": [
    "string = \"abababababacb\""
   ]
  },
  {
   "cell_type": "code",
   "execution_count": 16,
   "id": "379fba33",
   "metadata": {},
   "outputs": [],
   "source": [
    "pattern = re.compile(\"(?<=b)(a)(?=b)\") #look around"
   ]
  },
  {
   "cell_type": "code",
   "execution_count": 17,
   "id": "8439ebc8",
   "metadata": {},
   "outputs": [
    {
     "data": {
      "text/plain": [
       "['a', 'a', 'a', 'a']"
      ]
     },
     "execution_count": 17,
     "metadata": {},
     "output_type": "execute_result"
    }
   ],
   "source": [
    "re.findall(pattern,string)"
   ]
  },
  {
   "cell_type": "markdown",
   "id": "64e0ee59",
   "metadata": {},
   "source": [
    "# Capture the entire look around"
   ]
  },
  {
   "cell_type": "code",
   "execution_count": 18,
   "id": "6d0c781a",
   "metadata": {},
   "outputs": [],
   "source": [
    "string = 'abababacb'"
   ]
  },
  {
   "cell_type": "code",
   "execution_count": 19,
   "id": "f78aad35",
   "metadata": {},
   "outputs": [],
   "source": [
    "pattern = re.compile(\"(?=(bab))\")"
   ]
  },
  {
   "cell_type": "code",
   "execution_count": 20,
   "id": "6c0526a6",
   "metadata": {},
   "outputs": [
    {
     "data": {
      "text/plain": [
       "['bab', 'bab']"
      ]
     },
     "execution_count": 20,
     "metadata": {},
     "output_type": "execute_result"
    }
   ],
   "source": [
    "re.findall(pattern,string)"
   ]
  },
  {
   "cell_type": "code",
   "execution_count": 21,
   "id": "b2b769c8",
   "metadata": {},
   "outputs": [],
   "source": [
    "string = 'I love cherries, apples, and strawberries.'"
   ]
  },
  {
   "cell_type": "code",
   "execution_count": 23,
   "id": "5dddfdb2",
   "metadata": {},
   "outputs": [],
   "source": [
    "pattern2 = re.compile(\"\\w+(?=\\.|\\,)\")"
   ]
  },
  {
   "cell_type": "code",
   "execution_count": 24,
   "id": "e71ed229",
   "metadata": {},
   "outputs": [
    {
     "data": {
      "text/plain": [
       "['cherries', 'apples', 'strawberries']"
      ]
     },
     "execution_count": 24,
     "metadata": {},
     "output_type": "execute_result"
    }
   ],
   "source": [
    "re.findall(pattern2,string)"
   ]
  },
  {
   "cell_type": "code",
   "execution_count": 25,
   "id": "93f2f768",
   "metadata": {},
   "outputs": [],
   "source": [
    "pattern2 = re.compile(\"(\\w+)(?=\\.|\\,)\")"
   ]
  },
  {
   "cell_type": "code",
   "execution_count": 26,
   "id": "a3bf70d4",
   "metadata": {},
   "outputs": [
    {
     "data": {
      "text/plain": [
       "['cherries', 'apples', 'strawberries']"
      ]
     },
     "execution_count": 26,
     "metadata": {},
     "output_type": "execute_result"
    }
   ],
   "source": [
    "re.findall(pattern2,string)"
   ]
  },
  {
   "cell_type": "code",
   "execution_count": 27,
   "id": "c3c82080",
   "metadata": {},
   "outputs": [],
   "source": [
    "pattern3 = re.compile(\"(\\w+)(?:\\.|\\,)\")"
   ]
  },
  {
   "cell_type": "code",
   "execution_count": 28,
   "id": "2a24db54",
   "metadata": {},
   "outputs": [
    {
     "data": {
      "text/plain": [
       "['cherries', 'apples', 'strawberries']"
      ]
     },
     "execution_count": 28,
     "metadata": {},
     "output_type": "execute_result"
    }
   ],
   "source": [
    "re.findall(pattern3,string)"
   ]
  },
  {
   "cell_type": "markdown",
   "id": "dd346eb9",
   "metadata": {},
   "source": [
    "# Non capture Groups- Back Referencing"
   ]
  },
  {
   "cell_type": "code",
   "execution_count": 29,
   "id": "8a9e27d7",
   "metadata": {},
   "outputs": [],
   "source": [
    "string = \"1234 56789\""
   ]
  },
  {
   "cell_type": "code",
   "execution_count": 30,
   "id": "a32e53f8",
   "metadata": {},
   "outputs": [
    {
     "data": {
      "text/plain": [
       "['1234', '56789']"
      ]
     },
     "execution_count": 30,
     "metadata": {},
     "output_type": "execute_result"
    }
   ],
   "source": [
    "re.findall(\"(\\d+)\",string)"
   ]
  },
  {
   "cell_type": "code",
   "execution_count": 31,
   "id": "e962953e",
   "metadata": {},
   "outputs": [
    {
     "data": {
      "text/plain": [
       "['4', '9']"
      ]
     },
     "execution_count": 31,
     "metadata": {},
     "output_type": "execute_result"
    }
   ],
   "source": [
    "re.findall(\"(\\d)+\",string)"
   ]
  },
  {
   "cell_type": "code",
   "execution_count": 33,
   "id": "21f80509",
   "metadata": {},
   "outputs": [
    {
     "data": {
      "text/plain": [
       "('4',)"
      ]
     },
     "execution_count": 33,
     "metadata": {},
     "output_type": "execute_result"
    }
   ],
   "source": [
    "re.search(\"(\\d)+\",string).groups()"
   ]
  },
  {
   "cell_type": "code",
   "execution_count": 34,
   "id": "03049593",
   "metadata": {},
   "outputs": [
    {
     "data": {
      "text/plain": [
       "['1234', '56789']"
      ]
     },
     "execution_count": 34,
     "metadata": {},
     "output_type": "execute_result"
    }
   ],
   "source": [
    "re.findall(\"(?:\\d)+\",string) #with non capture group"
   ]
  },
  {
   "cell_type": "code",
   "execution_count": 35,
   "id": "14e88b39",
   "metadata": {},
   "outputs": [],
   "source": [
    "string  = '123123 = Alex, 123123123 = Danny, 123123123123 = Mike, 456456 = rick, 121212 = John, 132132 = Luis,'"
   ]
  },
  {
   "cell_type": "code",
   "execution_count": 37,
   "id": "52863cd5",
   "metadata": {},
   "outputs": [
    {
     "data": {
      "text/plain": [
       "['Alex', 'Danny', 'Mike']"
      ]
     },
     "execution_count": 37,
     "metadata": {},
     "output_type": "execute_result"
    }
   ],
   "source": [
    "re.findall(\"(?:123)+ = (\\w+)\",string) #We want to pull out all names whose ID has 123 within in"
   ]
  },
  {
   "cell_type": "code",
   "execution_count": 38,
   "id": "eb160a43",
   "metadata": {},
   "outputs": [],
   "source": [
    "string = '1*1*1*1*22222  1*1*3333  2*1*2*1*222  1*2*2*2*333 3*3*3*444'"
   ]
  },
  {
   "cell_type": "code",
   "execution_count": 39,
   "id": "0e395d77",
   "metadata": {},
   "outputs": [
    {
     "data": {
      "text/plain": [
       "['1*1*1*1*22222', '1*1*3333']"
      ]
     },
     "execution_count": 39,
     "metadata": {},
     "output_type": "execute_result"
    }
   ],
   "source": [
    "re.findall(\"(?:1\\*){2,}\\d+\",string) #find teh pattern where atleast 2 times 1* is there"
   ]
  },
  {
   "cell_type": "markdown",
   "id": "e877946a",
   "metadata": {},
   "source": [
    "### when we capture groups we are either storing the value or outputting them"
   ]
  },
  {
   "cell_type": "markdown",
   "id": "c4c18ed9",
   "metadata": {},
   "source": [
    "#### Backreferencing very useful for duplicating words"
   ]
  },
  {
   "cell_type": "code",
   "execution_count": 42,
   "id": "14688d0c",
   "metadata": {},
   "outputs": [
    {
     "data": {
      "text/plain": [
       "<re.Match object; span=(0, 11), match='Merry Merry'>"
      ]
     },
     "execution_count": 42,
     "metadata": {},
     "output_type": "execute_result"
    }
   ],
   "source": [
    "re.search(r\"(\\w+) \\1\",\"Merry Merry Chirstmas\")"
   ]
  },
  {
   "cell_type": "code",
   "execution_count": 44,
   "id": "f856547a",
   "metadata": {},
   "outputs": [
    {
     "data": {
      "text/plain": [
       "('Merry',)"
      ]
     },
     "execution_count": 44,
     "metadata": {},
     "output_type": "execute_result"
    }
   ],
   "source": [
    "re.search(r\"(\\w+) \\1\",\"Merry Merry Chirstmas\").groups()"
   ]
  },
  {
   "cell_type": "markdown",
   "id": "c39aba91",
   "metadata": {},
   "source": [
    "\\1 is just referencing the first group \n",
    "within the regular expression \n",
    "\n",
    "r'(\\w+) \\1'"
   ]
  },
  {
   "cell_type": "code",
   "execution_count": 46,
   "id": "c47c8090",
   "metadata": {},
   "outputs": [
    {
     "data": {
      "text/plain": [
       "['Happy', 'Christmas']"
      ]
     },
     "execution_count": 46,
     "metadata": {},
     "output_type": "execute_result"
    }
   ],
   "source": [
    "re.findall(r\"(\\w+) \\1\",'Happy Happy Holidays. Merry Christmas Christmas')"
   ]
  },
  {
   "cell_type": "code",
   "execution_count": 48,
   "id": "7d8d4d9e",
   "metadata": {},
   "outputs": [
    {
     "data": {
      "text/plain": [
       "['Merry', 'Christmas', 'Merry']"
      ]
     },
     "execution_count": 48,
     "metadata": {},
     "output_type": "execute_result"
    }
   ],
   "source": [
    "re.findall(r\"(\\w+) \\1\",'Merry Merry Christmas Christmas Merry Merry Christmas')"
   ]
  },
  {
   "cell_type": "markdown",
   "id": "7fa9528f",
   "metadata": {},
   "source": [
    "# Look Arounds 2"
   ]
  },
  {
   "cell_type": "markdown",
   "id": "7d8a6178",
   "metadata": {},
   "source": [
    "#### consecutive look around fallacy"
   ]
  },
  {
   "cell_type": "code",
   "execution_count": 49,
   "id": "a180b94a",
   "metadata": {},
   "outputs": [],
   "source": [
    "string = '''cherry 100 red\n",
    "            apple  150 green\n",
    "            grapes 200 \n",
    "            '''"
   ]
  },
  {
   "cell_type": "code",
   "execution_count": 50,
   "id": "a41846cd",
   "metadata": {},
   "outputs": [],
   "source": [
    "pattern = re.compile(r\"[a-z]+\\s*(?=\\d+)(?=s*)(?=[a-z]+)\")"
   ]
  },
  {
   "cell_type": "code",
   "execution_count": 51,
   "id": "5eda067f",
   "metadata": {},
   "outputs": [
    {
     "data": {
      "text/plain": [
       "[]"
      ]
     },
     "execution_count": 51,
     "metadata": {},
     "output_type": "execute_result"
    }
   ],
   "source": [
    "re.findall(pattern,string)"
   ]
  },
  {
   "cell_type": "code",
   "execution_count": 55,
   "id": "d7410efd",
   "metadata": {},
   "outputs": [],
   "source": [
    "pattern = re.compile(r\"[a-z]+\\s*(?=\\d+\\s*[a-z]+)\")"
   ]
  },
  {
   "cell_type": "code",
   "execution_count": 56,
   "id": "d7bc7869",
   "metadata": {},
   "outputs": [
    {
     "data": {
      "text/plain": [
       "['cherry ', 'apple  ']"
      ]
     },
     "execution_count": 56,
     "metadata": {},
     "output_type": "execute_result"
    }
   ],
   "source": [
    "re.findall(pattern,string)"
   ]
  },
  {
   "cell_type": "code",
   "execution_count": 57,
   "id": "9a814fb1",
   "metadata": {},
   "outputs": [],
   "source": [
    "string = 'AZN#3232!abbb32..'\n",
    "string2 = 'AZN#3232abbb3232'"
   ]
  },
  {
   "cell_type": "code",
   "execution_count": 58,
   "id": "c665cd60",
   "metadata": {},
   "outputs": [],
   "source": [
    "pattern = re.compile('(?=.*[a-z])(?=.*[A-Z])(?=.*[0-9])(?=.*[!?.])\\S+')"
   ]
  },
  {
   "cell_type": "code",
   "execution_count": 59,
   "id": "db767b62",
   "metadata": {},
   "outputs": [
    {
     "data": {
      "text/plain": [
       "<re.Match object; span=(0, 17), match='AZN#3232!abbb32..'>"
      ]
     },
     "execution_count": 59,
     "metadata": {},
     "output_type": "execute_result"
    }
   ],
   "source": [
    "re.search(pattern, string)"
   ]
  },
  {
   "cell_type": "code",
   "execution_count": 60,
   "id": "8c4ad9f9",
   "metadata": {},
   "outputs": [],
   "source": [
    "re.search(pattern, string2)"
   ]
  },
  {
   "cell_type": "markdown",
   "id": "2d2858c5",
   "metadata": {},
   "source": [
    "# Negative look around"
   ]
  },
  {
   "cell_type": "code",
   "execution_count": 61,
   "id": "e96903ed",
   "metadata": {},
   "outputs": [],
   "source": [
    "string = '''\n",
    "Remaining party applicants:\n",
    "\n",
    "Occupation: Party Planner\n",
    "Occupation: Baking\n",
    "Occupation: Cook\n",
    "Occupation: Publicist\n",
    "Occupation: Entertainer\n",
    "Occupation: Baker\n",
    "Occupation: baker\n",
    "Occupation: pierrot'''"
   ]
  },
  {
   "cell_type": "code",
   "execution_count": 64,
   "id": "93ba07fb",
   "metadata": {},
   "outputs": [],
   "source": [
    "pattern = re.compile(\"Occupation: (?!Baking|Cook|Baker).*\",flags = re.IGNORECASE)"
   ]
  },
  {
   "cell_type": "code",
   "execution_count": 66,
   "id": "a958a7fc",
   "metadata": {},
   "outputs": [
    {
     "data": {
      "text/plain": [
       "['Occupation: Party Planner',\n",
       " 'Occupation: Publicist',\n",
       " 'Occupation: Entertainer',\n",
       " 'Occupation: pierrot']"
      ]
     },
     "execution_count": 66,
     "metadata": {},
     "output_type": "execute_result"
    }
   ],
   "source": [
    "re.findall(pattern, string)"
   ]
  },
  {
   "cell_type": "code",
   "execution_count": 67,
   "id": "57f1a7d4",
   "metadata": {},
   "outputs": [],
   "source": [
    "string = '''\n",
    "Full invitation list:\n",
    "\n",
    "Guest: Ashley Jackson\n",
    "Guest: Maria Jackson\n",
    "Guest: Bob Sanders\n",
    "Guest: Bill Smith\n",
    "Entertainer: Michael Johnson\n",
    "Baker: Chris Jackson\n",
    "Party Planner: Seema Patel\n",
    "Publist: Seema Patel\n",
    "Baker: Ashley Sanders'''"
   ]
  },
  {
   "cell_type": "code",
   "execution_count": 70,
   "id": "261683e7",
   "metadata": {},
   "outputs": [],
   "source": [
    "pattern = re.compile(\"(?<!Baker: )\\w+\\s+\\w+\",flags=re.IGNORECASE|re.M)"
   ]
  },
  {
   "cell_type": "code",
   "execution_count": 73,
   "id": "90bcfa42",
   "metadata": {},
   "outputs": [
    {
     "data": {
      "text/plain": [
       "['Ashley Jackson',\n",
       " 'Maria Jackson',\n",
       " 'Bob Sanders',\n",
       " 'Bill Smith',\n",
       " 'Michael Johnson',\n",
       " 'Seema Patel',\n",
       " 'Seema Patel']"
      ]
     },
     "execution_count": 73,
     "metadata": {},
     "output_type": "execute_result"
    }
   ],
   "source": [
    "re.findall(pattern,string)"
   ]
  },
  {
   "cell_type": "code",
   "execution_count": 72,
   "id": "3fc52f0f",
   "metadata": {},
   "outputs": [],
   "source": [
    "pattern = re.compile(r'(?<!Baker: )\\b\\w+\\s\\w+$', flags = re.IGNORECASE|re.M)"
   ]
  },
  {
   "cell_type": "code",
   "execution_count": 74,
   "id": "0316835a",
   "metadata": {},
   "outputs": [
    {
     "data": {
      "text/plain": [
       "['Ashley Jackson',\n",
       " 'Maria Jackson',\n",
       " 'Bob Sanders',\n",
       " 'Bill Smith',\n",
       " 'Michael Johnson',\n",
       " 'Seema Patel',\n",
       " 'Seema Patel']"
      ]
     },
     "execution_count": 74,
     "metadata": {},
     "output_type": "execute_result"
    }
   ],
   "source": [
    "re.findall(pattern,string)"
   ]
  },
  {
   "cell_type": "code",
   "execution_count": 75,
   "id": "0285f8e8",
   "metadata": {},
   "outputs": [],
   "source": [
    "string = '''\n",
    "Full invitation list:\n",
    "\n",
    "Guest: Ashley Jackson\n",
    "Guest: Maria Maria Jackson\n",
    "Guest: Bob Sanders\n",
    "Guest: Bill Smith\n",
    "Entertainer: Michael Johnson\n",
    "Baker: Chris Jackson\n",
    "Party Planner: Seema Patel\n",
    "Publist: Seema Patel\n",
    "Baker: Ashley Sanders'''"
   ]
  },
  {
   "cell_type": "code",
   "execution_count": 76,
   "id": "e4c9207f",
   "metadata": {},
   "outputs": [],
   "source": [
    "pattern = re.compile(r'(?<!Baker: )(\\b\\w+\\s\\w+$|\\b\\w+\\s\\w+\\s\\w+$)', flags = re.IGNORECASE|re.M)"
   ]
  },
  {
   "cell_type": "code",
   "execution_count": 77,
   "id": "b9c2dd35",
   "metadata": {},
   "outputs": [
    {
     "data": {
      "text/plain": [
       "['Ashley Jackson',\n",
       " 'Maria Maria Jackson',\n",
       " 'Bob Sanders',\n",
       " 'Bill Smith',\n",
       " 'Michael Johnson',\n",
       " 'Seema Patel',\n",
       " 'Seema Patel']"
      ]
     },
     "execution_count": 77,
     "metadata": {},
     "output_type": "execute_result"
    }
   ],
   "source": [
    "re.findall(pattern, string)"
   ]
  },
  {
   "cell_type": "code",
   "execution_count": 81,
   "id": "1dc6b0e5",
   "metadata": {},
   "outputs": [],
   "source": [
    "pattern = re.compile(r'^(?!Baker: ).+$',flags = re.IGNORECASE|re.M)"
   ]
  },
  {
   "cell_type": "code",
   "execution_count": 82,
   "id": "0733dc36",
   "metadata": {},
   "outputs": [
    {
     "data": {
      "text/plain": [
       "['Full invitation list:',\n",
       " 'Guest: Ashley Jackson',\n",
       " 'Guest: Maria Maria Jackson',\n",
       " 'Guest: Bob Sanders',\n",
       " 'Guest: Bill Smith',\n",
       " 'Entertainer: Michael Johnson',\n",
       " 'Party Planner: Seema Patel',\n",
       " 'Publist: Seema Patel']"
      ]
     },
     "execution_count": 82,
     "metadata": {},
     "output_type": "execute_result"
    }
   ],
   "source": [
    "re.findall(pattern, string)"
   ]
  },
  {
   "cell_type": "code",
   "execution_count": 83,
   "id": "1313bc9c",
   "metadata": {},
   "outputs": [],
   "source": [
    "pattern = re.compile(r'^(?!Baker: ).+\\w+$',flags = re.IGNORECASE|re.M)"
   ]
  },
  {
   "cell_type": "code",
   "execution_count": 84,
   "id": "06bde851",
   "metadata": {},
   "outputs": [
    {
     "data": {
      "text/plain": [
       "['Guest: Ashley Jackson',\n",
       " 'Guest: Maria Maria Jackson',\n",
       " 'Guest: Bob Sanders',\n",
       " 'Guest: Bill Smith',\n",
       " 'Entertainer: Michael Johnson',\n",
       " 'Party Planner: Seema Patel',\n",
       " 'Publist: Seema Patel']"
      ]
     },
     "execution_count": 84,
     "metadata": {},
     "output_type": "execute_result"
    }
   ],
   "source": [
    "re.findall(pattern, string)"
   ]
  },
  {
   "cell_type": "code",
   "execution_count": null,
   "id": "75c7fbe4",
   "metadata": {},
   "outputs": [],
   "source": []
  }
 ],
 "metadata": {
  "kernelspec": {
   "display_name": "Python 3",
   "language": "python",
   "name": "python3"
  },
  "language_info": {
   "codemirror_mode": {
    "name": "ipython",
    "version": 3
   },
   "file_extension": ".py",
   "mimetype": "text/x-python",
   "name": "python",
   "nbconvert_exporter": "python",
   "pygments_lexer": "ipython3",
   "version": "3.8.8"
  }
 },
 "nbformat": 4,
 "nbformat_minor": 5
}
