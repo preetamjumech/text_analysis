{
 "cells": [
  {
   "cell_type": "code",
   "execution_count": 1,
   "id": "6afc68c1",
   "metadata": {},
   "outputs": [],
   "source": [
    "import re"
   ]
  },
  {
   "cell_type": "markdown",
   "id": "84bcf125",
   "metadata": {},
   "source": [
    "# greedy matching"
   ]
  },
  {
   "cell_type": "code",
   "execution_count": 11,
   "id": "1b50d4d6",
   "metadata": {},
   "outputs": [],
   "source": [
    "mystr = \"abcname='john'sagfhadsgghdshjdsname='shawn'jhcdjfdsjhdsh\""
   ]
  },
  {
   "cell_type": "code",
   "execution_count": 12,
   "id": "dde4f8ba",
   "metadata": {},
   "outputs": [],
   "source": [
    "m = re.search(r\"name=\\'(.*)\\'\",mystr)"
   ]
  },
  {
   "cell_type": "code",
   "execution_count": 13,
   "id": "54dd4fe2",
   "metadata": {},
   "outputs": [
    {
     "data": {
      "text/plain": [
       "<re.Match object; span=(3, 43), match=\"name='john'sagfhadsgghdshjdsname='shawn'\">"
      ]
     },
     "execution_count": 13,
     "metadata": {},
     "output_type": "execute_result"
    }
   ],
   "source": [
    "m"
   ]
  },
  {
   "cell_type": "code",
   "execution_count": 14,
   "id": "b7c8d294",
   "metadata": {},
   "outputs": [],
   "source": [
    "m1 = re.search(r\"name=\\'.*\\'\",mystr)"
   ]
  },
  {
   "cell_type": "code",
   "execution_count": 15,
   "id": "363b36ee",
   "metadata": {},
   "outputs": [
    {
     "data": {
      "text/plain": [
       "<re.Match object; span=(3, 43), match=\"name='john'sagfhadsgghdshjdsname='shawn'\">"
      ]
     },
     "execution_count": 15,
     "metadata": {},
     "output_type": "execute_result"
    }
   ],
   "source": [
    "m1"
   ]
  },
  {
   "cell_type": "markdown",
   "id": "6c34265d",
   "metadata": {},
   "source": [
    "# * and + are greedy"
   ]
  },
  {
   "cell_type": "code",
   "execution_count": 16,
   "id": "52baad27",
   "metadata": {},
   "outputs": [],
   "source": [
    "m = re.search(r\"name=\\'(.*?)\\'\",mystr) # to make it  non greedy use ?"
   ]
  },
  {
   "cell_type": "code",
   "execution_count": 17,
   "id": "6a3c893c",
   "metadata": {},
   "outputs": [
    {
     "data": {
      "text/plain": [
       "<re.Match object; span=(3, 14), match=\"name='john'\">"
      ]
     },
     "execution_count": 17,
     "metadata": {},
     "output_type": "execute_result"
    }
   ],
   "source": [
    "m"
   ]
  },
  {
   "cell_type": "code",
   "execution_count": 18,
   "id": "f1347ea5",
   "metadata": {},
   "outputs": [
    {
     "data": {
      "text/plain": [
       "\"name='john'\""
      ]
     },
     "execution_count": 18,
     "metadata": {},
     "output_type": "execute_result"
    }
   ],
   "source": [
    "m.group()"
   ]
  },
  {
   "cell_type": "markdown",
   "id": "6dbb6815",
   "metadata": {},
   "source": [
    "# lookahead"
   ]
  },
  {
   "cell_type": "code",
   "execution_count": 19,
   "id": "bbf5567f",
   "metadata": {},
   "outputs": [],
   "source": [
    "mystr = 'ababababbbbbaaaabbababbabab' #first b followed by b"
   ]
  },
  {
   "cell_type": "code",
   "execution_count": 21,
   "id": "990d8285",
   "metadata": {},
   "outputs": [
    {
     "data": {
      "text/plain": [
       "<re.Match object; span=(7, 8), match='b'>"
      ]
     },
     "execution_count": 21,
     "metadata": {},
     "output_type": "execute_result"
    }
   ],
   "source": [
    "m=re.search(r\"b(?=b)\",mystr)\n",
    "m"
   ]
  },
  {
   "cell_type": "markdown",
   "id": "6a9bac8a",
   "metadata": {},
   "source": [
    "# lookbehind"
   ]
  },
  {
   "cell_type": "code",
   "execution_count": 23,
   "id": "4085757f",
   "metadata": {},
   "outputs": [
    {
     "data": {
      "text/plain": [
       "<re.Match object; span=(16, 17), match='b'>"
      ]
     },
     "execution_count": 23,
     "metadata": {},
     "output_type": "execute_result"
    }
   ],
   "source": [
    "m = re.search(r\"(?<=aaa)b\",mystr) #first b preceeded by three b's\n",
    "m"
   ]
  },
  {
   "cell_type": "code",
   "execution_count": 24,
   "id": "bc6df087",
   "metadata": {},
   "outputs": [
    {
     "data": {
      "text/plain": [
       "<re.Match object; span=(16, 17), match='b'>"
      ]
     },
     "execution_count": 24,
     "metadata": {},
     "output_type": "execute_result"
    }
   ],
   "source": [
    "m = re.search(r\"(?<=a{3})b\",mystr)\n",
    "m"
   ]
  },
  {
   "cell_type": "markdown",
   "id": "7817601d",
   "metadata": {},
   "source": [
    "# -ve lookahead"
   ]
  },
  {
   "cell_type": "code",
   "execution_count": 26,
   "id": "2bd75854",
   "metadata": {},
   "outputs": [
    {
     "data": {
      "text/plain": [
       "<re.Match object; span=(7, 8), match='b'>"
      ]
     },
     "execution_count": 26,
     "metadata": {},
     "output_type": "execute_result"
    }
   ],
   "source": [
    "m = re.search(r\"b(?!a)\",mystr) # first b which is not followed by a\n",
    "m"
   ]
  },
  {
   "cell_type": "markdown",
   "id": "83ab5fd0",
   "metadata": {},
   "source": [
    "# -ve lookbehind"
   ]
  },
  {
   "cell_type": "code",
   "execution_count": 27,
   "id": "33ad2caa",
   "metadata": {},
   "outputs": [
    {
     "data": {
      "text/plain": [
       "<re.Match object; span=(8, 9), match='b'>"
      ]
     },
     "execution_count": 27,
     "metadata": {},
     "output_type": "execute_result"
    }
   ],
   "source": [
    "m = re.search(r\"(?<!a)b\",mystr) # first b which is not preceeded by a\n",
    "m"
   ]
  },
  {
   "cell_type": "code",
   "execution_count": null,
   "id": "31e74e86",
   "metadata": {},
   "outputs": [],
   "source": []
  }
 ],
 "metadata": {
  "kernelspec": {
   "display_name": "Python 3",
   "language": "python",
   "name": "python3"
  },
  "language_info": {
   "codemirror_mode": {
    "name": "ipython",
    "version": 3
   },
   "file_extension": ".py",
   "mimetype": "text/x-python",
   "name": "python",
   "nbconvert_exporter": "python",
   "pygments_lexer": "ipython3",
   "version": "3.8.8"
  }
 },
 "nbformat": 4,
 "nbformat_minor": 5
}
