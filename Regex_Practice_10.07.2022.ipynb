{
 "cells": [
  {
   "cell_type": "code",
   "execution_count": 1,
   "id": "924563d1",
   "metadata": {},
   "outputs": [],
   "source": [
    "import re"
   ]
  },
  {
   "cell_type": "code",
   "execution_count": 2,
   "id": "6f0bb7f5",
   "metadata": {},
   "outputs": [],
   "source": [
    "#re.search(pattern,string,flags) #searches anywhere in the string\n",
    "#re.match(pattern,string,flags) #search in the beginning of the string"
   ]
  },
  {
   "cell_type": "code",
   "execution_count": 3,
   "id": "4fee174b",
   "metadata": {},
   "outputs": [],
   "source": [
    "re.match(\"c\",\"abcde\") #gives nothing"
   ]
  },
  {
   "cell_type": "code",
   "execution_count": 4,
   "id": "adf29aea",
   "metadata": {},
   "outputs": [
    {
     "data": {
      "text/plain": [
       "<re.Match object; span=(2, 3), match='c'>"
      ]
     },
     "execution_count": 4,
     "metadata": {},
     "output_type": "execute_result"
    }
   ],
   "source": [
    "re.search(\"c\",\"abcde\")"
   ]
  },
  {
   "cell_type": "code",
   "execution_count": 5,
   "id": "a7bb3bab",
   "metadata": {},
   "outputs": [
    {
     "data": {
      "text/plain": [
       "False"
      ]
     },
     "execution_count": 5,
     "metadata": {},
     "output_type": "execute_result"
    }
   ],
   "source": [
    "bool(re.match(\"c\",\"abcde\"))"
   ]
  },
  {
   "cell_type": "code",
   "execution_count": 6,
   "id": "3bfd7d32",
   "metadata": {},
   "outputs": [
    {
     "data": {
      "text/plain": [
       "True"
      ]
     },
     "execution_count": 6,
     "metadata": {},
     "output_type": "execute_result"
    }
   ],
   "source": [
    "bool(re.match(\"a\",\"abcde\"))"
   ]
  },
  {
   "cell_type": "code",
   "execution_count": 7,
   "id": "4542ab6a",
   "metadata": {},
   "outputs": [
    {
     "data": {
      "text/plain": [
       "<re.Match object; span=(2, 3), match='c'>"
      ]
     },
     "execution_count": 7,
     "metadata": {},
     "output_type": "execute_result"
    }
   ],
   "source": [
    "re.search(\"c\",\"abcde\")"
   ]
  },
  {
   "cell_type": "code",
   "execution_count": 8,
   "id": "4ef38015",
   "metadata": {},
   "outputs": [
    {
     "data": {
      "text/plain": [
       "<re.Match object; span=(2, 3), match='c'>"
      ]
     },
     "execution_count": 8,
     "metadata": {},
     "output_type": "execute_result"
    }
   ],
   "source": [
    "re.search(\"c\",\"abcdec\") #only search the first instances"
   ]
  },
  {
   "cell_type": "code",
   "execution_count": 9,
   "id": "d9f6636d",
   "metadata": {},
   "outputs": [
    {
     "data": {
      "text/plain": [
       "<re.Match object; span=(2, 3), match='c'>"
      ]
     },
     "execution_count": 9,
     "metadata": {},
     "output_type": "execute_result"
    }
   ],
   "source": [
    "re.search(\"c\",\"abcde\\nc\") #search can be applied in new line too"
   ]
  },
  {
   "cell_type": "code",
   "execution_count": 10,
   "id": "91f8bf59",
   "metadata": {},
   "outputs": [],
   "source": [
    "re.match(\"c\",\"abcde\\nc\") #match doesnot work for the new line"
   ]
  },
  {
   "cell_type": "code",
   "execution_count": 11,
   "id": "251a6a59",
   "metadata": {},
   "outputs": [
    {
     "data": {
      "text/plain": [
       "<re.Match object; span=(0, 1), match='a'>"
      ]
     },
     "execution_count": 11,
     "metadata": {},
     "output_type": "execute_result"
    }
   ],
   "source": [
    "re.match(\"a\",\"abcde\") #match objects"
   ]
  },
  {
   "cell_type": "code",
   "execution_count": 12,
   "id": "b5ba9965",
   "metadata": {},
   "outputs": [
    {
     "data": {
      "text/plain": [
       "'a'"
      ]
     },
     "execution_count": 12,
     "metadata": {},
     "output_type": "execute_result"
    }
   ],
   "source": [
    "re.match(\"a\",\"abcde\").group() #string output, default value is zero"
   ]
  },
  {
   "cell_type": "code",
   "execution_count": 13,
   "id": "b7f3d979",
   "metadata": {},
   "outputs": [
    {
     "data": {
      "text/plain": [
       "'a'"
      ]
     },
     "execution_count": 13,
     "metadata": {},
     "output_type": "execute_result"
    }
   ],
   "source": [
    "re.match(\"a\",\"abcde\").group(0)"
   ]
  },
  {
   "cell_type": "code",
   "execution_count": 14,
   "id": "4a3bb7a8",
   "metadata": {},
   "outputs": [
    {
     "data": {
      "text/plain": [
       "<re.Match object; span=(2, 3), match='c'>"
      ]
     },
     "execution_count": 14,
     "metadata": {},
     "output_type": "execute_result"
    }
   ],
   "source": [
    "re.search(\"c\",\"abcde\")"
   ]
  },
  {
   "cell_type": "code",
   "execution_count": 16,
   "id": "c85cecb4",
   "metadata": {},
   "outputs": [
    {
     "data": {
      "text/plain": [
       "'c'"
      ]
     },
     "execution_count": 16,
     "metadata": {},
     "output_type": "execute_result"
    }
   ],
   "source": [
    "re.search(\"c\",\"abcde efg\").group(0)"
   ]
  },
  {
   "cell_type": "code",
   "execution_count": 17,
   "id": "d2e72cc5",
   "metadata": {},
   "outputs": [
    {
     "data": {
      "text/plain": [
       "'cde efg'"
      ]
     },
     "execution_count": 17,
     "metadata": {},
     "output_type": "execute_result"
    }
   ],
   "source": [
    "re.search(\"c.+\",\"abcde efg\").group(0)"
   ]
  },
  {
   "cell_type": "code",
   "execution_count": 18,
   "id": "ef131ea9",
   "metadata": {},
   "outputs": [
    {
     "data": {
      "text/plain": [
       "2"
      ]
     },
     "execution_count": 18,
     "metadata": {},
     "output_type": "execute_result"
    }
   ],
   "source": [
    "re.search(\"c\",\"abcde\").start()"
   ]
  },
  {
   "cell_type": "code",
   "execution_count": 19,
   "id": "31c25514",
   "metadata": {},
   "outputs": [
    {
     "data": {
      "text/plain": [
       "3"
      ]
     },
     "execution_count": 19,
     "metadata": {},
     "output_type": "execute_result"
    }
   ],
   "source": [
    "re.search(\"c\",\"abcde\").end()"
   ]
  },
  {
   "cell_type": "markdown",
   "id": "7d5de148",
   "metadata": {},
   "source": [
    "# literal matching"
   ]
  },
  {
   "cell_type": "code",
   "execution_count": 20,
   "id": "692c17fd",
   "metadata": {},
   "outputs": [],
   "source": [
    "re.search(\"na\",\"abcde\")"
   ]
  },
  {
   "cell_type": "code",
   "execution_count": 21,
   "id": "0aa80702",
   "metadata": {},
   "outputs": [
    {
     "data": {
      "text/plain": [
       "<re.Match object; span=(0, 1), match='a'>"
      ]
     },
     "execution_count": 21,
     "metadata": {},
     "output_type": "execute_result"
    }
   ],
   "source": [
    "re.search(\"n|a\",\"abcndar tubd\")"
   ]
  },
  {
   "cell_type": "code",
   "execution_count": 22,
   "id": "1e2bdf7d",
   "metadata": {},
   "outputs": [
    {
     "data": {
      "text/plain": [
       "<re.Match object; span=(3, 4), match='n'>"
      ]
     },
     "execution_count": 22,
     "metadata": {},
     "output_type": "execute_result"
    }
   ],
   "source": [
    "re.search(\"n|a\",\"dbcndar tubd\")"
   ]
  },
  {
   "cell_type": "code",
   "execution_count": 23,
   "id": "9184ff1e",
   "metadata": {},
   "outputs": [
    {
     "data": {
      "text/plain": [
       "<re.Match object; span=(0, 1), match='b'>"
      ]
     },
     "execution_count": 23,
     "metadata": {},
     "output_type": "execute_result"
    }
   ],
   "source": [
    "re.search(\"n|a|b\",\"bsdhgs yr\")"
   ]
  },
  {
   "cell_type": "markdown",
   "id": "994bafda",
   "metadata": {},
   "source": [
    "### re.findall pulls out all the instances"
   ]
  },
  {
   "cell_type": "code",
   "execution_count": 24,
   "id": "cbb22aea",
   "metadata": {},
   "outputs": [
    {
     "data": {
      "text/plain": [
       "['n', 'a', 'a', 'n']"
      ]
     },
     "execution_count": 24,
     "metadata": {},
     "output_type": "execute_result"
    }
   ],
   "source": [
    "re.findall(\"n|a\",\"gdhnhgradf hgfbaetdvn\")"
   ]
  },
  {
   "cell_type": "code",
   "execution_count": 25,
   "id": "4e2eef5a",
   "metadata": {},
   "outputs": [
    {
     "data": {
      "text/plain": [
       "<re.Match object; span=(0, 4), match='abcd'>"
      ]
     },
     "execution_count": 25,
     "metadata": {},
     "output_type": "execute_result"
    }
   ],
   "source": [
    "re.search(\"abcd\",\"abcdyh ghabcd\")"
   ]
  },
  {
   "cell_type": "code",
   "execution_count": 26,
   "id": "0196a3fa",
   "metadata": {},
   "outputs": [
    {
     "data": {
      "text/plain": [
       "['abcd', 'abcd']"
      ]
     },
     "execution_count": 26,
     "metadata": {},
     "output_type": "execute_result"
    }
   ],
   "source": [
    "re.findall(\"abcd\",\"abcdyh ghabcd\")"
   ]
  },
  {
   "cell_type": "markdown",
   "id": "6c55daed",
   "metadata": {},
   "source": [
    "# Practice"
   ]
  },
  {
   "cell_type": "code",
   "execution_count": 27,
   "id": "5f1a1bb7",
   "metadata": {},
   "outputs": [],
   "source": [
    "chat1 = 'codebasics: you ask lot of questions 😠  1235678912, abc@xyz.com'\n",
    "chat2 = 'codebasics: here it is: (123)-567-8912, abc@xyz.com'\n",
    "chat3 = 'codebasics: yes, phone: 1235678912 email: abc@xyz.com'"
   ]
  },
  {
   "cell_type": "code",
   "execution_count": 28,
   "id": "8b167686",
   "metadata": {},
   "outputs": [],
   "source": [
    "pattern = \"\\d{10}\""
   ]
  },
  {
   "cell_type": "code",
   "execution_count": 30,
   "id": "730efdbb",
   "metadata": {},
   "outputs": [
    {
     "data": {
      "text/plain": [
       "['1235678912']"
      ]
     },
     "execution_count": 30,
     "metadata": {},
     "output_type": "execute_result"
    }
   ],
   "source": [
    "matches = re.findall(pattern,chat1)\n",
    "matches"
   ]
  },
  {
   "cell_type": "code",
   "execution_count": 32,
   "id": "84d02d93",
   "metadata": {},
   "outputs": [],
   "source": [
    "pattern1 = \"\\d{10}|\\(\\d{3}\\)-\\d{3}-\\d{4}\""
   ]
  },
  {
   "cell_type": "code",
   "execution_count": 34,
   "id": "ea9032a7",
   "metadata": {},
   "outputs": [
    {
     "data": {
      "text/plain": [
       "['1235678912']"
      ]
     },
     "execution_count": 34,
     "metadata": {},
     "output_type": "execute_result"
    }
   ],
   "source": [
    "matches1 = re.findall(pattern1,chat1)\n",
    "matches1"
   ]
  },
  {
   "cell_type": "code",
   "execution_count": 35,
   "id": "c85c760c",
   "metadata": {},
   "outputs": [
    {
     "data": {
      "text/plain": [
       "['(123)-567-8912']"
      ]
     },
     "execution_count": 35,
     "metadata": {},
     "output_type": "execute_result"
    }
   ],
   "source": [
    "matches2 = re.findall(pattern1,chat2)\n",
    "matches2"
   ]
  },
  {
   "cell_type": "code",
   "execution_count": 36,
   "id": "3daa8378",
   "metadata": {},
   "outputs": [],
   "source": [
    "pattern2 = \"[a-zA-A0-9_]*@[a-zA-Z0-9]*\\.[a-zA-Z]*\""
   ]
  },
  {
   "cell_type": "code",
   "execution_count": 41,
   "id": "e377fe57",
   "metadata": {},
   "outputs": [
    {
     "data": {
      "text/plain": [
       "['abc@xyz.com']"
      ]
     },
     "execution_count": 41,
     "metadata": {},
     "output_type": "execute_result"
    }
   ],
   "source": [
    "matches3 = re.findall(pattern2,chat1)\n",
    "matches3"
   ]
  },
  {
   "cell_type": "code",
   "execution_count": 42,
   "id": "f9822f5f",
   "metadata": {},
   "outputs": [],
   "source": [
    "chat1='codebasics: Hello, I am having an issue with my order # 412889912'"
   ]
  },
  {
   "cell_type": "code",
   "execution_count": 43,
   "id": "a20f322b",
   "metadata": {},
   "outputs": [],
   "source": [
    "pattern3 = \"order[^\\d]*(\\d*)\""
   ]
  },
  {
   "cell_type": "code",
   "execution_count": 44,
   "id": "6c17d403",
   "metadata": {},
   "outputs": [
    {
     "data": {
      "text/plain": [
       "['412889912']"
      ]
     },
     "execution_count": 44,
     "metadata": {},
     "output_type": "execute_result"
    }
   ],
   "source": [
    "matches4 = re.findall(pattern3,chat1)\n",
    "matches4"
   ]
  },
  {
   "cell_type": "code",
   "execution_count": 45,
   "id": "e438ce0c",
   "metadata": {},
   "outputs": [
    {
     "data": {
      "text/plain": [
       "['412889912']"
      ]
     },
     "execution_count": 45,
     "metadata": {},
     "output_type": "execute_result"
    }
   ],
   "source": [
    "chat2='codebasics: I have a problem with my order number 412889912'\n",
    "pattern4 = 'order[^\\d]*(\\d*)'\n",
    "matches5 = re.findall(pattern4, chat2)\n",
    "matches5"
   ]
  },
  {
   "cell_type": "code",
   "execution_count": 46,
   "id": "35ffa080",
   "metadata": {},
   "outputs": [
    {
     "data": {
      "text/plain": [
       "['412889912']"
      ]
     },
     "execution_count": 46,
     "metadata": {},
     "output_type": "execute_result"
    }
   ],
   "source": [
    "chat3='codebasics: My order 412889912 is having an issue, I was charged 300$ when online it says 280$'\n",
    "pattern5 = 'order[^\\d]*(\\d*)'\n",
    "matches6 = re.findall(pattern5, chat3)\n",
    "matches6"
   ]
  },
  {
   "cell_type": "code",
   "execution_count": 47,
   "id": "c572d05c",
   "metadata": {},
   "outputs": [],
   "source": [
    "text='''\n",
    "Born\tElon Reeve Musk\n",
    "June 28, 1971 (age 50)\n",
    "Pretoria, Transvaal, South Africa\n",
    "Citizenship\t\n",
    "South Africa (1971–present)\n",
    "Canada (1971–present)\n",
    "United States (2002–present)\n",
    "Education\tUniversity of Pennsylvania (BS, BA)\n",
    "Title\t\n",
    "Founder, CEO and Chief Engineer of SpaceX\n",
    "CEO and product architect of Tesla, Inc.\n",
    "Founder of The Boring Company and X.com (now part of PayPal)\n",
    "Co-founder of Neuralink, OpenAI, and Zip2\n",
    "Spouse(s)\t\n",
    "Justine Wilson\n",
    "​\n",
    "​(m. 2000; div. 2008)​\n",
    "Talulah Riley\n",
    "​\n",
    "​(m. 2010; div. 2012)​\n",
    "​\n",
    "​(m. 2013; div. 2016)\n",
    "'''"
   ]
  },
  {
   "cell_type": "code",
   "execution_count": 48,
   "id": "de98afa3",
   "metadata": {},
   "outputs": [
    {
     "data": {
      "text/plain": [
       "['50']"
      ]
     },
     "execution_count": 48,
     "metadata": {},
     "output_type": "execute_result"
    }
   ],
   "source": [
    "pattern6 = \"age (\\d+)\"\n",
    "matches7 = re.findall(pattern6, text)\n",
    "matches7"
   ]
  },
  {
   "cell_type": "code",
   "execution_count": 50,
   "id": "ff8dc7f7",
   "metadata": {},
   "outputs": [
    {
     "data": {
      "text/plain": [
       "['\\tElon Reeve Musk']"
      ]
     },
     "execution_count": 50,
     "metadata": {},
     "output_type": "execute_result"
    }
   ],
   "source": [
    "pattern7 = \"Born(.*)\"\n",
    "matches8 = re.findall(pattern7,text)\n",
    "matches8"
   ]
  },
  {
   "cell_type": "code",
   "execution_count": 53,
   "id": "af5d4af2",
   "metadata": {},
   "outputs": [
    {
     "data": {
      "text/plain": [
       "'Elon Reeve Musk'"
      ]
     },
     "execution_count": 53,
     "metadata": {},
     "output_type": "execute_result"
    }
   ],
   "source": [
    "matches8[0].strip()"
   ]
  },
  {
   "cell_type": "code",
   "execution_count": 54,
   "id": "dc1fdd79",
   "metadata": {},
   "outputs": [],
   "source": [
    "pattern8 = \"Born.*\\n(.*)\\(age\""
   ]
  },
  {
   "cell_type": "code",
   "execution_count": 55,
   "id": "9d8fddef",
   "metadata": {},
   "outputs": [
    {
     "data": {
      "text/plain": [
       "['June 28, 1971 ']"
      ]
     },
     "execution_count": 55,
     "metadata": {},
     "output_type": "execute_result"
    }
   ],
   "source": [
    "matches9 = re.findall(pattern8,text)\n",
    "matches9"
   ]
  },
  {
   "cell_type": "code",
   "execution_count": 56,
   "id": "18fb1d9e",
   "metadata": {},
   "outputs": [
    {
     "data": {
      "text/plain": [
       "'June 28, 1971'"
      ]
     },
     "execution_count": 56,
     "metadata": {},
     "output_type": "execute_result"
    }
   ],
   "source": [
    "matches9[0].strip()"
   ]
  },
  {
   "cell_type": "code",
   "execution_count": 57,
   "id": "7149c292",
   "metadata": {},
   "outputs": [
    {
     "data": {
      "text/plain": [
       "['Pretoria, Transvaal, South Africa']"
      ]
     },
     "execution_count": 57,
     "metadata": {},
     "output_type": "execute_result"
    }
   ],
   "source": [
    "pattern9 = \"\\(age.*\\n(.*)\"\n",
    "matches10 = re.findall(pattern9,text)\n",
    "matches10"
   ]
  },
  {
   "cell_type": "code",
   "execution_count": 59,
   "id": "b7d15d54",
   "metadata": {},
   "outputs": [
    {
     "data": {
      "text/plain": [
       "'Pretoria, Transvaal, South Africa'"
      ]
     },
     "execution_count": 59,
     "metadata": {},
     "output_type": "execute_result"
    }
   ],
   "source": [
    "matches10[0].strip()"
   ]
  },
  {
   "cell_type": "code",
   "execution_count": 60,
   "id": "3232c910",
   "metadata": {},
   "outputs": [],
   "source": [
    "def get_pattern_match(pattern, text):\n",
    "    matches = re.findall(pattern, text)\n",
    "    if matches:\n",
    "        return matches[0]"
   ]
  },
  {
   "cell_type": "code",
   "execution_count": 61,
   "id": "bc326fea",
   "metadata": {},
   "outputs": [
    {
     "data": {
      "text/plain": [
       "'June 28, 1971 '"
      ]
     },
     "execution_count": 61,
     "metadata": {},
     "output_type": "execute_result"
    }
   ],
   "source": [
    "get_pattern_match(\"Born.*\\n(.*)\\(age\",text)"
   ]
  },
  {
   "cell_type": "code",
   "execution_count": 62,
   "id": "1ec71da2",
   "metadata": {},
   "outputs": [],
   "source": [
    "def extract_personal_information(text):\n",
    "    age = get_pattern_match('age (\\d+)', text)\n",
    "    full_name = get_pattern_match('Born(.*)\\n', text)\n",
    "    birth_date = get_pattern_match('Born.*\\n(.*)\\(age', text)\n",
    "    birth_place = get_pattern_match('\\(age.*\\n(.*)', text)\n",
    "    return {\n",
    "        'age': int(age),\n",
    "        'name': full_name.strip(),\n",
    "        'birth_date': birth_date.strip(),\n",
    "        'birth_place': birth_place.strip()\n",
    "    }"
   ]
  },
  {
   "cell_type": "code",
   "execution_count": 63,
   "id": "19f0e337",
   "metadata": {},
   "outputs": [
    {
     "data": {
      "text/plain": [
       "{'age': 50,\n",
       " 'name': 'Elon Reeve Musk',\n",
       " 'birth_date': 'June 28, 1971',\n",
       " 'birth_place': 'Pretoria, Transvaal, South Africa'}"
      ]
     },
     "execution_count": 63,
     "metadata": {},
     "output_type": "execute_result"
    }
   ],
   "source": [
    "extract_personal_information(text)"
   ]
  },
  {
   "cell_type": "code",
   "execution_count": 64,
   "id": "2d61ac34",
   "metadata": {},
   "outputs": [],
   "source": [
    "text1 = '''\n",
    "Born\tMukesh Dhirubhai Ambani\n",
    "19 April 1957 (age 64)\n",
    "Aden, Colony of Aden\n",
    "(present-day Yemen)[1][2]\n",
    "Nationality\tIndian\n",
    "Alma mater\t\n",
    "St. Xavier's College, Mumbai\n",
    "Institute of Chemical Technology (B.E.)\n",
    "Stanford University (drop-out)\n",
    "Occupation\tChairman and MD, Reliance Industries\n",
    "Spouse(s)\tNita Ambani ​(m. 1985)​[3]\n",
    "Children\t3\n",
    "Parent(s)\t\n",
    "Dhirubhai Ambani (father)\n",
    "Kokilaben Ambani (mother)\n",
    "Relatives\tAnil Ambani (brother)\n",
    "Tina Ambani (sister-in-law)\n",
    "'''"
   ]
  },
  {
   "cell_type": "code",
   "execution_count": 65,
   "id": "b48ca524",
   "metadata": {},
   "outputs": [
    {
     "data": {
      "text/plain": [
       "{'age': 64,\n",
       " 'name': 'Mukesh Dhirubhai Ambani',\n",
       " 'birth_date': '19 April 1957',\n",
       " 'birth_place': 'Aden, Colony of Aden'}"
      ]
     },
     "execution_count": 65,
     "metadata": {},
     "output_type": "execute_result"
    }
   ],
   "source": [
    "extract_personal_information(text1)"
   ]
  },
  {
   "cell_type": "code",
   "execution_count": null,
   "id": "9c19458f",
   "metadata": {},
   "outputs": [],
   "source": []
  }
 ],
 "metadata": {
  "kernelspec": {
   "display_name": "Python 3",
   "language": "python",
   "name": "python3"
  },
  "language_info": {
   "codemirror_mode": {
    "name": "ipython",
    "version": 3
   },
   "file_extension": ".py",
   "mimetype": "text/x-python",
   "name": "python",
   "nbconvert_exporter": "python",
   "pygments_lexer": "ipython3",
   "version": "3.8.8"
  }
 },
 "nbformat": 4,
 "nbformat_minor": 5
}
