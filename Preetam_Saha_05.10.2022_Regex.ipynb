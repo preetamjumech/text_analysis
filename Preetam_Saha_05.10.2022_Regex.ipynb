{
 "cells": [
  {
   "cell_type": "markdown",
   "id": "95734ddb",
   "metadata": {},
   "source": [
    "# Metacharacters\n",
    "\n",
    "# .[{()\\^$|?*+\n",
    "\n",
    "# . any character except a new line\n",
    "\n",
    "# \\d digit(0-9)\n",
    "# \\D not a digit\n",
    "# \\w word (a-z, A-Z, 0-9. _\n",
    "# \\W not a word\n",
    "# \\s whitespace (space, tab, newline)\n",
    "# \\S not whitespace\n",
    "\n",
    "# \\b word boundary\n",
    "# \\B not a word boundary\n",
    "\n",
    "# ^ begining of a string\n",
    "# $ end of a string\n",
    "\n",
    "# [] matches chareacters in brackets\n",
    "# [^] matches characters not in brackets\n",
    "\n",
    "# | either or \n",
    "\n",
    "# () group\n",
    "\n",
    "# quantifiers : ?= 0 or 1, *= 0 or more , += 1 or more"
   ]
  },
  {
   "cell_type": "code",
   "execution_count": 3,
   "id": "3b32fcea",
   "metadata": {},
   "outputs": [],
   "source": [
    "import re"
   ]
  },
  {
   "cell_type": "code",
   "execution_count": 2,
   "id": "93a607b7",
   "metadata": {},
   "outputs": [],
   "source": [
    "t1 = \"my phone number is 321-555-4321 and my brother's is 123.555.1234\""
   ]
  },
  {
   "cell_type": "code",
   "execution_count": 4,
   "id": "b9ec976a",
   "metadata": {},
   "outputs": [],
   "source": [
    "pattern = r\"\\d{3}.\\d{3}.\\d{4}\" # . --> any character"
   ]
  },
  {
   "cell_type": "code",
   "execution_count": 5,
   "id": "6fc9602f",
   "metadata": {},
   "outputs": [
    {
     "data": {
      "text/plain": [
       "['321-555-4321', '123.555.1234']"
      ]
     },
     "execution_count": 5,
     "metadata": {},
     "output_type": "execute_result"
    }
   ],
   "source": [
    "re.findall(pattern,t1)"
   ]
  },
  {
   "cell_type": "code",
   "execution_count": 6,
   "id": "3843208d",
   "metadata": {},
   "outputs": [],
   "source": [
    "t2 = \"my phone no is 321-555-4321 and my brother's phone no is 123.555.1234 and my house no 453*653*3445\""
   ]
  },
  {
   "cell_type": "code",
   "execution_count": 9,
   "id": "8b2fad36",
   "metadata": {},
   "outputs": [],
   "source": [
    "pattern = r\"\\d{3}[-.]\\d{3}[-.]\\d{4}\""
   ]
  },
  {
   "cell_type": "code",
   "execution_count": 10,
   "id": "1da174d9",
   "metadata": {},
   "outputs": [
    {
     "data": {
      "text/plain": [
       "['321-555-4321', '123.555.1234']"
      ]
     },
     "execution_count": 10,
     "metadata": {},
     "output_type": "execute_result"
    }
   ],
   "source": [
    "re.findall(pattern,t2)"
   ]
  },
  {
   "cell_type": "code",
   "execution_count": 12,
   "id": "71c57e43",
   "metadata": {},
   "outputs": [],
   "source": [
    "pattern = r\"\\d{3}[-.\\*]\\d{3}[-.\\*]\\d{4}\""
   ]
  },
  {
   "cell_type": "code",
   "execution_count": 13,
   "id": "9c4fb318",
   "metadata": {},
   "outputs": [
    {
     "data": {
      "text/plain": [
       "['321-555-4321', '123.555.1234', '453*653*3445']"
      ]
     },
     "execution_count": 13,
     "metadata": {},
     "output_type": "execute_result"
    }
   ],
   "source": [
    "re.findall(pattern,t2)"
   ]
  },
  {
   "cell_type": "code",
   "execution_count": 14,
   "id": "5431ae59",
   "metadata": {},
   "outputs": [],
   "source": [
    "pattern = r\"\\d{3}[-\\.\\*]\\d{3}[-\\.\\*]\\d{4}\""
   ]
  },
  {
   "cell_type": "code",
   "execution_count": 15,
   "id": "85e7f78f",
   "metadata": {},
   "outputs": [
    {
     "data": {
      "text/plain": [
       "['321-555-4321', '123.555.1234', '453*653*3445']"
      ]
     },
     "execution_count": 15,
     "metadata": {},
     "output_type": "execute_result"
    }
   ],
   "source": [
    "re.findall(pattern,t2)"
   ]
  },
  {
   "cell_type": "code",
   "execution_count": 16,
   "id": "27394a0d",
   "metadata": {},
   "outputs": [],
   "source": [
    "t3 = \"my phone number is 321--555-4321 and my brother's is 123.555.1234\""
   ]
  },
  {
   "cell_type": "code",
   "execution_count": 17,
   "id": "383b1561",
   "metadata": {},
   "outputs": [],
   "source": [
    "pattern = r\"d{3}[-.]\\d{3}[-.]\\d{4}[-.]\" # [-.] means either - or .(any character) not both"
   ]
  },
  {
   "cell_type": "code",
   "execution_count": 18,
   "id": "e844cba3",
   "metadata": {},
   "outputs": [
    {
     "data": {
      "text/plain": [
       "[]"
      ]
     },
     "execution_count": 18,
     "metadata": {},
     "output_type": "execute_result"
    }
   ],
   "source": [
    "re.findall(pattern,t3)"
   ]
  },
  {
   "cell_type": "code",
   "execution_count": 19,
   "id": "a8207200",
   "metadata": {},
   "outputs": [],
   "source": [
    "t4 = \"435-545-4664 , 564.324.6645, 213*466*7889, 800-345-9878, 900-555-3211 \""
   ]
  },
  {
   "cell_type": "code",
   "execution_count": 22,
   "id": "075cea4e",
   "metadata": {},
   "outputs": [],
   "source": [
    "pattern = r\"[89]00-\\d{3}-\\d{4}\""
   ]
  },
  {
   "cell_type": "code",
   "execution_count": 23,
   "id": "7c7372e7",
   "metadata": {},
   "outputs": [
    {
     "data": {
      "text/plain": [
       "['800-345-9878', '900-555-3211']"
      ]
     },
     "execution_count": 23,
     "metadata": {},
     "output_type": "execute_result"
    }
   ],
   "source": [
    "re.findall(pattern,t4)"
   ]
  },
  {
   "cell_type": "code",
   "execution_count": 24,
   "id": "6cc23cd1",
   "metadata": {},
   "outputs": [],
   "source": [
    "t5 = \"cat,bat,mat,pat\""
   ]
  },
  {
   "cell_type": "code",
   "execution_count": 25,
   "id": "c244cdd9",
   "metadata": {},
   "outputs": [],
   "source": [
    "pattern = r\"[^b]at\""
   ]
  },
  {
   "cell_type": "code",
   "execution_count": 26,
   "id": "3c7020c4",
   "metadata": {},
   "outputs": [
    {
     "data": {
      "text/plain": [
       "['cat', 'mat', 'pat']"
      ]
     },
     "execution_count": 26,
     "metadata": {},
     "output_type": "execute_result"
    }
   ],
   "source": [
    "re.findall(pattern,t5)"
   ]
  },
  {
   "cell_type": "code",
   "execution_count": 27,
   "id": "55343dec",
   "metadata": {},
   "outputs": [],
   "source": [
    "t5 = \"435-545-4664 , 564.324.6645, 213*466*7889, 800\\345\\9878, 900/555/3211\""
   ]
  },
  {
   "cell_type": "code",
   "execution_count": 28,
   "id": "b76b9fa2",
   "metadata": {},
   "outputs": [],
   "source": [
    "pattern = r\"\\d{3}.\\d{3}.\\d{4}\""
   ]
  },
  {
   "cell_type": "code",
   "execution_count": 29,
   "id": "8de16139",
   "metadata": {},
   "outputs": [
    {
     "data": {
      "text/plain": [
       "['435-545-4664', '564.324.6645', '213*466*7889', '900/555/3211']"
      ]
     },
     "execution_count": 29,
     "metadata": {},
     "output_type": "execute_result"
    }
   ],
   "source": [
    "re.findall(pattern,t5)"
   ]
  },
  {
   "cell_type": "code",
   "execution_count": 54,
   "id": "eb5bcbbc",
   "metadata": {},
   "outputs": [],
   "source": [
    "t6 = \"Mr. Smith, Mr Smooyhj, Ms Davids, Mrs. Dgbrttrt, Mr. T\""
   ]
  },
  {
   "cell_type": "code",
   "execution_count": 55,
   "id": "fe6d369a",
   "metadata": {},
   "outputs": [],
   "source": [
    "pattern = r\"Mr\\.?\\s[A-Z]\\w*\""
   ]
  },
  {
   "cell_type": "code",
   "execution_count": 56,
   "id": "d2ffcd82",
   "metadata": {},
   "outputs": [
    {
     "data": {
      "text/plain": [
       "['Mr. Smith', 'Mr Smooyhj', 'Mr. T']"
      ]
     },
     "execution_count": 56,
     "metadata": {},
     "output_type": "execute_result"
    }
   ],
   "source": [
    "re.findall(pattern,t6)"
   ]
  },
  {
   "cell_type": "code",
   "execution_count": 63,
   "id": "25773773",
   "metadata": {},
   "outputs": [],
   "source": [
    "pattern = r\"M[a-z]+\\.?\\s[A-Z]\\w*\""
   ]
  },
  {
   "cell_type": "code",
   "execution_count": 64,
   "id": "ce16568f",
   "metadata": {},
   "outputs": [
    {
     "data": {
      "text/plain": [
       "['Mr. Smith', 'Mr Smooyhj', 'Ms Davids', 'Mrs. Dgbrttrt', 'Mr. T']"
      ]
     },
     "execution_count": 64,
     "metadata": {},
     "output_type": "execute_result"
    }
   ],
   "source": [
    "re.findall(pattern,t6)"
   ]
  },
  {
   "cell_type": "code",
   "execution_count": 65,
   "id": "0786801d",
   "metadata": {},
   "outputs": [],
   "source": [
    "t7 = \"Pree@gmail.com, preet.ssaga@university.edu, preet-344-sahaha@my-work.net\""
   ]
  },
  {
   "cell_type": "code",
   "execution_count": 71,
   "id": "51b523ad",
   "metadata": {},
   "outputs": [],
   "source": [
    "pattern = r\"[a-zA-Z.]+@[a-z]+\\.[a-z]+\""
   ]
  },
  {
   "cell_type": "code",
   "execution_count": 72,
   "id": "d476c191",
   "metadata": {},
   "outputs": [
    {
     "data": {
      "text/plain": [
       "['Pree@gmail.com', 'preet.ssaga@university.edu']"
      ]
     },
     "execution_count": 72,
     "metadata": {},
     "output_type": "execute_result"
    }
   ],
   "source": [
    "re.findall(pattern,t7)"
   ]
  },
  {
   "cell_type": "code",
   "execution_count": 76,
   "id": "62a75023",
   "metadata": {},
   "outputs": [],
   "source": [
    "pattern = r\"[a-zA-Z\\.]+@[a-z]+\\.[a-z]+\""
   ]
  },
  {
   "cell_type": "code",
   "execution_count": 77,
   "id": "9f7d4461",
   "metadata": {},
   "outputs": [
    {
     "data": {
      "text/plain": [
       "['Pree@gmail.com', 'preet.ssaga@university.edu']"
      ]
     },
     "execution_count": 77,
     "metadata": {},
     "output_type": "execute_result"
    }
   ],
   "source": [
    "re.findall(pattern,t7)"
   ]
  },
  {
   "cell_type": "code",
   "execution_count": 80,
   "id": "2125c81f",
   "metadata": {},
   "outputs": [],
   "source": [
    "pattern = r\"[a-zA-Z0-9.-]+@[a-z-]+\\.[a-z]+\""
   ]
  },
  {
   "cell_type": "code",
   "execution_count": 81,
   "id": "5bfca9f1",
   "metadata": {},
   "outputs": [
    {
     "data": {
      "text/plain": [
       "['Pree@gmail.com',\n",
       " 'preet.ssaga@university.edu',\n",
       " 'preet-344-sahaha@my-work.net']"
      ]
     },
     "execution_count": 81,
     "metadata": {},
     "output_type": "execute_result"
    }
   ],
   "source": [
    "re.findall(pattern,t7)"
   ]
  },
  {
   "cell_type": "code",
   "execution_count": 82,
   "id": "76aaa780",
   "metadata": {},
   "outputs": [],
   "source": [
    "t8 = \"https://www.google.com, https//coreyshghhh.com, https://youtube.com, https://www.nasa.gov\""
   ]
  },
  {
   "cell_type": "code",
   "execution_count": 92,
   "id": "e989d910",
   "metadata": {},
   "outputs": [],
   "source": [
    "pattern = r\"https?:?//[a-za-za-z.]*\\w+\\.\\w+\""
   ]
  },
  {
   "cell_type": "code",
   "execution_count": 93,
   "id": "ff125b34",
   "metadata": {},
   "outputs": [
    {
     "data": {
      "text/plain": [
       "['https://www.google.com',\n",
       " 'https//www.coreyshghhh.com',\n",
       " 'https://www.youtube.com',\n",
       " 'https://www.nasa.gov']"
      ]
     },
     "execution_count": 93,
     "metadata": {},
     "output_type": "execute_result"
    }
   ],
   "source": [
    "re.findall(pattern,t8)"
   ]
  },
  {
   "cell_type": "code",
   "execution_count": null,
   "id": "00c04e95",
   "metadata": {},
   "outputs": [],
   "source": []
  }
 ],
 "metadata": {
  "kernelspec": {
   "display_name": "Python 3",
   "language": "python",
   "name": "python3"
  },
  "language_info": {
   "codemirror_mode": {
    "name": "ipython",
    "version": 3
   },
   "file_extension": ".py",
   "mimetype": "text/x-python",
   "name": "python",
   "nbconvert_exporter": "python",
   "pygments_lexer": "ipython3",
   "version": "3.8.8"
  }
 },
 "nbformat": 4,
 "nbformat_minor": 5
}
