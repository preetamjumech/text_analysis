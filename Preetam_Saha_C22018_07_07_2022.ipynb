{
  "nbformat": 4,
  "nbformat_minor": 0,
  "metadata": {
    "colab": {
      "name": "Preetam Saha_C22018_07.07.2022.ipynb",
      "provenance": [],
      "collapsed_sections": []
    },
    "kernelspec": {
      "name": "python3",
      "display_name": "Python 3"
    },
    "language_info": {
      "name": "python"
    }
  },
  "cells": [
    {
      "cell_type": "code",
      "execution_count": 1,
      "metadata": {
        "id": "pG3TGgiYGlr7"
      },
      "outputs": [],
      "source": [
        "import re"
      ]
    },
    {
      "cell_type": "code",
      "source": [
        "s1 = '''Phill Collins was travelling with his friend Andrew Symons \n",
        "when he met the accident.''' # names are separted by white space, starting letter is in capital n rest are in small letters"
      ],
      "metadata": {
        "id": "CjXNmOBPGtA6"
      },
      "execution_count": 2,
      "outputs": []
    },
    {
      "cell_type": "code",
      "source": [
        "s2 = \"gdghd4567db6 asggf 22365  gdghd4567db6\" # first alphabetical in nature , second numercial in nature"
      ],
      "metadata": {
        "id": "k5oTWzEkHoqq"
      },
      "execution_count": 45,
      "outputs": []
    },
    {
      "cell_type": "code",
      "source": [
        "re.findall(\"[a-z]\",s2)  # inside square bracket all will be matched"
      ],
      "metadata": {
        "colab": {
          "base_uri": "https://localhost:8080/"
        },
        "id": "rtLtnjaGH2RG",
        "outputId": "2c0b84ec-c2e7-47a8-c110-54f86856ac3b"
      },
      "execution_count": 46,
      "outputs": [
        {
          "output_type": "execute_result",
          "data": {
            "text/plain": [
              "['g',\n",
              " 'd',\n",
              " 'g',\n",
              " 'h',\n",
              " 'd',\n",
              " 'd',\n",
              " 'b',\n",
              " 'a',\n",
              " 's',\n",
              " 'g',\n",
              " 'g',\n",
              " 'f',\n",
              " 'g',\n",
              " 'd',\n",
              " 'g',\n",
              " 'h',\n",
              " 'd',\n",
              " 'd',\n",
              " 'b']"
            ]
          },
          "metadata": {},
          "execution_count": 46
        }
      ]
    },
    {
      "cell_type": "code",
      "source": [
        "re.findall(\"[a-z]+\",s2)  # + means 1 or more than number of occurances , it will give a list"
      ],
      "metadata": {
        "colab": {
          "base_uri": "https://localhost:8080/"
        },
        "id": "CrA1qcK-IkLK",
        "outputId": "ef634ba3-957f-4a7f-b89e-98e4bab686f1"
      },
      "execution_count": 47,
      "outputs": [
        {
          "output_type": "execute_result",
          "data": {
            "text/plain": [
              "['gdghd', 'db', 'asggf', 'gdghd', 'db']"
            ]
          },
          "metadata": {},
          "execution_count": 47
        }
      ]
    },
    {
      "cell_type": "code",
      "source": [
        "re.findall(\"[a-z]*\",s2) # * means zero or more no of occurances"
      ],
      "metadata": {
        "colab": {
          "base_uri": "https://localhost:8080/"
        },
        "id": "bAB6XB1NI_qN",
        "outputId": "f52588b9-811b-4c5d-b364-693021cb6aa1"
      },
      "execution_count": 48,
      "outputs": [
        {
          "output_type": "execute_result",
          "data": {
            "text/plain": [
              "['gdghd',\n",
              " '',\n",
              " '',\n",
              " '',\n",
              " '',\n",
              " 'db',\n",
              " '',\n",
              " '',\n",
              " 'asggf',\n",
              " '',\n",
              " '',\n",
              " '',\n",
              " '',\n",
              " '',\n",
              " '',\n",
              " '',\n",
              " '',\n",
              " 'gdghd',\n",
              " '',\n",
              " '',\n",
              " '',\n",
              " '',\n",
              " 'db',\n",
              " '',\n",
              " '']"
            ]
          },
          "metadata": {},
          "execution_count": 48
        }
      ]
    },
    {
      "cell_type": "code",
      "source": [
        "re.findall(\"[0-9]+\",s2)"
      ],
      "metadata": {
        "colab": {
          "base_uri": "https://localhost:8080/"
        },
        "id": "065dYoJmJ0c4",
        "outputId": "9dc1676f-ca2a-41ac-a1fb-96228734f53c"
      },
      "execution_count": 49,
      "outputs": [
        {
          "output_type": "execute_result",
          "data": {
            "text/plain": [
              "['4567', '6', '22365', '4567', '6']"
            ]
          },
          "metadata": {},
          "execution_count": 49
        }
      ]
    },
    {
      "cell_type": "code",
      "source": [
        "# combination of alpha numeric\n",
        "l1=re.findall(\"[0-9a-z]+\",s2)\n",
        "l1"
      ],
      "metadata": {
        "colab": {
          "base_uri": "https://localhost:8080/"
        },
        "id": "2EG7ANNvJ-9c",
        "outputId": "0c21d5ed-2960-4b32-c51f-b80657ed4e29"
      },
      "execution_count": 50,
      "outputs": [
        {
          "output_type": "execute_result",
          "data": {
            "text/plain": [
              "['gdghd4567db6', 'asggf', '22365', 'gdghd4567db6']"
            ]
          },
          "metadata": {},
          "execution_count": 50
        }
      ]
    },
    {
      "cell_type": "code",
      "source": [
        "re.findall(\"[0-9a-z]+\",s2)[-1]"
      ],
      "metadata": {
        "colab": {
          "base_uri": "https://localhost:8080/",
          "height": 35
        },
        "id": "b5hxYLEFKktp",
        "outputId": "700eb532-b197-4bce-ab61-be58c21ad9b0"
      },
      "execution_count": 51,
      "outputs": [
        {
          "output_type": "execute_result",
          "data": {
            "text/plain": [
              "'gdghd4567db6'"
            ],
            "application/vnd.google.colaboratory.intrinsic+json": {
              "type": "string"
            }
          },
          "metadata": {},
          "execution_count": 51
        }
      ]
    },
    {
      "cell_type": "code",
      "source": [
        "for c in l1:\n",
        "  if (c == re.findall(\"[0-9]+\",s2)) and (c == re.findall(\"[a-z]+\",s2)):\n",
        "    print(c)"
      ],
      "metadata": {
        "id": "Hv-zSYQOKk7I"
      },
      "execution_count": 52,
      "outputs": []
    },
    {
      "cell_type": "code",
      "source": [
        "for c in l1:\n",
        "  print(c)"
      ],
      "metadata": {
        "colab": {
          "base_uri": "https://localhost:8080/"
        },
        "id": "MEaNGrI4KlEz",
        "outputId": "7f091aa5-aad3-4fcb-edab-4021fba6b5ce"
      },
      "execution_count": 53,
      "outputs": [
        {
          "output_type": "stream",
          "name": "stdout",
          "text": [
            "gdghd4567db6\n",
            "asggf\n",
            "22365\n",
            "gdghd4567db6\n"
          ]
        }
      ]
    },
    {
      "cell_type": "code",
      "source": [
        "def only_alpha_numeric(txt):\n",
        "  alpha_num = set(re.findall(\"[a-z0-9]+\",txt))\n",
        "  only_alpha = set(re.findall(\"[a-z]+\",txt))\n",
        "  only_num = set(re.findall(\"[0-9]+\",txt))\n",
        "  s1 = alpha_num - only_alpha\n",
        "  s2 = s1-only_num\n",
        "  return list(s2)"
      ],
      "metadata": {
        "id": "FKsFzLMFKlJ_"
      },
      "execution_count": 54,
      "outputs": []
    },
    {
      "cell_type": "code",
      "source": [
        "only_alpha_numeric(s2)[0] # gives the unique values"
      ],
      "metadata": {
        "colab": {
          "base_uri": "https://localhost:8080/",
          "height": 35
        },
        "id": "iFy_Ug0LNQEr",
        "outputId": "683c9469-4a50-48cf-f722-5605567777b8"
      },
      "execution_count": 55,
      "outputs": [
        {
          "output_type": "execute_result",
          "data": {
            "text/plain": [
              "'gdghd4567db6'"
            ],
            "application/vnd.google.colaboratory.intrinsic+json": {
              "type": "string"
            }
          },
          "metadata": {},
          "execution_count": 55
        }
      ]
    },
    {
      "cell_type": "code",
      "source": [
        "only_alpha_numeric(s2)"
      ],
      "metadata": {
        "colab": {
          "base_uri": "https://localhost:8080/"
        },
        "id": "708WYDShPZO9",
        "outputId": "b1ddd7a9-75d9-41eb-efb9-003066b33bb0"
      },
      "execution_count": 56,
      "outputs": [
        {
          "output_type": "execute_result",
          "data": {
            "text/plain": [
              "['gdghd4567db6']"
            ]
          },
          "metadata": {},
          "execution_count": 56
        }
      ]
    },
    {
      "cell_type": "code",
      "source": [
        "re.search(only_alpha_numeric(s2)[0],s2)"
      ],
      "metadata": {
        "colab": {
          "base_uri": "https://localhost:8080/"
        },
        "id": "e7OdOo1hNQMF",
        "outputId": "a115db98-5659-422b-b716-e97f4eb2735e"
      },
      "execution_count": 57,
      "outputs": [
        {
          "output_type": "execute_result",
          "data": {
            "text/plain": [
              "<re.Match object; span=(0, 12), match='gdghd4567db6'>"
            ]
          },
          "metadata": {},
          "execution_count": 57
        }
      ]
    },
    {
      "cell_type": "code",
      "source": [
        "s2[13]"
      ],
      "metadata": {
        "colab": {
          "base_uri": "https://localhost:8080/",
          "height": 35
        },
        "id": "JYoUconsNQOx",
        "outputId": "957b9874-7964-4106-8a24-bf8da83c8c21"
      },
      "execution_count": 58,
      "outputs": [
        {
          "output_type": "execute_result",
          "data": {
            "text/plain": [
              "'a'"
            ],
            "application/vnd.google.colaboratory.intrinsic+json": {
              "type": "string"
            }
          },
          "metadata": {},
          "execution_count": 58
        }
      ]
    },
    {
      "cell_type": "code",
      "source": [
        "s2[24]"
      ],
      "metadata": {
        "colab": {
          "base_uri": "https://localhost:8080/",
          "height": 35
        },
        "id": "CoOYwa6yOQFp",
        "outputId": "8f4ae582-22ff-47da-d706-37f2e83fb853"
      },
      "execution_count": 59,
      "outputs": [
        {
          "output_type": "execute_result",
          "data": {
            "text/plain": [
              "' '"
            ],
            "application/vnd.google.colaboratory.intrinsic+json": {
              "type": "string"
            }
          },
          "metadata": {},
          "execution_count": 59
        }
      ]
    },
    {
      "cell_type": "code",
      "source": [
        "s2[13:16]"
      ],
      "metadata": {
        "colab": {
          "base_uri": "https://localhost:8080/",
          "height": 35
        },
        "id": "7XFW2vwmOQIW",
        "outputId": "e06f8c12-87fd-4cc2-aa7f-8fbcc74594db"
      },
      "execution_count": 60,
      "outputs": [
        {
          "output_type": "execute_result",
          "data": {
            "text/plain": [
              "'asg'"
            ],
            "application/vnd.google.colaboratory.intrinsic+json": {
              "type": "string"
            }
          },
          "metadata": {},
          "execution_count": 60
        }
      ]
    },
    {
      "cell_type": "code",
      "source": [
        "# finditer is a generator, it will not give a direct output # to find the location and multiple repeatations\n",
        "for token in re.finditer(only_alpha_numeric(s2)[0],s2):\n",
        "  print(token)"
      ],
      "metadata": {
        "colab": {
          "base_uri": "https://localhost:8080/"
        },
        "id": "6sUxG8wDOQLK",
        "outputId": "127da892-8988-486c-ecad-2e5623c6e808"
      },
      "execution_count": 61,
      "outputs": [
        {
          "output_type": "stream",
          "name": "stdout",
          "text": [
            "<re.Match object; span=(0, 12), match='gdghd4567db6'>\n",
            "<re.Match object; span=(26, 38), match='gdghd4567db6'>\n"
          ]
        }
      ]
    },
    {
      "cell_type": "code",
      "source": [
        "re.findall(only_alpha_numeric(s2)[0],s2)"
      ],
      "metadata": {
        "colab": {
          "base_uri": "https://localhost:8080/"
        },
        "id": "1M5fRrc0OQN1",
        "outputId": "0c5e1cbb-2066-448b-b84e-15894fc41fc0"
      },
      "execution_count": 62,
      "outputs": [
        {
          "output_type": "execute_result",
          "data": {
            "text/plain": [
              "['gdghd4567db6', 'gdghd4567db6']"
            ]
          },
          "metadata": {},
          "execution_count": 62
        }
      ]
    },
    {
      "cell_type": "code",
      "source": [
        "re.findall(\"[A-Z][a-z]+ [A-Z][a-z]+\",s1) # not full proof "
      ],
      "metadata": {
        "colab": {
          "base_uri": "https://localhost:8080/"
        },
        "id": "PVC9C_rLP5_O",
        "outputId": "1ff06493-5f5b-438d-bc8e-bb69e41a30b2"
      },
      "execution_count": 63,
      "outputs": [
        {
          "output_type": "execute_result",
          "data": {
            "text/plain": [
              "['Phill Collins', 'Andrew Symons']"
            ]
          },
          "metadata": {},
          "execution_count": 63
        }
      ]
    },
    {
      "cell_type": "code",
      "source": [
        "re.findall(\"[A-Z][a-z ]+ \",s1)"
      ],
      "metadata": {
        "colab": {
          "base_uri": "https://localhost:8080/"
        },
        "id": "OHlQMcHJQxgU",
        "outputId": "977d8892-99da-4493-e426-31be309663d4"
      },
      "execution_count": 64,
      "outputs": [
        {
          "output_type": "execute_result",
          "data": {
            "text/plain": [
              "['Phill ', 'Collins was travelling with his friend ', 'Andrew ', 'Symons ']"
            ]
          },
          "metadata": {},
          "execution_count": 64
        }
      ]
    },
    {
      "cell_type": "code",
      "source": [
        "re.findall(\"[A-z]+ \",s1)"
      ],
      "metadata": {
        "colab": {
          "base_uri": "https://localhost:8080/"
        },
        "id": "7cnv8bBaRKqB",
        "outputId": "ed9e4a53-f76a-4cd1-d9de-d9b2f00195d6"
      },
      "execution_count": 65,
      "outputs": [
        {
          "output_type": "execute_result",
          "data": {
            "text/plain": [
              "['Phill ',\n",
              " 'Collins ',\n",
              " 'was ',\n",
              " 'travelling ',\n",
              " 'with ',\n",
              " 'his ',\n",
              " 'friend ',\n",
              " 'Andrew ',\n",
              " 'Symons ',\n",
              " 'when ',\n",
              " 'he ',\n",
              " 'met ',\n",
              " 'the ']"
            ]
          },
          "metadata": {},
          "execution_count": 65
        }
      ]
    },
    {
      "cell_type": "code",
      "source": [
        "s3 = \"I have my mobile numbers 01234567890, +91-1234567890, 1234567890, 12345-67890 and my building number is 48-25\""
      ],
      "metadata": {
        "id": "Ajq9WDSLRZgO"
      },
      "execution_count": 73,
      "outputs": []
    },
    {
      "cell_type": "code",
      "source": [
        "re.findall(\"[0-9]+-*[0-9]+\",s3)"
      ],
      "metadata": {
        "colab": {
          "base_uri": "https://localhost:8080/"
        },
        "id": "dXi9qhRJRZjg",
        "outputId": "d0b8c47e-1f13-408a-cb67-47c402c3d141"
      },
      "execution_count": 80,
      "outputs": [
        {
          "output_type": "execute_result",
          "data": {
            "text/plain": [
              "['01234567890', '91-1234567890', '1234567890', '12345-67890', '48-25']"
            ]
          },
          "metadata": {},
          "execution_count": 80
        }
      ]
    },
    {
      "cell_type": "code",
      "source": [
        "re.findall(\"[0-9]+-*[0-9]+\",s3)"
      ],
      "metadata": {
        "colab": {
          "base_uri": "https://localhost:8080/"
        },
        "id": "uQyXvIiCS-WN",
        "outputId": "28a5728a-4aad-4963-b9b4-c7663e588da3"
      },
      "execution_count": 75,
      "outputs": [
        {
          "output_type": "execute_result",
          "data": {
            "text/plain": [
              "['01234567890', '91-1234567890', '1234567890', '12345-67890', '48-25']"
            ]
          },
          "metadata": {},
          "execution_count": 75
        }
      ]
    },
    {
      "cell_type": "code",
      "source": [
        "re.findall(\"[\\d+-]+\",s3) #\\d means any digits"
      ],
      "metadata": {
        "colab": {
          "base_uri": "https://localhost:8080/"
        },
        "id": "EkmTjZ1DRZpN",
        "outputId": "713e82c7-5746-4cb1-dedd-22e1df9bbfc9"
      },
      "execution_count": 76,
      "outputs": [
        {
          "output_type": "execute_result",
          "data": {
            "text/plain": [
              "['01234567890', '+91-1234567890', '1234567890', '12345-67890', '48-25']"
            ]
          },
          "metadata": {},
          "execution_count": 76
        }
      ]
    },
    {
      "cell_type": "code",
      "source": [
        "re.findall(\"[\\d+-]{10,14}\",s3) #\\d means any digits"
      ],
      "metadata": {
        "colab": {
          "base_uri": "https://localhost:8080/"
        },
        "id": "ofoAt-cNTTB8",
        "outputId": "0e75ec4a-fef2-4058-90a0-71054f4b2bb4"
      },
      "execution_count": 82,
      "outputs": [
        {
          "output_type": "execute_result",
          "data": {
            "text/plain": [
              "['01234567890', '+91-1234567890', '1234567890', '12345-67890']"
            ]
          },
          "metadata": {},
          "execution_count": 82
        }
      ]
    },
    {
      "cell_type": "code",
      "source": [
        "#re.findall(\"[+]?[0-9-]+\") #? means may be there or may not be there 0 or 1"
      ],
      "metadata": {
        "id": "Mkmkvcq8Tu8M"
      },
      "execution_count": null,
      "outputs": []
    },
    {
      "cell_type": "code",
      "source": [
        "re.findall(\"[0-9]{10,11}|[+][0-9]{2}-[0-9]{10}|[0-9]{5}-[0-9]{5}\",s3)"
      ],
      "metadata": {
        "colab": {
          "base_uri": "https://localhost:8080/"
        },
        "id": "_XB4jayVUTCZ",
        "outputId": "8e03425f-296d-4a50-a787-43990a2438ac"
      },
      "execution_count": 84,
      "outputs": [
        {
          "output_type": "execute_result",
          "data": {
            "text/plain": [
              "['01234567890', '+91-1234567890', '1234567890', '12345-67890']"
            ]
          },
          "metadata": {},
          "execution_count": 84
        }
      ]
    },
    {
      "cell_type": "code",
      "source": [
        "re.findall(\".*\",s3) # .star any sequence of character, greedy search"
      ],
      "metadata": {
        "colab": {
          "base_uri": "https://localhost:8080/"
        },
        "id": "PvB8WPb7VXRG",
        "outputId": "3cd609c5-08d8-470b-c19e-9b8fe091db01"
      },
      "execution_count": 86,
      "outputs": [
        {
          "output_type": "execute_result",
          "data": {
            "text/plain": [
              "['I have my mobile numbers 01234567890, +91-1234567890, 1234567890, 12345-67890 and my building number is 48-25',\n",
              " '']"
            ]
          },
          "metadata": {},
          "execution_count": 86
        }
      ]
    },
    {
      "cell_type": "code",
      "source": [
        "re.findall(\".+\",s3)"
      ],
      "metadata": {
        "colab": {
          "base_uri": "https://localhost:8080/"
        },
        "id": "opcmZQ6LVpu5",
        "outputId": "bbfa7db8-9561-4f43-ddc5-b3e2986754d6"
      },
      "execution_count": 87,
      "outputs": [
        {
          "output_type": "execute_result",
          "data": {
            "text/plain": [
              "['I have my mobile numbers 01234567890, +91-1234567890, 1234567890, 12345-67890 and my building number is 48-25']"
            ]
          },
          "metadata": {},
          "execution_count": 87
        }
      ]
    },
    {
      "cell_type": "code",
      "source": [
        "s4 = \"My email ids are abc@xyz.se, abc_123@xyz.ac.in, abc.123@xyz.edu\""
      ],
      "metadata": {
        "id": "DORbnuCYV25G"
      },
      "execution_count": 88,
      "outputs": []
    },
    {
      "cell_type": "code",
      "source": [
        "re.findall(\"[a-z0-9]+@.*\",s4)"
      ],
      "metadata": {
        "colab": {
          "base_uri": "https://localhost:8080/"
        },
        "id": "FUVNk08IXNxM",
        "outputId": "1a0a4a9a-8ab1-43c6-bb41-a7e8aec4c0f1"
      },
      "execution_count": 92,
      "outputs": [
        {
          "output_type": "execute_result",
          "data": {
            "text/plain": [
              "['abc@xyz.se, abc_123@xyz.ac.in, abc.123@xyz.edu']"
            ]
          },
          "metadata": {},
          "execution_count": 92
        }
      ]
    },
    {
      "cell_type": "code",
      "source": [
        "re.findall(\"[a-z]+@.*[a-z0-9]\",s4)"
      ],
      "metadata": {
        "colab": {
          "base_uri": "https://localhost:8080/"
        },
        "id": "6QsNfONuWK2J",
        "outputId": "284bb153-522e-4e5e-a138-63e64ab71434"
      },
      "execution_count": 93,
      "outputs": [
        {
          "output_type": "execute_result",
          "data": {
            "text/plain": [
              "['abc@xyz.se, abc_123@xyz.ac.in, abc.123@xyz.edu']"
            ]
          },
          "metadata": {},
          "execution_count": 93
        }
      ]
    },
    {
      "cell_type": "code",
      "source": [
        "re.findall(\"\\S+@\\w{3}[.\\w]+\",s4)"
      ],
      "metadata": {
        "colab": {
          "base_uri": "https://localhost:8080/"
        },
        "id": "wGYEIf8QaF9m",
        "outputId": "d356503f-9b59-4fe8-90c7-8fc21b57bdf0"
      },
      "execution_count": 103,
      "outputs": [
        {
          "output_type": "execute_result",
          "data": {
            "text/plain": [
              "['abc@xyz.se', 'abc_123@xyz.ac.in', 'abc.123@xyz.edu']"
            ]
          },
          "metadata": {},
          "execution_count": 103
        }
      ]
    },
    {
      "cell_type": "code",
      "source": [
        "s5 = \"The names are Subhasis Dasgupta, Anirban Sengupta, Jaydeep Sen, Rudradeep Dasgupta and Subhasis Sengupta\""
      ],
      "metadata": {
        "id": "-NMmkEnIX5fJ"
      },
      "execution_count": 94,
      "outputs": []
    },
    {
      "cell_type": "code",
      "source": [
        "\"Query: How many names are there with surname as Dasgupta?\""
      ],
      "metadata": {
        "colab": {
          "base_uri": "https://localhost:8080/",
          "height": 35
        },
        "id": "44Y9xlLyYk5A",
        "outputId": "337e1152-2c12-4e60-c29c-3ada557bbba1"
      },
      "execution_count": 95,
      "outputs": [
        {
          "output_type": "execute_result",
          "data": {
            "text/plain": [
              "'Query: How many names are there with surname as Dasgupta?'"
            ],
            "application/vnd.google.colaboratory.intrinsic+json": {
              "type": "string"
            }
          },
          "metadata": {},
          "execution_count": 95
        }
      ]
    },
    {
      "cell_type": "code",
      "source": [
        "re.findall(\"[A-Z][a-z]+(?= Dasgupta)\",s5) # look ahead assertion "
      ],
      "metadata": {
        "colab": {
          "base_uri": "https://localhost:8080/"
        },
        "id": "AqQgvdpDYyQK",
        "outputId": "3b8d590f-50ec-48f6-96e0-11870193efd4"
      },
      "execution_count": 99,
      "outputs": [
        {
          "output_type": "execute_result",
          "data": {
            "text/plain": [
              "['Subhasis', 'Rudradeep']"
            ]
          },
          "metadata": {},
          "execution_count": 99
        }
      ]
    },
    {
      "cell_type": "code",
      "source": [
        "re.findall(\"(?<=Subhasis )[A-Za-z]+\",s5) # look behind assertion"
      ],
      "metadata": {
        "colab": {
          "base_uri": "https://localhost:8080/"
        },
        "id": "94KMWFwHZQ0m",
        "outputId": "ddfdce2a-2017-4475-be66-20608774be7f"
      },
      "execution_count": 101,
      "outputs": [
        {
          "output_type": "execute_result",
          "data": {
            "text/plain": [
              "['Dasgupta', 'Sengupta']"
            ]
          },
          "metadata": {},
          "execution_count": 101
        }
      ]
    }
  ]
}